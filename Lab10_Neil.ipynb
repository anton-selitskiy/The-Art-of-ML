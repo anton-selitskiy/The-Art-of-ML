{
  "cells": [
    {
      "cell_type": "markdown",
      "metadata": {
        "id": "tT5ko2ExtQpT"
      },
      "source": [
        "# Lab10 – Training Deep Neural Networks"
      ]
    },
    {
      "cell_type": "markdown",
      "metadata": {
        "id": "07jNIh4htQpV"
      },
      "source": [
        "# Setup"
      ]
    },
    {
      "cell_type": "markdown",
      "metadata": {
        "id": "9UnXgCvytQpW"
      },
      "source": [
        "First, let's import a few common modules, ensure MatplotLib plots figures inline and prepare a function to save the figures. We also check that Python 3.5 or later is installed (although Python 2.x may work, it is deprecated so we strongly recommend you use Python 3 instead), as well as Scikit-Learn ≥0.20 and TensorFlow ≥2.0."
      ]
    },
    {
      "cell_type": "code",
      "execution_count": null,
      "metadata": {
        "id": "jJRoAM0MtQpX"
      },
      "outputs": [],
      "source": [
        "# Python ≥3.5 is required\n",
        "import sys\n",
        "assert sys.version_info >= (3, 5)\n",
        "\n",
        "# Scikit-Learn ≥0.20 is required\n",
        "import sklearn\n",
        "assert sklearn.__version__ >= \"0.20\"\n",
        "\n",
        "try:\n",
        "    # %tensorflow_version only exists in Colab.\n",
        "    %tensorflow_version 2.x\n",
        "except Exception:\n",
        "    pass\n",
        "\n",
        "# TensorFlow ≥2.0 is required\n",
        "import tensorflow as tf\n",
        "from tensorflow import keras\n",
        "assert tf.__version__ >= \"2.0\"\n",
        "\n",
        "%load_ext tensorboard\n",
        "\n",
        "# Common imports\n",
        "import numpy as np\n",
        "import os\n",
        "\n",
        "# to make this notebook's output stable across runs\n",
        "np.random.seed(42)\n",
        "\n",
        "# To plot pretty figures\n",
        "%matplotlib inline\n",
        "import matplotlib as mpl\n",
        "import matplotlib.pyplot as plt\n",
        "mpl.rc('axes', labelsize=14)\n",
        "mpl.rc('xtick', labelsize=12)\n",
        "mpl.rc('ytick', labelsize=12)\n",
        "\n",
        "# Where to save the figures\n",
        "PROJECT_ROOT_DIR = \".\"\n",
        "CHAPTER_ID = \"deep\"\n",
        "IMAGES_PATH = os.path.join(PROJECT_ROOT_DIR, \"images\", CHAPTER_ID)\n",
        "os.makedirs(IMAGES_PATH, exist_ok=True)\n",
        "\n",
        "def save_fig(fig_id, tight_layout=True, fig_extension=\"png\", resolution=300):\n",
        "    path = os.path.join(IMAGES_PATH, fig_id + \".\" + fig_extension)\n",
        "    print(\"Saving figure\", fig_id)\n",
        "    if tight_layout:\n",
        "        plt.tight_layout()\n",
        "    plt.savefig(path, format=fig_extension, dpi=resolution)\n",
        "\n",
        "import warnings\n",
        "warnings.filterwarnings('ignore')"
      ]
    },
    {
      "cell_type": "markdown",
      "metadata": {
        "id": "uDZ8Te2jtQpa"
      },
      "source": [
        "# Vanishing/Exploding Gradients Problem"
      ]
    },
    {
      "cell_type": "code",
      "execution_count": null,
      "metadata": {
        "id": "MyE3pTsAtQpa"
      },
      "outputs": [],
      "source": [
        "def logit(z):\n",
        "    return 1 / (1 + np.exp(-z))"
      ]
    },
    {
      "cell_type": "code",
      "execution_count": null,
      "metadata": {
        "id": "-Vn9hUcqtQpb",
        "outputId": "cc01f822-e971-49f2-f7a1-d81a12cbc117"
      },
      "outputs": [
        {
          "name": "stdout",
          "output_type": "stream",
          "text": [
            "Saving figure sigmoid_saturation_plot\n"
          ]
        },
        {
          "data": {
            "image/png": "[encoded data removed]",
            "text/plain": [
              "<Figure size 432x288 with 1 Axes>"
            ]
          },
          "metadata": {
            "needs_background": "light"
          },
          "output_type": "display_data"
        }
      ],
      "source": [
        "z = np.linspace(-5, 5, 200)\n",
        "\n",
        "plt.plot([-5, 5], [0, 0], 'k-')\n",
        "plt.plot([-5, 5], [1, 1], 'k--')\n",
        "plt.plot([0, 0], [-0.2, 1.2], 'k-')\n",
        "plt.plot([-5, 5], [-3/4, 7/4], 'g--')\n",
        "plt.plot(z, logit(z), \"b-\", linewidth=2)\n",
        "props = dict(facecolor='black', shrink=0.1)\n",
        "plt.annotate('Saturating', xytext=(3.5, 0.7), xy=(5, 1), arrowprops=props, fontsize=14, ha=\"center\")\n",
        "plt.annotate('Saturating', xytext=(-3.5, 0.3), xy=(-5, 0), arrowprops=props, fontsize=14, ha=\"center\")\n",
        "plt.annotate('Linear', xytext=(2, 0.2), xy=(0, 0.5), arrowprops=props, fontsize=14, ha=\"center\")\n",
        "plt.grid(True)\n",
        "plt.title(\"Sigmoid activation function\", fontsize=14)\n",
        "plt.axis([-5, 5, -0.2, 1.2])\n",
        "\n",
        "save_fig(\"sigmoid_saturation_plot\")\n",
        "plt.show()"
      ]
    },
    {
      "cell_type": "markdown",
      "metadata": {
        "id": "K5pYjE7utQpb"
      },
      "source": [
        "## Xavier and He Initialization"
      ]
    },
    {
      "cell_type": "code",
      "execution_count": null,
      "metadata": {
        "id": "NiJH0UKWtQpc",
        "outputId": "60bc6204-3274-401a-ccf6-fe82c9fc5d4e"
      },
      "outputs": [
        {
          "data": {
            "text/plain": [
              "['Constant',\n",
              " 'GlorotNormal',\n",
              " 'GlorotUniform',\n",
              " 'Identity',\n",
              " 'Initializer',\n",
              " 'Ones',\n",
              " 'Orthogonal',\n",
              " 'RandomNormal',\n",
              " 'RandomUniform',\n",
              " 'TruncatedNormal',\n",
              " 'VarianceScaling',\n",
              " 'Zeros',\n",
              " 'constant',\n",
              " 'deserialize',\n",
              " 'get',\n",
              " 'glorot_normal',\n",
              " 'glorot_uniform',\n",
              " 'he_normal',\n",
              " 'he_uniform',\n",
              " 'identity',\n",
              " 'lecun_normal',\n",
              " 'lecun_uniform',\n",
              " 'ones',\n",
              " 'orthogonal',\n",
              " 'serialize',\n",
              " 'zeros']"
            ]
          },
          "execution_count": 4,
          "metadata": {},
          "output_type": "execute_result"
        }
      ],
      "source": [
        "[name for name in dir(keras.initializers) if not name.startswith(\"_\")]"
      ]
    },
    {
      "cell_type": "code",
      "execution_count": null,
      "metadata": {
        "id": "nyqK94SYtQpd",
        "outputId": "b54d1804-de11-47ec-ffcd-981312528a8c"
      },
      "outputs": [
        {
          "data": {
            "text/plain": [
              "<tensorflow.python.keras.layers.core.Dense at 0x7ff79c758950>"
            ]
          },
          "execution_count": 5,
          "metadata": {},
          "output_type": "execute_result"
        }
      ],
      "source": [
        "keras.layers.Dense(10, activation=\"relu\", kernel_initializer=\"he_normal\")"
      ]
    },
    {
      "cell_type": "code",
      "execution_count": null,
      "metadata": {
        "id": "z8K7NhXStQpe",
        "outputId": "1a3e851c-4a9b-4e9c-ea30-059d95ea9c10"
      },
      "outputs": [
        {
          "data": {
            "text/plain": [
              "<tensorflow.python.keras.layers.core.Dense at 0x7ff70898cc50>"
            ]
          },
          "execution_count": 6,
          "metadata": {},
          "output_type": "execute_result"
        }
      ],
      "source": [
        "init = keras.initializers.VarianceScaling(scale=2., mode='fan_avg',\n",
        "                                          distribution='uniform')\n",
        "keras.layers.Dense(10, activation=\"relu\", kernel_initializer=init)"
      ]
    },
    {
      "cell_type": "markdown",
      "metadata": {
        "id": "zCnoVXXDtQpe"
      },
      "source": [
        "## Nonsaturating Activation Functions"
      ]
    },
    {
      "cell_type": "markdown",
      "metadata": {
        "id": "RBiv3oLItQpf"
      },
      "source": [
        "### Leaky ReLU"
      ]
    },
    {
      "cell_type": "code",
      "execution_count": null,
      "metadata": {
        "id": "w_ZnvKSBtQpf"
      },
      "outputs": [],
      "source": [
        "def leaky_relu(z, alpha=0.01):\n",
        "    return np.maximum(alpha*z, z)"
      ]
    },
    {
      "cell_type": "code",
      "execution_count": null,
      "metadata": {
        "id": "_211in8wtQpg",
        "outputId": "16b2c2f0-8fcf-4471-e1ba-7ffce8f9366d"
      },
      "outputs": [
        {
          "name": "stdout",
          "output_type": "stream",
          "text": [
            "Saving figure leaky_relu_plot\n"
          ]
        },
        {
          "data": {
            "image/png": "[encoded data removed]",
            "text/plain": [
              "<Figure size 432x288 with 1 Axes>"
            ]
          },
          "metadata": {
            "needs_background": "light"
          },
          "output_type": "display_data"
        }
      ],
      "source": [
        "plt.plot(z, leaky_relu(z, 0.05), \"b-\", linewidth=2)\n",
        "plt.plot([-5, 5], [0, 0], 'k-')\n",
        "plt.plot([0, 0], [-0.5, 4.2], 'k-')\n",
        "plt.grid(True)\n",
        "props = dict(facecolor='black', shrink=0.1)\n",
        "plt.annotate('Leak', xytext=(-3.5, 0.5), xy=(-5, -0.2), arrowprops=props, fontsize=14, ha=\"center\")\n",
        "plt.title(\"Leaky ReLU activation function\", fontsize=14)\n",
        "plt.axis([-5, 5, -0.5, 4.2])\n",
        "\n",
        "save_fig(\"leaky_relu_plot\")\n",
        "plt.show()"
      ]
    },
    {
      "cell_type": "code",
      "execution_count": null,
      "metadata": {
        "id": "eNkLzcH-tQph",
        "outputId": "3a7b3785-8c00-4216-8ff1-69b349b67780"
      },
      "outputs": [
        {
          "data": {
            "text/plain": [
              "['deserialize',\n",
              " 'elu',\n",
              " 'exponential',\n",
              " 'get',\n",
              " 'hard_sigmoid',\n",
              " 'linear',\n",
              " 'relu',\n",
              " 'selu',\n",
              " 'serialize',\n",
              " 'sigmoid',\n",
              " 'softmax',\n",
              " 'softplus',\n",
              " 'softsign',\n",
              " 'tanh']"
            ]
          },
          "execution_count": 9,
          "metadata": {},
          "output_type": "execute_result"
        }
      ],
      "source": [
        "[m for m in dir(keras.activations) if not m.startswith(\"_\")]"
      ]
    },
    {
      "cell_type": "code",
      "execution_count": null,
      "metadata": {
        "id": "-0xZsw1otQph",
        "outputId": "1a4c285b-b67f-49e0-b7f5-1f071d85432d"
      },
      "outputs": [
        {
          "data": {
            "text/plain": [
              "['LeakyReLU', 'PReLU', 'ReLU', 'ThresholdedReLU']"
            ]
          },
          "execution_count": 10,
          "metadata": {},
          "output_type": "execute_result"
        }
      ],
      "source": [
        "[m for m in dir(keras.layers) if \"relu\" in m.lower()]"
      ]
    },
    {
      "cell_type": "markdown",
      "metadata": {
        "id": "9-iL_2_rtQpi"
      },
      "source": [
        "Let's train a neural network on Fashion MNIST using the Leaky ReLU:"
      ]
    },
    {
      "cell_type": "code",
      "execution_count": null,
      "metadata": {
        "id": "FgZm3MjdtQpi"
      },
      "outputs": [],
      "source": [
        "(X_train_full, y_train_full), (X_test, y_test) = keras.datasets.fashion_mnist.load_data()\n",
        "X_train_full = X_train_full / 255.0\n",
        "X_test = X_test / 255.0\n",
        "X_valid, X_train = X_train_full[:5000], X_train_full[5000:]\n",
        "y_valid, y_train = y_train_full[:5000], y_train_full[5000:]"
      ]
    },
    {
      "cell_type": "code",
      "execution_count": null,
      "metadata": {
        "id": "BdEF-OVBtQpj",
        "outputId": "af240255-3d57-4656-bb82-17f8d5e3c988"
      },
      "outputs": [
        {
          "name": "stderr",
          "output_type": "stream",
          "text": [
            "2022-03-24 23:26:47.698525: I tensorflow/stream_executor/platform/default/dso_loader.cc:44] Successfully opened dynamic library libcuda.so.1\n",
            "2022-03-24 23:26:47.718297: I tensorflow/stream_executor/cuda/cuda_gpu_executor.cc:981] successful NUMA node read from SysFS had negative value (-1), but there must be at least one NUMA node, so returning NUMA node zero\n",
            "2022-03-24 23:26:47.718537: I tensorflow/core/common_runtime/gpu/gpu_device.cc:1555] Found device 0 with properties: \n",
            "pciBusID: 0000:01:00.0 name: NVIDIA GeForce RTX 3080 computeCapability: 8.6\n",
            "coreClock: 1.8GHz coreCount: 68 deviceMemorySize: 9.77GiB deviceMemoryBandwidth: 707.88GiB/s\n",
            "2022-03-24 23:26:47.718647: I tensorflow/stream_executor/platform/default/dso_loader.cc:44] Successfully opened dynamic library libcudart.so.10.1\n",
            "2022-03-24 23:26:47.719552: I tensorflow/stream_executor/platform/default/dso_loader.cc:44] Successfully opened dynamic library libcublas.so.10\n",
            "2022-03-24 23:26:47.720434: I tensorflow/stream_executor/platform/default/dso_loader.cc:44] Successfully opened dynamic library libcufft.so.10\n",
            "2022-03-24 23:26:47.720584: I tensorflow/stream_executor/platform/default/dso_loader.cc:44] Successfully opened dynamic library libcurand.so.10\n",
            "2022-03-24 23:26:47.721495: I tensorflow/stream_executor/platform/default/dso_loader.cc:44] Successfully opened dynamic library libcusolver.so.10\n",
            "2022-03-24 23:26:47.721911: I tensorflow/stream_executor/platform/default/dso_loader.cc:44] Successfully opened dynamic library libcusparse.so.10\n",
            "2022-03-24 23:26:47.723780: I tensorflow/stream_executor/platform/default/dso_loader.cc:44] Successfully opened dynamic library libcudnn.so.7\n",
            "2022-03-24 23:26:47.723833: I tensorflow/stream_executor/cuda/cuda_gpu_executor.cc:981] successful NUMA node read from SysFS had negative value (-1), but there must be at least one NUMA node, so returning NUMA node zero\n",
            "2022-03-24 23:26:47.724083: I tensorflow/stream_executor/cuda/cuda_gpu_executor.cc:981] successful NUMA node read from SysFS had negative value (-1), but there must be at least one NUMA node, so returning NUMA node zero\n",
            "2022-03-24 23:26:47.724293: I tensorflow/core/common_runtime/gpu/gpu_device.cc:1697] Adding visible gpu devices: 0\n",
            "2022-03-24 23:26:47.724523: I tensorflow/core/platform/cpu_feature_guard.cc:142] Your CPU supports instructions that this TensorFlow binary was not compiled to use: SSE4.1 SSE4.2 AVX AVX2 FMA\n",
            "2022-03-24 23:26:47.728362: I tensorflow/core/platform/profile_utils/cpu_utils.cc:94] CPU Frequency: 3699850000 Hz\n",
            "2022-03-24 23:26:47.728709: I tensorflow/compiler/xla/service/service.cc:168] XLA service 0x55db2ccfc2a0 initialized for platform Host (this does not guarantee that XLA will be used). Devices:\n",
            "2022-03-24 23:26:47.728723: I tensorflow/compiler/xla/service/service.cc:176]   StreamExecutor device (0): Host, Default Version\n",
            "2022-03-24 23:26:47.728826: I tensorflow/stream_executor/cuda/cuda_gpu_executor.cc:981] successful NUMA node read from SysFS had negative value (-1), but there must be at least one NUMA node, so returning NUMA node zero\n",
            "2022-03-24 23:26:47.729050: I tensorflow/core/common_runtime/gpu/gpu_device.cc:1555] Found device 0 with properties: \n",
            "pciBusID: 0000:01:00.0 name: NVIDIA GeForce RTX 3080 computeCapability: 8.6\n",
            "coreClock: 1.8GHz coreCount: 68 deviceMemorySize: 9.77GiB deviceMemoryBandwidth: 707.88GiB/s\n",
            "2022-03-24 23:26:47.729068: I tensorflow/stream_executor/platform/default/dso_loader.cc:44] Successfully opened dynamic library libcudart.so.10.1\n",
            "2022-03-24 23:26:47.729078: I tensorflow/stream_executor/platform/default/dso_loader.cc:44] Successfully opened dynamic library libcublas.so.10\n",
            "2022-03-24 23:26:47.729087: I tensorflow/stream_executor/platform/default/dso_loader.cc:44] Successfully opened dynamic library libcufft.so.10\n",
            "2022-03-24 23:26:47.729095: I tensorflow/stream_executor/platform/default/dso_loader.cc:44] Successfully opened dynamic library libcurand.so.10\n",
            "2022-03-24 23:26:47.729105: I tensorflow/stream_executor/platform/default/dso_loader.cc:44] Successfully opened dynamic library libcusolver.so.10\n",
            "2022-03-24 23:26:47.729114: I tensorflow/stream_executor/platform/default/dso_loader.cc:44] Successfully opened dynamic library libcusparse.so.10\n",
            "2022-03-24 23:26:47.729123: I tensorflow/stream_executor/platform/default/dso_loader.cc:44] Successfully opened dynamic library libcudnn.so.7\n",
            "2022-03-24 23:26:47.729153: I tensorflow/stream_executor/cuda/cuda_gpu_executor.cc:981] successful NUMA node read from SysFS had negative value (-1), but there must be at least one NUMA node, so returning NUMA node zero\n",
            "2022-03-24 23:26:47.729386: I tensorflow/stream_executor/cuda/cuda_gpu_executor.cc:981] successful NUMA node read from SysFS had negative value (-1), but there must be at least one NUMA node, so returning NUMA node zero\n",
            "2022-03-24 23:26:47.729651: I tensorflow/core/common_runtime/gpu/gpu_device.cc:1697] Adding visible gpu devices: 0\n",
            "2022-03-24 23:26:47.729674: I tensorflow/stream_executor/platform/default/dso_loader.cc:44] Successfully opened dynamic library libcudart.so.10.1\n",
            "2022-03-24 23:26:47.780828: I tensorflow/core/common_runtime/gpu/gpu_device.cc:1096] Device interconnect StreamExecutor with strength 1 edge matrix:\n",
            "2022-03-24 23:26:47.780844: I tensorflow/core/common_runtime/gpu/gpu_device.cc:1102]      0 \n",
            "2022-03-24 23:26:47.780848: I tensorflow/core/common_runtime/gpu/gpu_device.cc:1115] 0:   N \n",
            "2022-03-24 23:26:47.780955: I tensorflow/stream_executor/cuda/cuda_gpu_executor.cc:981] successful NUMA node read from SysFS had negative value (-1), but there must be at least one NUMA node, so returning NUMA node zero\n",
            "2022-03-24 23:26:47.781217: I tensorflow/stream_executor/cuda/cuda_gpu_executor.cc:981] successful NUMA node read from SysFS had negative value (-1), but there must be at least one NUMA node, so returning NUMA node zero\n",
            "2022-03-24 23:26:47.781454: I tensorflow/stream_executor/cuda/cuda_gpu_executor.cc:981] successful NUMA node read from SysFS had negative value (-1), but there must be at least one NUMA node, so returning NUMA node zero\n",
            "2022-03-24 23:26:47.781690: I tensorflow/core/common_runtime/gpu/gpu_device.cc:1241] Created TensorFlow device (/job:localhost/replica:0/task:0/device:GPU:0 with 8639 MB memory) -> physical GPU (device: 0, name: NVIDIA GeForce RTX 3080, pci bus id: 0000:01:00.0, compute capability: 8.6)\n",
            "2022-03-24 23:26:47.782637: I tensorflow/compiler/xla/service/service.cc:168] XLA service 0x55db2e7d1690 initialized for platform CUDA (this does not guarantee that XLA will be used). Devices:\n",
            "2022-03-24 23:26:47.782645: I tensorflow/compiler/xla/service/service.cc:176]   StreamExecutor device (0): NVIDIA GeForce RTX 3080, Compute Capability 8.6\n"
          ]
        }
      ],
      "source": [
        "tf.random.set_seed(42)\n",
        "np.random.seed(42)\n",
        "\n",
        "model = keras.models.Sequential([\n",
        "    keras.layers.Flatten(input_shape=[28, 28]),\n",
        "    keras.layers.Dense(300, kernel_initializer=\"he_normal\"),\n",
        "    keras.layers.LeakyReLU(),\n",
        "    keras.layers.Dense(100, kernel_initializer=\"he_normal\"),\n",
        "    keras.layers.LeakyReLU(),\n",
        "    keras.layers.Dense(10, activation=\"softmax\")\n",
        "])"
      ]
    },
    {
      "cell_type": "code",
      "execution_count": null,
      "metadata": {
        "id": "h_HCFDBatQpj"
      },
      "outputs": [],
      "source": [
        "model.compile(loss=\"sparse_categorical_crossentropy\",\n",
        "              optimizer=keras.optimizers.SGD(learning_rate=1e-3),\n",
        "              metrics=[\"accuracy\"])"
      ]
    },
    {
      "cell_type": "code",
      "execution_count": null,
      "metadata": {
        "scrolled": false,
        "id": "66KvYB7jtQpj",
        "outputId": "edba69ad-4144-4b9c-a2ac-43d89430182a"
      },
      "outputs": [
        {
          "name": "stderr",
          "output_type": "stream",
          "text": [
            "2022-03-24 23:30:07.293499: W tensorflow/core/framework/cpu_allocator_impl.cc:81] Allocation of 344960000 exceeds 10% of system memory.\n",
            "2022-03-24 23:30:07.531344: I tensorflow/stream_executor/platform/default/dso_loader.cc:44] Successfully opened dynamic library libcublas.so.10\n"
          ]
        },
        {
          "name": "stdout",
          "output_type": "stream",
          "text": [
            "Train on 55000 samples, validate on 5000 samples\n",
            "Epoch 1/10\n",
            "55000/55000 [==============================] - 73s 1ms/sample - loss: 1.2810 - accuracy: 0.6205 - val_loss: 0.8869 - val_accuracy: 0.7160\n",
            "Epoch 2/10\n",
            "55000/55000 [==============================] - 2s 29us/sample - loss: 0.7952 - accuracy: 0.7368 - val_loss: 0.7132 - val_accuracy: 0.7626\n",
            "Epoch 3/10\n",
            "55000/55000 [==============================] - 2s 29us/sample - loss: 0.6817 - accuracy: 0.7726 - val_loss: 0.6385 - val_accuracy: 0.7896\n",
            "Epoch 4/10\n",
            "55000/55000 [==============================] - 2s 30us/sample - loss: 0.6219 - accuracy: 0.7941 - val_loss: 0.5931 - val_accuracy: 0.8016\n",
            "Epoch 5/10\n",
            "55000/55000 [==============================] - 2s 30us/sample - loss: 0.5829 - accuracy: 0.8074 - val_loss: 0.5607 - val_accuracy: 0.8166\n",
            "Epoch 6/10\n",
            "55000/55000 [==============================] - 2s 29us/sample - loss: 0.5552 - accuracy: 0.8172 - val_loss: 0.5354 - val_accuracy: 0.8240\n",
            "Epoch 7/10\n",
            "55000/55000 [==============================] - 2s 29us/sample - loss: 0.5338 - accuracy: 0.8224 - val_loss: 0.5166 - val_accuracy: 0.8300\n",
            "Epoch 8/10\n",
            "55000/55000 [==============================] - 2s 30us/sample - loss: 0.5172 - accuracy: 0.8261 - val_loss: 0.5043 - val_accuracy: 0.8356\n",
            "Epoch 9/10\n",
            "55000/55000 [==============================] - 2s 30us/sample - loss: 0.5039 - accuracy: 0.8305 - val_loss: 0.4889 - val_accuracy: 0.8386\n",
            "Epoch 10/10\n",
            "55000/55000 [==============================] - 2s 30us/sample - loss: 0.4922 - accuracy: 0.8333 - val_loss: 0.4816 - val_accuracy: 0.8396\n"
          ]
        }
      ],
      "source": [
        "history = model.fit(X_train, y_train, epochs=10,\n",
        "                    validation_data=(X_valid, y_valid))"
      ]
    },
    {
      "cell_type": "markdown",
      "metadata": {
        "id": "h-_pojcYtQpj"
      },
      "source": [
        "Now let's try PReLU:"
      ]
    },
    {
      "cell_type": "code",
      "execution_count": null,
      "metadata": {
        "id": "O2Nt-rMAtQpk"
      },
      "outputs": [],
      "source": [
        "tf.random.set_seed(42)\n",
        "np.random.seed(42)\n",
        "\n",
        "model = keras.models.Sequential([\n",
        "    keras.layers.Flatten(input_shape=[28, 28]),\n",
        "    keras.layers.Dense(300, kernel_initializer=\"he_normal\"),\n",
        "    keras.layers.PReLU(),\n",
        "    keras.layers.Dense(100, kernel_initializer=\"he_normal\"),\n",
        "    keras.layers.PReLU(),\n",
        "    keras.layers.Dense(10, activation=\"softmax\")\n",
        "])"
      ]
    },
    {
      "cell_type": "code",
      "execution_count": null,
      "metadata": {
        "id": "13oL-5fltQpk"
      },
      "outputs": [],
      "source": [
        "model.compile(loss=\"sparse_categorical_crossentropy\",\n",
        "              optimizer=keras.optimizers.SGD(learning_rate=1e-3),\n",
        "              metrics=[\"accuracy\"])"
      ]
    },
    {
      "cell_type": "code",
      "execution_count": null,
      "metadata": {
        "id": "0qE-eFJctQpk",
        "outputId": "3f963e82-a419-4630-878b-ca024a458aee"
      },
      "outputs": [
        {
          "name": "stdout",
          "output_type": "stream",
          "text": [
            "Train on 55000 samples, validate on 5000 samples\n",
            "Epoch 1/10\n",
            "   32/55000 [..............................] - ETA: 4:13 - loss: 2.3851 - accuracy: 0.1562"
          ]
        },
        {
          "name": "stderr",
          "output_type": "stream",
          "text": [
            "2022-03-24 23:31:35.154954: W tensorflow/core/framework/cpu_allocator_impl.cc:81] Allocation of 344960000 exceeds 10% of system memory.\n"
          ]
        },
        {
          "name": "stdout",
          "output_type": "stream",
          "text": [
            "55000/55000 [==============================] - 2s 36us/sample - loss: 1.3452 - accuracy: 0.6203 - val_loss: 0.9241 - val_accuracy: 0.7170\n",
            "Epoch 2/10\n",
            "55000/55000 [==============================] - 2s 32us/sample - loss: 0.8196 - accuracy: 0.7364 - val_loss: 0.7313 - val_accuracy: 0.7598\n",
            "Epoch 3/10\n",
            "55000/55000 [==============================] - 2s 32us/sample - loss: 0.6970 - accuracy: 0.7701 - val_loss: 0.6517 - val_accuracy: 0.7874\n",
            "Epoch 4/10\n",
            "55000/55000 [==============================] - 2s 32us/sample - loss: 0.6333 - accuracy: 0.7915 - val_loss: 0.6033 - val_accuracy: 0.8052\n",
            "Epoch 5/10\n",
            "55000/55000 [==============================] - 2s 32us/sample - loss: 0.5917 - accuracy: 0.8049 - val_loss: 0.5689 - val_accuracy: 0.8162\n",
            "Epoch 6/10\n",
            "55000/55000 [==============================] - 2s 32us/sample - loss: 0.5619 - accuracy: 0.8143 - val_loss: 0.5416 - val_accuracy: 0.8220\n",
            "Epoch 7/10\n",
            "55000/55000 [==============================] - 2s 32us/sample - loss: 0.5392 - accuracy: 0.8205 - val_loss: 0.5214 - val_accuracy: 0.8298\n",
            "Epoch 8/10\n",
            "55000/55000 [==============================] - 2s 32us/sample - loss: 0.5215 - accuracy: 0.8257 - val_loss: 0.5075 - val_accuracy: 0.8350\n",
            "Epoch 9/10\n",
            "55000/55000 [==============================] - 2s 32us/sample - loss: 0.5071 - accuracy: 0.8287 - val_loss: 0.4918 - val_accuracy: 0.8384\n",
            "Epoch 10/10\n",
            "55000/55000 [==============================] - 2s 33us/sample - loss: 0.4946 - accuracy: 0.8322 - val_loss: 0.4839 - val_accuracy: 0.8376\n"
          ]
        }
      ],
      "source": [
        "history = model.fit(X_train, y_train, epochs=10,\n",
        "                    validation_data=(X_valid, y_valid))"
      ]
    },
    {
      "cell_type": "markdown",
      "metadata": {
        "id": "1aiS-aG8tQpl"
      },
      "source": [
        "### ELU"
      ]
    },
    {
      "cell_type": "code",
      "execution_count": null,
      "metadata": {
        "id": "BNwtY43LtQpl"
      },
      "outputs": [],
      "source": [
        "def elu(z, alpha=1):\n",
        "    return np.where(z < 0, alpha * (np.exp(z) - 1), z)"
      ]
    },
    {
      "cell_type": "code",
      "execution_count": null,
      "metadata": {
        "id": "ILIJNs5JtQpl",
        "outputId": "d05284b6-7a14-4857-a595-78b748961055"
      },
      "outputs": [
        {
          "name": "stdout",
          "output_type": "stream",
          "text": [
            "Saving figure elu_plot\n"
          ]
        },
        {
          "data": {
            "image/png": "[encoded data removed]",
            "text/plain": [
              "<Figure size 432x288 with 1 Axes>"
            ]
          },
          "metadata": {
            "needs_background": "light"
          },
          "output_type": "display_data"
        }
      ],
      "source": [
        "plt.plot(z, elu(z), \"b-\", linewidth=2)\n",
        "plt.plot([-5, 5], [0, 0], 'k-')\n",
        "plt.plot([-5, 5], [-1, -1], 'k--')\n",
        "plt.plot([0, 0], [-2.2, 3.2], 'k-')\n",
        "plt.grid(True)\n",
        "plt.title(r\"ELU activation function ($\\alpha=1$)\", fontsize=14)\n",
        "plt.axis([-5, 5, -2.2, 3.2])\n",
        "\n",
        "save_fig(\"elu_plot\")\n",
        "plt.show()"
      ]
    },
    {
      "cell_type": "markdown",
      "metadata": {
        "id": "8a6VipAitQpm"
      },
      "source": [
        "Implementing ELU in TensorFlow is trivial, just specify the activation function when building each layer:"
      ]
    },
    {
      "cell_type": "code",
      "execution_count": null,
      "metadata": {
        "id": "WE_kfInktQpm",
        "outputId": "215e0158-ebc7-49bd-dc67-613217aaa1ca"
      },
      "outputs": [
        {
          "data": {
            "text/plain": [
              "<tensorflow.python.keras.layers.core.Dense at 0x7ff704211910>"
            ]
          },
          "execution_count": 20,
          "metadata": {},
          "output_type": "execute_result"
        }
      ],
      "source": [
        "keras.layers.Dense(10, activation=\"elu\")"
      ]
    },
    {
      "cell_type": "markdown",
      "metadata": {
        "id": "ImMa-JtstQpm"
      },
      "source": [
        "### SELU"
      ]
    },
    {
      "cell_type": "markdown",
      "metadata": {
        "id": "xJS6yK-DtQpn"
      },
      "source": [
        "This activation function was proposed in this [great paper](https://arxiv.org/pdf/1706.02515.pdf) by Günter Klambauer, Thomas Unterthiner and Andreas Mayr, published in June 2017. During training, a neural network composed exclusively of a stack of dense layers using the SELU activation function and LeCun initialization will self-normalize: the output of each layer will tend to preserve the same mean and variance during training, which solves the vanishing/exploding gradients problem. As a result, this activation function outperforms the other activation functions very significantly for such neural nets, so you should really try it out. Unfortunately, the self-normalizing property of the SELU activation function is easily broken: you cannot use ℓ<sub>1</sub> or ℓ<sub>2</sub> regularization, regular dropout, max-norm, skip connections or other non-sequential topologies (so recurrent neural networks won't self-normalize). However, in practice it works quite well with sequential CNNs. If you break self-normalization, SELU will not necessarily outperform other activation functions."
      ]
    },
    {
      "cell_type": "code",
      "execution_count": null,
      "metadata": {
        "id": "2F4xdDn0tQpn"
      },
      "outputs": [],
      "source": [
        "from scipy.special import erfc\n",
        "\n",
        "# alpha and scale to self normalize with mean 0 and standard deviation 1\n",
        "# (see equation 14 in the paper):\n",
        "alpha_0_1 = -np.sqrt(2 / np.pi) / (erfc(1/np.sqrt(2)) * np.exp(1/2) - 1)\n",
        "scale_0_1 = (1 - erfc(1 / np.sqrt(2)) * np.sqrt(np.e)) * np.sqrt(2 * np.pi) * (2 * erfc(np.sqrt(2))*np.e**2 + np.pi*erfc(1/np.sqrt(2))**2*np.e - 2*(2+np.pi)*erfc(1/np.sqrt(2))*np.sqrt(np.e)+np.pi+2)**(-1/2)"
      ]
    },
    {
      "cell_type": "code",
      "execution_count": null,
      "metadata": {
        "id": "okUA8XbEtQpo"
      },
      "outputs": [],
      "source": [
        "def selu(z, scale=scale_0_1, alpha=alpha_0_1):\n",
        "    return scale * elu(z, alpha)"
      ]
    },
    {
      "cell_type": "code",
      "execution_count": null,
      "metadata": {
        "id": "Gpkj_mZJtQpo",
        "outputId": "5698b05f-1dfd-4e7e-c1ef-960544e133d1"
      },
      "outputs": [
        {
          "name": "stdout",
          "output_type": "stream",
          "text": [
            "Saving figure selu_plot\n"
          ]
        },
        {
          "data": {
            "image/png": "[encoded data removed]",
            "text/plain": [
              "<Figure size 432x288 with 1 Axes>"
            ]
          },
          "metadata": {
            "needs_background": "light"
          },
          "output_type": "display_data"
        }
      ],
      "source": [
        "plt.plot(z, selu(z), \"b-\", linewidth=2)\n",
        "plt.plot([-5, 5], [0, 0], 'k-')\n",
        "plt.plot([-5, 5], [-1.758, -1.758], 'k--')\n",
        "plt.plot([0, 0], [-2.2, 3.2], 'k-')\n",
        "plt.grid(True)\n",
        "plt.title(\"SELU activation function\", fontsize=14)\n",
        "plt.axis([-5, 5, -2.2, 3.2])\n",
        "\n",
        "save_fig(\"selu_plot\")\n",
        "plt.show()"
      ]
    },
    {
      "cell_type": "markdown",
      "metadata": {
        "id": "BvtH84qDtQpp"
      },
      "source": [
        "By default, the SELU hyperparameters (`scale` and `alpha`) are tuned in such a way that the mean output of each neuron remains close to 0, and the standard deviation remains close to 1 (assuming the inputs are standardized with mean 0 and standard deviation 1 too). Using this activation function, even a 1,000 layer deep neural network preserves roughly mean 0 and standard deviation 1 across all layers, avoiding the exploding/vanishing gradients problem:"
      ]
    },
    {
      "cell_type": "code",
      "execution_count": null,
      "metadata": {
        "id": "6JW4ilKctQpp",
        "outputId": "d3232394-e69c-4f41-bf9d-15cff8d9cb87"
      },
      "outputs": [
        {
          "name": "stdout",
          "output_type": "stream",
          "text": [
            "Layer 0: mean -0.00, std deviation 1.00\n",
            "Layer 100: mean 0.02, std deviation 0.96\n",
            "Layer 200: mean 0.01, std deviation 0.90\n",
            "Layer 300: mean -0.02, std deviation 0.92\n",
            "Layer 400: mean 0.05, std deviation 0.89\n",
            "Layer 500: mean 0.01, std deviation 0.93\n",
            "Layer 600: mean 0.02, std deviation 0.92\n",
            "Layer 700: mean -0.02, std deviation 0.90\n",
            "Layer 800: mean 0.05, std deviation 0.83\n",
            "Layer 900: mean 0.02, std deviation 1.00\n"
          ]
        }
      ],
      "source": [
        "np.random.seed(42)\n",
        "Z = np.random.normal(size=(500, 100)) # standardized inputs\n",
        "for layer in range(1000):\n",
        "    W = np.random.normal(size=(100, 100), scale=np.sqrt(1 / 100)) # LeCun initialization\n",
        "    Z = selu(np.dot(Z, W))\n",
        "    means = np.mean(Z, axis=0).mean()\n",
        "    stds = np.std(Z, axis=0).mean()\n",
        "    if layer % 100 == 0:\n",
        "        print(\"Layer {}: mean {:.2f}, std deviation {:.2f}\".format(layer, means, stds))"
      ]
    },
    {
      "cell_type": "markdown",
      "metadata": {
        "id": "x-UEuH4btQpp"
      },
      "source": [
        "Using SELU is easy:"
      ]
    },
    {
      "cell_type": "code",
      "execution_count": null,
      "metadata": {
        "id": "QlQ5q6d2tQpq",
        "outputId": "dd68db77-5fc9-4ea9-ebc4-71b5f9687310"
      },
      "outputs": [
        {
          "data": {
            "text/plain": [
              "<tensorflow.python.keras.layers.core.Dense at 0x7ff7075465d0>"
            ]
          },
          "execution_count": 25,
          "metadata": {},
          "output_type": "execute_result"
        }
      ],
      "source": [
        "keras.layers.Dense(10, activation=\"selu\",\n",
        "                   kernel_initializer=\"lecun_normal\")"
      ]
    },
    {
      "cell_type": "markdown",
      "metadata": {
        "id": "vd5exQgKtQpq"
      },
      "source": [
        "Let's create a neural net for Fashion MNIST with 100 hidden layers, using the SELU activation function:"
      ]
    },
    {
      "cell_type": "code",
      "execution_count": null,
      "metadata": {
        "id": "2CIURvJMtQpq"
      },
      "outputs": [],
      "source": [
        "np.random.seed(42)\n",
        "tf.random.set_seed(42)"
      ]
    },
    {
      "cell_type": "code",
      "execution_count": null,
      "metadata": {
        "id": "q8q6L-n7tQpq"
      },
      "outputs": [],
      "source": [
        "model = keras.models.Sequential()\n",
        "model.add(keras.layers.Flatten(input_shape=[28, 28]))\n",
        "model.add(keras.layers.Dense(300, activation=\"selu\",\n",
        "                             kernel_initializer=\"lecun_normal\"))\n",
        "for layer in range(99):\n",
        "    model.add(keras.layers.Dense(100, activation=\"selu\",\n",
        "                                 kernel_initializer=\"lecun_normal\"))\n",
        "model.add(keras.layers.Dense(10, activation=\"softmax\"))"
      ]
    },
    {
      "cell_type": "code",
      "execution_count": null,
      "metadata": {
        "id": "LooI-7fmtQpr"
      },
      "outputs": [],
      "source": [
        "model.compile(loss=\"sparse_categorical_crossentropy\",\n",
        "              optimizer=keras.optimizers.SGD(learning_rate=1e-3),\n",
        "              metrics=[\"accuracy\"])"
      ]
    },
    {
      "cell_type": "markdown",
      "metadata": {
        "id": "UVoE5h07tQpr"
      },
      "source": [
        "Now let's train it. Do not forget to scale the inputs to mean 0 and standard deviation 1:"
      ]
    },
    {
      "cell_type": "code",
      "execution_count": null,
      "metadata": {
        "id": "w_H2a1EqtQpr"
      },
      "outputs": [],
      "source": [
        "pixel_means = X_train.mean(axis=0, keepdims=True)\n",
        "pixel_stds = X_train.std(axis=0, keepdims=True)\n",
        "X_train_scaled = (X_train - pixel_means) / pixel_stds\n",
        "X_valid_scaled = (X_valid - pixel_means) / pixel_stds\n",
        "X_test_scaled = (X_test - pixel_means) / pixel_stds"
      ]
    },
    {
      "cell_type": "code",
      "execution_count": null,
      "metadata": {
        "id": "2mUWo75PtQps",
        "outputId": "b749f161-af60-4267-af69-c89a7eea14a6"
      },
      "outputs": [
        {
          "name": "stderr",
          "output_type": "stream",
          "text": [
            "2022-03-24 23:31:56.205155: W tensorflow/core/framework/cpu_allocator_impl.cc:81] Allocation of 344960000 exceeds 10% of system memory.\n"
          ]
        },
        {
          "name": "stdout",
          "output_type": "stream",
          "text": [
            "Train on 55000 samples, validate on 5000 samples\n",
            "Epoch 1/5\n",
            "55000/55000 [==============================] - 13s 236us/sample - loss: 1.2312 - accuracy: 0.5264 - val_loss: 0.8534 - val_accuracy: 0.6566\n",
            "Epoch 2/5\n",
            "55000/55000 [==============================] - 12s 213us/sample - loss: 0.7434 - accuracy: 0.7323 - val_loss: 0.6314 - val_accuracy: 0.7796\n",
            "Epoch 3/5\n",
            "55000/55000 [==============================] - 11s 208us/sample - loss: 0.6484 - accuracy: 0.7687 - val_loss: 0.5795 - val_accuracy: 0.7956\n",
            "Epoch 4/5\n",
            "55000/55000 [==============================] - 11s 195us/sample - loss: 0.5643 - accuracy: 0.7977 - val_loss: 0.5688 - val_accuracy: 0.8024\n",
            "Epoch 5/5\n",
            "55000/55000 [==============================] - 10s 190us/sample - loss: 0.5171 - accuracy: 0.8198 - val_loss: 0.4765 - val_accuracy: 0.8352\n"
          ]
        }
      ],
      "source": [
        "history = model.fit(X_train_scaled, y_train, epochs=5,\n",
        "                    validation_data=(X_valid_scaled, y_valid))"
      ]
    },
    {
      "cell_type": "markdown",
      "metadata": {
        "id": "w7VCb6eYtQps"
      },
      "source": [
        "Now look at what happens if we try to use the ReLU activation function instead:"
      ]
    },
    {
      "cell_type": "code",
      "execution_count": null,
      "metadata": {
        "id": "MZpe-JYBtQps"
      },
      "outputs": [],
      "source": [
        "np.random.seed(42)\n",
        "tf.random.set_seed(42)"
      ]
    },
    {
      "cell_type": "code",
      "execution_count": null,
      "metadata": {
        "id": "wyeGJ78TtQpt"
      },
      "outputs": [],
      "source": [
        "model = keras.models.Sequential()\n",
        "model.add(keras.layers.Flatten(input_shape=[28, 28]))\n",
        "model.add(keras.layers.Dense(300, activation=\"relu\", kernel_initializer=\"he_normal\"))\n",
        "for layer in range(99):\n",
        "    model.add(keras.layers.Dense(100, activation=\"relu\", kernel_initializer=\"he_normal\"))\n",
        "model.add(keras.layers.Dense(10, activation=\"softmax\"))"
      ]
    },
    {
      "cell_type": "code",
      "execution_count": null,
      "metadata": {
        "id": "dZnUQ_DPtQpt"
      },
      "outputs": [],
      "source": [
        "model.compile(loss=\"sparse_categorical_crossentropy\",\n",
        "              optimizer=keras.optimizers.SGD(learning_rate=1e-3),\n",
        "              metrics=[\"accuracy\"])"
      ]
    },
    {
      "cell_type": "code",
      "execution_count": null,
      "metadata": {
        "id": "y8CxFQ-QtQpu",
        "outputId": "4bb21029-61af-42fd-a20a-ec89297a64d8"
      },
      "outputs": [
        {
          "name": "stderr",
          "output_type": "stream",
          "text": [
            "2022-03-24 23:32:54.358677: W tensorflow/core/framework/cpu_allocator_impl.cc:81] Allocation of 344960000 exceeds 10% of system memory.\n"
          ]
        },
        {
          "name": "stdout",
          "output_type": "stream",
          "text": [
            "Train on 55000 samples, validate on 5000 samples\n",
            "Epoch 1/5\n",
            "55000/55000 [==============================] - 15s 271us/sample - loss: 1.7651 - accuracy: 0.2824 - val_loss: 1.3234 - val_accuracy: 0.4344\n",
            "Epoch 2/5\n",
            "55000/55000 [==============================] - 12s 224us/sample - loss: 1.1533 - accuracy: 0.5118 - val_loss: 0.9359 - val_accuracy: 0.6336\n",
            "Epoch 3/5\n",
            "55000/55000 [==============================] - 12s 216us/sample - loss: 0.9595 - accuracy: 0.6179 - val_loss: 0.8124 - val_accuracy: 0.7020\n",
            "Epoch 4/5\n",
            "55000/55000 [==============================] - 14s 257us/sample - loss: 0.8133 - accuracy: 0.6798 - val_loss: 0.7530 - val_accuracy: 0.7078\n",
            "Epoch 5/5\n",
            "55000/55000 [==============================] - 11s 207us/sample - loss: 0.7290 - accuracy: 0.7176 - val_loss: 0.6383 - val_accuracy: 0.7624\n"
          ]
        }
      ],
      "source": [
        "history = model.fit(X_train_scaled, y_train, epochs=5,\n",
        "                    validation_data=(X_valid_scaled, y_valid))"
      ]
    },
    {
      "cell_type": "markdown",
      "metadata": {
        "id": "AFCYc1BftQpu"
      },
      "source": [
        "Not great at all, we suffered from the vanishing/exploding gradients problem."
      ]
    },
    {
      "cell_type": "markdown",
      "metadata": {
        "id": "x8xGwRYRtQpu"
      },
      "source": [
        "# Batch Normalization"
      ]
    },
    {
      "cell_type": "code",
      "execution_count": null,
      "metadata": {
        "id": "mN2EZ1fQtQpu"
      },
      "outputs": [],
      "source": [
        "model = keras.models.Sequential([\n",
        "    keras.layers.Flatten(input_shape=[28, 28]),\n",
        "    keras.layers.BatchNormalization(),\n",
        "    keras.layers.Dense(300, activation=\"relu\"),\n",
        "    keras.layers.BatchNormalization(),\n",
        "    keras.layers.Dense(100, activation=\"relu\"),\n",
        "    keras.layers.BatchNormalization(),\n",
        "    keras.layers.Dense(10, activation=\"softmax\")\n",
        "])"
      ]
    },
    {
      "cell_type": "code",
      "execution_count": null,
      "metadata": {
        "id": "lodKlSIItQpv",
        "outputId": "df5aebaa-b011-4c2b-a1c2-d07f6fff5235"
      },
      "outputs": [
        {
          "name": "stdout",
          "output_type": "stream",
          "text": [
            "Model: \"sequential_4\"\n",
            "_________________________________________________________________\n",
            "Layer (type)                 Output Shape              Param #   \n",
            "=================================================================\n",
            "flatten_4 (Flatten)          (None, 784)               0         \n",
            "_________________________________________________________________\n",
            "batch_normalization (BatchNo (None, 784)               3136      \n",
            "_________________________________________________________________\n",
            "dense_212 (Dense)            (None, 300)               235500    \n",
            "_________________________________________________________________\n",
            "batch_normalization_1 (Batch (None, 300)               1200      \n",
            "_________________________________________________________________\n",
            "dense_213 (Dense)            (None, 100)               30100     \n",
            "_________________________________________________________________\n",
            "batch_normalization_2 (Batch (None, 100)               400       \n",
            "_________________________________________________________________\n",
            "dense_214 (Dense)            (None, 10)                1010      \n",
            "=================================================================\n",
            "Total params: 271,346\n",
            "Trainable params: 268,978\n",
            "Non-trainable params: 2,368\n",
            "_________________________________________________________________\n"
          ]
        }
      ],
      "source": [
        "model.summary()"
      ]
    },
    {
      "cell_type": "code",
      "execution_count": null,
      "metadata": {
        "id": "wsYCCjQ_tQpv",
        "outputId": "3ac89758-14c3-490f-98ee-2b2319c8fee0"
      },
      "outputs": [
        {
          "data": {
            "text/plain": [
              "[('batch_normalization/gamma:0', True),\n",
              " ('batch_normalization/beta:0', True),\n",
              " ('batch_normalization/moving_mean:0', False),\n",
              " ('batch_normalization/moving_variance:0', False)]"
            ]
          },
          "execution_count": 37,
          "metadata": {},
          "output_type": "execute_result"
        }
      ],
      "source": [
        "bn1 = model.layers[1]\n",
        "[(var.name, var.trainable) for var in bn1.variables]"
      ]
    },
    {
      "cell_type": "code",
      "execution_count": null,
      "metadata": {
        "id": "iEd7Wp-FtQpv"
      },
      "outputs": [],
      "source": [
        "#bn1.updates #deprecated"
      ]
    },
    {
      "cell_type": "code",
      "execution_count": null,
      "metadata": {
        "id": "ixEfB3tatQpw"
      },
      "outputs": [],
      "source": [
        "model.compile(loss=\"sparse_categorical_crossentropy\",\n",
        "              optimizer=keras.optimizers.SGD(learning_rate=1e-3),\n",
        "              metrics=[\"accuracy\"])"
      ]
    },
    {
      "cell_type": "code",
      "execution_count": null,
      "metadata": {
        "id": "m9dJPhemtQpw",
        "outputId": "73fc5167-83cc-4ed1-bc5a-4d5888a2fb9f"
      },
      "outputs": [
        {
          "name": "stdout",
          "output_type": "stream",
          "text": [
            "Train on 55000 samples, validate on 5000 samples\n",
            "Epoch 1/10\n"
          ]
        },
        {
          "name": "stderr",
          "output_type": "stream",
          "text": [
            "2022-03-24 23:33:59.269451: W tensorflow/core/framework/cpu_allocator_impl.cc:81] Allocation of 344960000 exceeds 10% of system memory.\n"
          ]
        },
        {
          "name": "stdout",
          "output_type": "stream",
          "text": [
            "55000/55000 [==============================] - 4s 65us/sample - loss: 0.8760 - accuracy: 0.7122 - val_loss: 0.5509 - val_accuracy: 0.8228\n",
            "Epoch 2/10\n",
            "55000/55000 [==============================] - 2s 45us/sample - loss: 0.5737 - accuracy: 0.8038 - val_loss: 0.4724 - val_accuracy: 0.8452\n",
            "Epoch 3/10\n",
            "55000/55000 [==============================] - 2s 44us/sample - loss: 0.5142 - accuracy: 0.8228 - val_loss: 0.4377 - val_accuracy: 0.8576\n",
            "Epoch 4/10\n",
            "55000/55000 [==============================] - 2s 45us/sample - loss: 0.4825 - accuracy: 0.8330 - val_loss: 0.4135 - val_accuracy: 0.8646\n",
            "Epoch 5/10\n",
            "55000/55000 [==============================] - 2s 44us/sample - loss: 0.4570 - accuracy: 0.8417 - val_loss: 0.3989 - val_accuracy: 0.8648\n",
            "Epoch 6/10\n",
            "55000/55000 [==============================] - 2s 45us/sample - loss: 0.4432 - accuracy: 0.8454 - val_loss: 0.3870 - val_accuracy: 0.8712\n",
            "Epoch 7/10\n",
            "55000/55000 [==============================] - 2s 45us/sample - loss: 0.4254 - accuracy: 0.8515 - val_loss: 0.3783 - val_accuracy: 0.8698\n",
            "Epoch 8/10\n",
            "55000/55000 [==============================] - 2s 45us/sample - loss: 0.4150 - accuracy: 0.8535 - val_loss: 0.3708 - val_accuracy: 0.8762\n",
            "Epoch 9/10\n",
            "55000/55000 [==============================] - 2s 45us/sample - loss: 0.4016 - accuracy: 0.8599 - val_loss: 0.3636 - val_accuracy: 0.8754\n",
            "Epoch 10/10\n",
            "55000/55000 [==============================] - 2s 45us/sample - loss: 0.3915 - accuracy: 0.8628 - val_loss: 0.3601 - val_accuracy: 0.8754\n"
          ]
        }
      ],
      "source": [
        "history = model.fit(X_train, y_train, epochs=10,\n",
        "                    validation_data=(X_valid, y_valid))"
      ]
    },
    {
      "cell_type": "markdown",
      "metadata": {
        "id": "cdFEokMGtQpw"
      },
      "source": [
        "Sometimes applying BN before the activation function works better (there's a debate on this topic). Moreover, the layer before a `BatchNormalization` layer does not need to have bias terms, since the `BatchNormalization` layer some as well, it would be a waste of parameters, so you can set `use_bias=False` when creating those layers:"
      ]
    },
    {
      "cell_type": "code",
      "execution_count": null,
      "metadata": {
        "id": "fbyOVOgYtQpw"
      },
      "outputs": [],
      "source": [
        "model = keras.models.Sequential([\n",
        "    keras.layers.Flatten(input_shape=[28, 28]),\n",
        "    keras.layers.BatchNormalization(),\n",
        "    keras.layers.Dense(300, use_bias=False),\n",
        "    keras.layers.BatchNormalization(),\n",
        "    keras.layers.Activation(\"relu\"),\n",
        "    keras.layers.Dense(100, use_bias=False),\n",
        "    keras.layers.BatchNormalization(),\n",
        "    keras.layers.Activation(\"relu\"),\n",
        "    keras.layers.Dense(10, activation=\"softmax\")\n",
        "])"
      ]
    },
    {
      "cell_type": "code",
      "execution_count": null,
      "metadata": {
        "id": "wWZhOFkCtQpx"
      },
      "outputs": [],
      "source": [
        "model.compile(loss=\"sparse_categorical_crossentropy\",\n",
        "              optimizer=keras.optimizers.SGD(learning_rate=1e-3),\n",
        "              metrics=[\"accuracy\"])"
      ]
    },
    {
      "cell_type": "code",
      "execution_count": null,
      "metadata": {
        "id": "LOEUSnKitQpx",
        "outputId": "d9b1ed44-803a-46f8-a2a3-1e93391d6ccb"
      },
      "outputs": [
        {
          "name": "stdout",
          "output_type": "stream",
          "text": [
            "Train on 55000 samples, validate on 5000 samples\n",
            "Epoch 1/10\n",
            "55000/55000 [==============================] - 3s 50us/sample - loss: 1.0334 - accuracy: 0.6755 - val_loss: 0.6738 - val_accuracy: 0.7832\n",
            "Epoch 2/10\n",
            "55000/55000 [==============================] - 2s 44us/sample - loss: 0.6761 - accuracy: 0.7821 - val_loss: 0.5562 - val_accuracy: 0.8194\n",
            "Epoch 3/10\n",
            "55000/55000 [==============================] - 2s 43us/sample - loss: 0.5929 - accuracy: 0.8056 - val_loss: 0.5005 - val_accuracy: 0.8368\n",
            "Epoch 4/10\n",
            "55000/55000 [==============================] - 2s 44us/sample - loss: 0.5466 - accuracy: 0.8159 - val_loss: 0.4652 - val_accuracy: 0.8456\n",
            "Epoch 5/10\n",
            "55000/55000 [==============================] - 2s 44us/sample - loss: 0.5114 - accuracy: 0.8269 - val_loss: 0.4427 - val_accuracy: 0.8520\n",
            "Epoch 6/10\n",
            "55000/55000 [==============================] - 2s 43us/sample - loss: 0.4903 - accuracy: 0.8332 - val_loss: 0.4264 - val_accuracy: 0.8544\n",
            "Epoch 7/10\n",
            "55000/55000 [==============================] - 2s 44us/sample - loss: 0.4723 - accuracy: 0.8375 - val_loss: 0.4126 - val_accuracy: 0.8572\n",
            "Epoch 8/10\n",
            "55000/55000 [==============================] - 2s 45us/sample - loss: 0.4573 - accuracy: 0.8425 - val_loss: 0.4031 - val_accuracy: 0.8612\n",
            "Epoch 9/10\n",
            "55000/55000 [==============================] - 2s 44us/sample - loss: 0.4433 - accuracy: 0.8470 - val_loss: 0.3943 - val_accuracy: 0.8636\n",
            "Epoch 10/10\n",
            "55000/55000 [==============================] - 2s 43us/sample - loss: 0.4332 - accuracy: 0.8515 - val_loss: 0.3874 - val_accuracy: 0.8662\n"
          ]
        }
      ],
      "source": [
        "history = model.fit(X_train, y_train, epochs=10,\n",
        "                    validation_data=(X_valid, y_valid))"
      ]
    },
    {
      "cell_type": "markdown",
      "metadata": {
        "id": "2NXfporRtQpx"
      },
      "source": [
        "## Gradient Clipping"
      ]
    },
    {
      "cell_type": "markdown",
      "metadata": {
        "id": "HZCbEot2tQpy"
      },
      "source": [
        "All Keras optimizers accept `clipnorm` or `clipvalue` arguments:"
      ]
    },
    {
      "cell_type": "code",
      "execution_count": null,
      "metadata": {
        "id": "7bEBmAJDtQpy"
      },
      "outputs": [],
      "source": [
        "optimizer = keras.optimizers.SGD(clipvalue=1.0)"
      ]
    },
    {
      "cell_type": "code",
      "execution_count": null,
      "metadata": {
        "id": "kqQAwu10tQpy"
      },
      "outputs": [],
      "source": [
        "optimizer = keras.optimizers.SGD(clipnorm=1.0)"
      ]
    },
    {
      "cell_type": "markdown",
      "metadata": {
        "id": "kYs34Iu7tQpz"
      },
      "source": [
        "## Reusing Pretrained Layers"
      ]
    },
    {
      "cell_type": "markdown",
      "metadata": {
        "id": "P2kEbooatQpz"
      },
      "source": [
        "### Reusing a Keras model"
      ]
    },
    {
      "cell_type": "markdown",
      "metadata": {
        "id": "G3M4bokFtQpz"
      },
      "source": [
        "Let's split the fashion MNIST training set in two:\n",
        "* `X_train_A`: all images of all items except for sandals and shirts (classes 5 and 6).\n",
        "* `X_train_B`: a much smaller training set of just the first 200 images of sandals or shirts.\n",
        "\n",
        "The validation set and the test set are also split this way, but without restricting the number of images.\n",
        "\n",
        "We will train a model on set A (classification task with 8 classes), and try to reuse it to tackle set B (binary classification). We hope to transfer a little bit of knowledge from task A to task B, since classes in set A (sneakers, ankle boots, coats, t-shirts, etc.) are somewhat similar to classes in set B (sandals and shirts). However, since we are using `Dense` layers, only patterns that occur at the same location can be reused (in contrast, convolutional layers will transfer much better, since learned patterns can be detected anywhere on the image, as we will see in the CNN chapter)."
      ]
    },
    {
      "cell_type": "code",
      "execution_count": null,
      "metadata": {
        "id": "FKZXFSjvtQpz"
      },
      "outputs": [],
      "source": [
        "def split_dataset(X, y):\n",
        "    y_5_or_6 = (y == 5) | (y == 6) # sandals or shirts\n",
        "    y_A = y[~y_5_or_6]\n",
        "    y_A[y_A > 6] -= 2 # class indices 7, 8, 9 should be moved to 5, 6, 7\n",
        "    y_B = (y[y_5_or_6] == 6).astype(np.float32) # binary classification task: is it a shirt (class 6)?\n",
        "    return ((X[~y_5_or_6], y_A),\n",
        "            (X[y_5_or_6], y_B))\n",
        "\n",
        "(X_train_A, y_train_A), (X_train_B, y_train_B) = split_dataset(X_train, y_train)\n",
        "(X_valid_A, y_valid_A), (X_valid_B, y_valid_B) = split_dataset(X_valid, y_valid)\n",
        "(X_test_A, y_test_A), (X_test_B, y_test_B) = split_dataset(X_test, y_test)\n",
        "X_train_B = X_train_B[:200]\n",
        "y_train_B = y_train_B[:200]"
      ]
    },
    {
      "cell_type": "code",
      "execution_count": null,
      "metadata": {
        "id": "N566PQqWtQpz",
        "outputId": "57c88181-353e-41d8-87ca-e0e1ae565950"
      },
      "outputs": [
        {
          "data": {
            "text/plain": [
              "(43986, 28, 28)"
            ]
          },
          "execution_count": 47,
          "metadata": {},
          "output_type": "execute_result"
        }
      ],
      "source": [
        "X_train_A.shape"
      ]
    },
    {
      "cell_type": "code",
      "execution_count": null,
      "metadata": {
        "id": "HuXof1HWtQp0",
        "outputId": "fb131d1d-561f-418f-bb66-ea663aca58f2"
      },
      "outputs": [
        {
          "data": {
            "text/plain": [
              "(200, 28, 28)"
            ]
          },
          "execution_count": 48,
          "metadata": {},
          "output_type": "execute_result"
        }
      ],
      "source": [
        "X_train_B.shape"
      ]
    },
    {
      "cell_type": "code",
      "execution_count": null,
      "metadata": {
        "id": "sYb_8uSRtQp0",
        "outputId": "ab07ee33-8cd7-4f6b-bd68-ba9a5125b49c"
      },
      "outputs": [
        {
          "data": {
            "text/plain": [
              "array([4, 0, 5, 7, 7, 7, 4, 4, 3, 4, 0, 1, 6, 3, 4, 3, 2, 6, 5, 3, 4, 5,\n",
              "       1, 3, 4, 2, 0, 6, 7, 1], dtype=uint8)"
            ]
          },
          "execution_count": 49,
          "metadata": {},
          "output_type": "execute_result"
        }
      ],
      "source": [
        "y_train_A[:30]"
      ]
    },
    {
      "cell_type": "code",
      "execution_count": null,
      "metadata": {
        "id": "4bCwuJ6btQp0",
        "outputId": "fd1dc390-810d-48dc-b735-14adc639dac3"
      },
      "outputs": [
        {
          "data": {
            "text/plain": [
              "array([1., 1., 0., 0., 0., 0., 1., 1., 1., 0., 0., 1., 1., 0., 0., 0., 0.,\n",
              "       0., 0., 1., 1., 0., 0., 1., 1., 0., 1., 1., 1., 1.], dtype=float32)"
            ]
          },
          "execution_count": 50,
          "metadata": {},
          "output_type": "execute_result"
        }
      ],
      "source": [
        "y_train_B[:30]"
      ]
    },
    {
      "cell_type": "code",
      "execution_count": null,
      "metadata": {
        "id": "UfofjOw5tQp1"
      },
      "outputs": [],
      "source": [
        "tf.random.set_seed(42)\n",
        "np.random.seed(42)"
      ]
    },
    {
      "cell_type": "code",
      "execution_count": null,
      "metadata": {
        "id": "jF1pY8R2tQp1"
      },
      "outputs": [],
      "source": [
        "model_A = keras.models.Sequential()\n",
        "model_A.add(keras.layers.Flatten(input_shape=[28, 28]))\n",
        "for n_hidden in (300, 100, 50, 50, 50):\n",
        "    model_A.add(keras.layers.Dense(n_hidden, activation=\"selu\"))\n",
        "model_A.add(keras.layers.Dense(8, activation=\"softmax\"))"
      ]
    },
    {
      "cell_type": "code",
      "execution_count": null,
      "metadata": {
        "id": "K69RI_eFtQp1"
      },
      "outputs": [],
      "source": [
        "model_A.compile(loss=\"sparse_categorical_crossentropy\",\n",
        "                optimizer=keras.optimizers.SGD(learning_rate=1e-3),\n",
        "                metrics=[\"accuracy\"])"
      ]
    },
    {
      "cell_type": "code",
      "execution_count": null,
      "metadata": {
        "id": "iW4-syDKtQp2",
        "outputId": "b530e7e1-5dea-46e5-b9d4-4ab01f8f203d"
      },
      "outputs": [
        {
          "name": "stdout",
          "output_type": "stream",
          "text": [
            "Train on 43986 samples, validate on 4014 samples\n",
            "Epoch 1/20\n",
            "43986/43986 [==============================] - 2s 38us/sample - loss: 0.5902 - accuracy: 0.8131 - val_loss: 0.3782 - val_accuracy: 0.8695\n",
            "Epoch 2/20\n",
            "43986/43986 [==============================] - 1s 33us/sample - loss: 0.3517 - accuracy: 0.8783 - val_loss: 0.3369 - val_accuracy: 0.8837\n",
            "Epoch 3/20\n",
            "43986/43986 [==============================] - 1s 33us/sample - loss: 0.3163 - accuracy: 0.8896 - val_loss: 0.3016 - val_accuracy: 0.8959\n",
            "Epoch 4/20\n",
            "43986/43986 [==============================] - 2s 34us/sample - loss: 0.2969 - accuracy: 0.8973 - val_loss: 0.2913 - val_accuracy: 0.9023\n",
            "Epoch 5/20\n",
            "43986/43986 [==============================] - 1s 33us/sample - loss: 0.2831 - accuracy: 0.9027 - val_loss: 0.2817 - val_accuracy: 0.9013\n",
            "Epoch 6/20\n",
            "43986/43986 [==============================] - 1s 33us/sample - loss: 0.2725 - accuracy: 0.9065 - val_loss: 0.2737 - val_accuracy: 0.9073\n",
            "Epoch 7/20\n",
            "43986/43986 [==============================] - 1s 33us/sample - loss: 0.2644 - accuracy: 0.9095 - val_loss: 0.2652 - val_accuracy: 0.9093\n",
            "Epoch 8/20\n",
            "43986/43986 [==============================] - 1s 33us/sample - loss: 0.2577 - accuracy: 0.9118 - val_loss: 0.2580 - val_accuracy: 0.9136\n",
            "Epoch 9/20\n",
            "43986/43986 [==============================] - 1s 32us/sample - loss: 0.2516 - accuracy: 0.9137 - val_loss: 0.2582 - val_accuracy: 0.9133\n",
            "Epoch 10/20\n",
            "43986/43986 [==============================] - 1s 33us/sample - loss: 0.2466 - accuracy: 0.9152 - val_loss: 0.2522 - val_accuracy: 0.9153\n",
            "Epoch 11/20\n",
            "43986/43986 [==============================] - 1s 33us/sample - loss: 0.2419 - accuracy: 0.9179 - val_loss: 0.2489 - val_accuracy: 0.9168\n",
            "Epoch 12/20\n",
            "43986/43986 [==============================] - 1s 33us/sample - loss: 0.2381 - accuracy: 0.9192 - val_loss: 0.2456 - val_accuracy: 0.9175\n",
            "Epoch 13/20\n",
            "43986/43986 [==============================] - 1s 33us/sample - loss: 0.2347 - accuracy: 0.9198 - val_loss: 0.2448 - val_accuracy: 0.9198\n",
            "Epoch 14/20\n",
            "43986/43986 [==============================] - 1s 33us/sample - loss: 0.2312 - accuracy: 0.9204 - val_loss: 0.2430 - val_accuracy: 0.9173\n",
            "Epoch 15/20\n",
            "43986/43986 [==============================] - 1s 33us/sample - loss: 0.2282 - accuracy: 0.9220 - val_loss: 0.2432 - val_accuracy: 0.9180\n",
            "Epoch 16/20\n",
            "43986/43986 [==============================] - 1s 33us/sample - loss: 0.2254 - accuracy: 0.9229 - val_loss: 0.2411 - val_accuracy: 0.9155\n",
            "Epoch 17/20\n",
            "43986/43986 [==============================] - 1s 33us/sample - loss: 0.2228 - accuracy: 0.9228 - val_loss: 0.2373 - val_accuracy: 0.9185\n",
            "Epoch 18/20\n",
            "43986/43986 [==============================] - 1s 33us/sample - loss: 0.2201 - accuracy: 0.9242 - val_loss: 0.2431 - val_accuracy: 0.9173\n",
            "Epoch 19/20\n",
            "43986/43986 [==============================] - 1s 33us/sample - loss: 0.2176 - accuracy: 0.9252 - val_loss: 0.2607 - val_accuracy: 0.9051\n",
            "Epoch 20/20\n",
            "43986/43986 [==============================] - 1s 33us/sample - loss: 0.2158 - accuracy: 0.9265 - val_loss: 0.2329 - val_accuracy: 0.9210\n"
          ]
        }
      ],
      "source": [
        "history = model_A.fit(X_train_A, y_train_A, epochs=20,\n",
        "                    validation_data=(X_valid_A, y_valid_A))"
      ]
    },
    {
      "cell_type": "code",
      "execution_count": null,
      "metadata": {
        "id": "AiYZ6GeEtQp2"
      },
      "outputs": [],
      "source": [
        "model_A.save(\"my_model_A.h5\")"
      ]
    },
    {
      "cell_type": "code",
      "execution_count": null,
      "metadata": {
        "id": "EB7L8UgJtQp3"
      },
      "outputs": [],
      "source": [
        "model_B = keras.models.Sequential()\n",
        "model_B.add(keras.layers.Flatten(input_shape=[28, 28]))\n",
        "for n_hidden in (300, 100, 50, 50, 50):\n",
        "    model_B.add(keras.layers.Dense(n_hidden, activation=\"selu\"))\n",
        "model_B.add(keras.layers.Dense(1, activation=\"sigmoid\"))"
      ]
    },
    {
      "cell_type": "code",
      "execution_count": null,
      "metadata": {
        "id": "WJrngKq0tQp3"
      },
      "outputs": [],
      "source": [
        "model_B.compile(loss=\"binary_crossentropy\",\n",
        "                optimizer=keras.optimizers.SGD(learning_rate=1e-3),\n",
        "                metrics=[\"accuracy\"])"
      ]
    },
    {
      "cell_type": "code",
      "execution_count": null,
      "metadata": {
        "id": "fdYzFgHctQp3",
        "outputId": "311ad4c4-f83c-49bf-c266-bfdf90c6ee4d"
      },
      "outputs": [
        {
          "name": "stdout",
          "output_type": "stream",
          "text": [
            "Train on 200 samples, validate on 986 samples\n",
            "Epoch 1/20\n",
            "200/200 [==============================] - 1s 3ms/sample - loss: 0.9509 - accuracy: 0.4800 - val_loss: 0.6533 - val_accuracy: 0.5568\n",
            "Epoch 2/20\n",
            "200/200 [==============================] - 0s 172us/sample - loss: 0.5837 - accuracy: 0.7100 - val_loss: 0.4825 - val_accuracy: 0.8479\n",
            "Epoch 3/20\n",
            "200/200 [==============================] - 0s 168us/sample - loss: 0.4527 - accuracy: 0.8750 - val_loss: 0.4097 - val_accuracy: 0.8945\n",
            "Epoch 4/20\n",
            "200/200 [==============================] - 0s 166us/sample - loss: 0.3869 - accuracy: 0.9050 - val_loss: 0.3630 - val_accuracy: 0.9209\n",
            "Epoch 5/20\n",
            "200/200 [==============================] - 0s 174us/sample - loss: 0.3404 - accuracy: 0.9300 - val_loss: 0.3302 - val_accuracy: 0.9280\n",
            "Epoch 6/20\n",
            "200/200 [==============================] - 0s 169us/sample - loss: 0.3073 - accuracy: 0.9350 - val_loss: 0.3026 - val_accuracy: 0.9381\n",
            "Epoch 7/20\n",
            "200/200 [==============================] - 0s 173us/sample - loss: 0.2797 - accuracy: 0.9400 - val_loss: 0.2790 - val_accuracy: 0.9452\n",
            "Epoch 8/20\n",
            "200/200 [==============================] - 0s 175us/sample - loss: 0.2554 - accuracy: 0.9450 - val_loss: 0.2595 - val_accuracy: 0.9473\n",
            "Epoch 9/20\n",
            "200/200 [==============================] - 0s 178us/sample - loss: 0.2355 - accuracy: 0.9600 - val_loss: 0.2439 - val_accuracy: 0.9493\n",
            "Epoch 10/20\n",
            "200/200 [==============================] - 0s 175us/sample - loss: 0.2187 - accuracy: 0.9650 - val_loss: 0.2293 - val_accuracy: 0.9523\n",
            "Epoch 11/20\n",
            "200/200 [==============================] - 0s 169us/sample - loss: 0.2041 - accuracy: 0.9650 - val_loss: 0.2162 - val_accuracy: 0.9544\n",
            "Epoch 12/20\n",
            "200/200 [==============================] - 0s 168us/sample - loss: 0.1906 - accuracy: 0.9650 - val_loss: 0.2049 - val_accuracy: 0.9574\n",
            "Epoch 13/20\n",
            "200/200 [==============================] - 0s 168us/sample - loss: 0.1791 - accuracy: 0.9700 - val_loss: 0.1946 - val_accuracy: 0.9594\n",
            "Epoch 14/20\n",
            "200/200 [==============================] - 0s 172us/sample - loss: 0.1686 - accuracy: 0.9750 - val_loss: 0.1856 - val_accuracy: 0.9615\n",
            "Epoch 15/20\n",
            "200/200 [==============================] - 0s 170us/sample - loss: 0.1591 - accuracy: 0.9750 - val_loss: 0.1765 - val_accuracy: 0.9655\n",
            "Epoch 16/20\n",
            "200/200 [==============================] - 0s 171us/sample - loss: 0.1502 - accuracy: 0.9900 - val_loss: 0.1695 - val_accuracy: 0.9655\n",
            "Epoch 17/20\n",
            "200/200 [==============================] - 0s 168us/sample - loss: 0.1424 - accuracy: 0.9900 - val_loss: 0.1624 - val_accuracy: 0.9686\n",
            "Epoch 18/20\n",
            "200/200 [==============================] - 0s 171us/sample - loss: 0.1351 - accuracy: 0.9900 - val_loss: 0.1567 - val_accuracy: 0.9686\n",
            "Epoch 19/20\n",
            "200/200 [==============================] - 0s 169us/sample - loss: 0.1290 - accuracy: 0.9900 - val_loss: 0.1513 - val_accuracy: 0.9696\n",
            "Epoch 20/20\n",
            "200/200 [==============================] - 0s 167us/sample - loss: 0.1229 - accuracy: 0.9900 - val_loss: 0.1450 - val_accuracy: 0.9696\n"
          ]
        }
      ],
      "source": [
        "history = model_B.fit(X_train_B, y_train_B, epochs=20,\n",
        "                      validation_data=(X_valid_B, y_valid_B))"
      ]
    },
    {
      "cell_type": "code",
      "execution_count": null,
      "metadata": {
        "id": "MuV_zO4LtQp4",
        "outputId": "4b085e88-efe4-42b8-c04a-307126128d96"
      },
      "outputs": [
        {
          "name": "stdout",
          "output_type": "stream",
          "text": [
            "Model: \"sequential_7\"\n",
            "_________________________________________________________________\n",
            "Layer (type)                 Output Shape              Param #   \n",
            "=================================================================\n",
            "flatten_7 (Flatten)          (None, 784)               0         \n",
            "_________________________________________________________________\n",
            "dense_224 (Dense)            (None, 300)               235500    \n",
            "_________________________________________________________________\n",
            "dense_225 (Dense)            (None, 100)               30100     \n",
            "_________________________________________________________________\n",
            "dense_226 (Dense)            (None, 50)                5050      \n",
            "_________________________________________________________________\n",
            "dense_227 (Dense)            (None, 50)                2550      \n",
            "_________________________________________________________________\n",
            "dense_228 (Dense)            (None, 50)                2550      \n",
            "_________________________________________________________________\n",
            "dense_229 (Dense)            (None, 1)                 51        \n",
            "=================================================================\n",
            "Total params: 275,801\n",
            "Trainable params: 275,801\n",
            "Non-trainable params: 0\n",
            "_________________________________________________________________\n"
          ]
        }
      ],
      "source": [
        "model_B.summary()"
      ]
    },
    {
      "cell_type": "code",
      "execution_count": null,
      "metadata": {
        "id": "5rBfWPz7tQp4"
      },
      "outputs": [],
      "source": [
        "model_A = keras.models.load_model(\"my_model_A.h5\")\n",
        "model_B_on_A = keras.models.Sequential(model_A.layers[:-1])\n",
        "model_B_on_A.add(keras.layers.Dense(1, activation=\"sigmoid\"))"
      ]
    },
    {
      "cell_type": "markdown",
      "metadata": {
        "id": "dphhtiOLtQp4"
      },
      "source": [
        "Note that `model_B_on_A` and `model_A` actually share layers now, so when we train one, it will update both models. If we want to avoid that, we need to build `model_B_on_A` on top of a *clone* of `model_A`:"
      ]
    },
    {
      "cell_type": "code",
      "execution_count": null,
      "metadata": {
        "id": "L6i83ka_tQp5"
      },
      "outputs": [],
      "source": [
        "model_A_clone = keras.models.clone_model(model_A)\n",
        "model_A_clone.set_weights(model_A.get_weights())\n",
        "model_B_on_A = keras.models.Sequential(model_A_clone.layers[:-1])\n",
        "model_B_on_A.add(keras.layers.Dense(1, activation=\"sigmoid\"))"
      ]
    },
    {
      "cell_type": "code",
      "execution_count": null,
      "metadata": {
        "id": "UZewgl6VtQp5"
      },
      "outputs": [],
      "source": [
        "for layer in model_B_on_A.layers[:-1]:\n",
        "    layer.trainable = False\n",
        "\n",
        "model_B_on_A.compile(loss=\"binary_crossentropy\",\n",
        "                     optimizer=keras.optimizers.SGD(learning_rate=1e-3),\n",
        "                     metrics=[\"accuracy\"])"
      ]
    },
    {
      "cell_type": "code",
      "execution_count": null,
      "metadata": {
        "id": "NOryix2AtQp5",
        "outputId": "f552a73c-3f27-4c7a-87ba-598fa2a79f04"
      },
      "outputs": [
        {
          "name": "stdout",
          "output_type": "stream",
          "text": [
            "Train on 200 samples, validate on 986 samples\n",
            "Epoch 1/4\n",
            "200/200 [==============================] - 0s 1ms/sample - loss: 0.2547 - accuracy: 0.9300 - val_loss: 0.2715 - val_accuracy: 0.9290\n",
            "Epoch 2/4\n",
            "200/200 [==============================] - 0s 166us/sample - loss: 0.2452 - accuracy: 0.9350 - val_loss: 0.2628 - val_accuracy: 0.9351\n",
            "Epoch 3/4\n",
            "200/200 [==============================] - 0s 169us/sample - loss: 0.2367 - accuracy: 0.9350 - val_loss: 0.2545 - val_accuracy: 0.9381\n",
            "Epoch 4/4\n",
            "200/200 [==============================] - 0s 170us/sample - loss: 0.2287 - accuracy: 0.9400 - val_loss: 0.2469 - val_accuracy: 0.9442\n",
            "Train on 200 samples, validate on 986 samples\n",
            "Epoch 1/16\n",
            "200/200 [==============================] - 0s 1ms/sample - loss: 0.2056 - accuracy: 0.9450 - val_loss: 0.2003 - val_accuracy: 0.9655\n",
            "Epoch 2/16\n",
            "200/200 [==============================] - 0s 171us/sample - loss: 0.1642 - accuracy: 0.9550 - val_loss: 0.1698 - val_accuracy: 0.9746\n",
            "Epoch 3/16\n",
            "200/200 [==============================] - 0s 169us/sample - loss: 0.1367 - accuracy: 0.9700 - val_loss: 0.1483 - val_accuracy: 0.9797\n",
            "Epoch 4/16\n",
            "200/200 [==============================] - 0s 170us/sample - loss: 0.1174 - accuracy: 0.9900 - val_loss: 0.1322 - val_accuracy: 0.9838\n",
            "Epoch 5/16\n",
            "200/200 [==============================] - 0s 172us/sample - loss: 0.1028 - accuracy: 0.9900 - val_loss: 0.1198 - val_accuracy: 0.9838\n",
            "Epoch 6/16\n",
            "200/200 [==============================] - 0s 170us/sample - loss: 0.0914 - accuracy: 0.9950 - val_loss: 0.1099 - val_accuracy: 0.9838\n",
            "Epoch 7/16\n",
            "200/200 [==============================] - 0s 179us/sample - loss: 0.0823 - accuracy: 0.9950 - val_loss: 0.1021 - val_accuracy: 0.9858\n",
            "Epoch 8/16\n",
            "200/200 [==============================] - 0s 173us/sample - loss: 0.0750 - accuracy: 0.9950 - val_loss: 0.0955 - val_accuracy: 0.9858\n",
            "Epoch 9/16\n",
            "200/200 [==============================] - 0s 174us/sample - loss: 0.0687 - accuracy: 1.0000 - val_loss: 0.0898 - val_accuracy: 0.9858\n",
            "Epoch 10/16\n",
            "200/200 [==============================] - 0s 169us/sample - loss: 0.0635 - accuracy: 1.0000 - val_loss: 0.0845 - val_accuracy: 0.9868\n",
            "Epoch 11/16\n",
            "200/200 [==============================] - 0s 176us/sample - loss: 0.0586 - accuracy: 1.0000 - val_loss: 0.0802 - val_accuracy: 0.9868\n",
            "Epoch 12/16\n",
            "200/200 [==============================] - 0s 173us/sample - loss: 0.0545 - accuracy: 1.0000 - val_loss: 0.0765 - val_accuracy: 0.9878\n",
            "Epoch 13/16\n",
            "200/200 [==============================] - 0s 174us/sample - loss: 0.0511 - accuracy: 1.0000 - val_loss: 0.0733 - val_accuracy: 0.9878\n",
            "Epoch 14/16\n",
            "200/200 [==============================] - 0s 167us/sample - loss: 0.0480 - accuracy: 1.0000 - val_loss: 0.0705 - val_accuracy: 0.9878\n",
            "Epoch 15/16\n",
            "200/200 [==============================] - 0s 172us/sample - loss: 0.0455 - accuracy: 1.0000 - val_loss: 0.0679 - val_accuracy: 0.9878\n",
            "Epoch 16/16\n",
            "200/200 [==============================] - 0s 169us/sample - loss: 0.0431 - accuracy: 1.0000 - val_loss: 0.0656 - val_accuracy: 0.9878\n"
          ]
        }
      ],
      "source": [
        "history = model_B_on_A.fit(X_train_B, y_train_B, epochs=4,\n",
        "                           validation_data=(X_valid_B, y_valid_B))\n",
        "\n",
        "for layer in model_B_on_A.layers[:-1]:\n",
        "    layer.trainable = True\n",
        "\n",
        "model_B_on_A.compile(loss=\"binary_crossentropy\",\n",
        "                     optimizer=keras.optimizers.SGD(learning_rate=1e-3),\n",
        "                     metrics=[\"accuracy\"])\n",
        "history = model_B_on_A.fit(X_train_B, y_train_B, epochs=16,\n",
        "                           validation_data=(X_valid_B, y_valid_B))"
      ]
    },
    {
      "cell_type": "markdown",
      "metadata": {
        "id": "g-Vunxw6tQp6"
      },
      "source": [
        "So, what's the final verdict?"
      ]
    },
    {
      "cell_type": "code",
      "execution_count": null,
      "metadata": {
        "id": "f5Q95l0ztQp6",
        "outputId": "7a4b5b34-efad-4c00-f55c-48c5a122e42f"
      },
      "outputs": [
        {
          "name": "stdout",
          "output_type": "stream",
          "text": [
            "2000/2000 [==============================] - 0s 22us/sample - loss: 0.1426 - accuracy: 0.9695\n"
          ]
        },
        {
          "data": {
            "text/plain": [
              "[0.14263125002384186, 0.9695]"
            ]
          },
          "execution_count": 64,
          "metadata": {},
          "output_type": "execute_result"
        }
      ],
      "source": [
        "model_B.evaluate(X_test_B, y_test_B)"
      ]
    },
    {
      "cell_type": "code",
      "execution_count": null,
      "metadata": {
        "id": "8O0x7RkQtQp6",
        "outputId": "e5920fec-8537-46ff-e240-cc558cdde7be"
      },
      "outputs": [
        {
          "name": "stdout",
          "output_type": "stream",
          "text": [
            "2000/2000 [==============================] - 0s 21us/sample - loss: 0.0563 - accuracy: 0.9940\n"
          ]
        },
        {
          "data": {
            "text/plain": [
              "[0.05634024614095688, 0.994]"
            ]
          },
          "execution_count": 65,
          "metadata": {},
          "output_type": "execute_result"
        }
      ],
      "source": [
        "model_B_on_A.evaluate(X_test_B, y_test_B)"
      ]
    },
    {
      "cell_type": "markdown",
      "metadata": {
        "id": "Z3MvX7tvtQp7"
      },
      "source": [
        "Great! We got quite a bit of transfer: the error rate dropped by a factor of 4.9!"
      ]
    },
    {
      "cell_type": "code",
      "execution_count": null,
      "metadata": {
        "id": "gWMWNDwYtQp7",
        "outputId": "4cde4063-eb63-4943-fa60-d2f92b06af44"
      },
      "outputs": [
        {
          "data": {
            "text/plain": [
              "4.916666666666718"
            ]
          },
          "execution_count": 66,
          "metadata": {},
          "output_type": "execute_result"
        }
      ],
      "source": [
        "(100 - 97.05) / (100 - 99.40)"
      ]
    },
    {
      "cell_type": "markdown",
      "metadata": {
        "id": "FNKyC_t3tQp7"
      },
      "source": [
        "# Faster Optimizers"
      ]
    },
    {
      "cell_type": "markdown",
      "metadata": {
        "id": "OAHdEF8rtQp7"
      },
      "source": [
        "## Momentum optimization"
      ]
    },
    {
      "cell_type": "code",
      "execution_count": null,
      "metadata": {
        "id": "ufx_dTMatQp7"
      },
      "outputs": [],
      "source": [
        "optimizer = keras.optimizers.SGD(learning_rate=0.001, momentum=0.9)"
      ]
    },
    {
      "cell_type": "markdown",
      "metadata": {
        "id": "JSP66uQitQp9"
      },
      "source": [
        "## Nesterov Accelerated Gradient"
      ]
    },
    {
      "cell_type": "code",
      "execution_count": null,
      "metadata": {
        "id": "qvtuFxkftQp-"
      },
      "outputs": [],
      "source": [
        "optimizer = keras.optimizers.SGD(learning_rate=0.001, momentum=0.9, nesterov=True)"
      ]
    },
    {
      "cell_type": "markdown",
      "metadata": {
        "id": "wv3NOT7KtQp-"
      },
      "source": [
        "## AdaGrad"
      ]
    },
    {
      "cell_type": "code",
      "execution_count": null,
      "metadata": {
        "id": "p-C_Daa4tQp-"
      },
      "outputs": [],
      "source": [
        "optimizer = keras.optimizers.Adagrad(learning_rate=0.001)"
      ]
    },
    {
      "cell_type": "markdown",
      "metadata": {
        "id": "ybRLJxrgtQp-"
      },
      "source": [
        "## RMSProp"
      ]
    },
    {
      "cell_type": "code",
      "execution_count": null,
      "metadata": {
        "id": "gan5Aq_OtQp_"
      },
      "outputs": [],
      "source": [
        "optimizer = keras.optimizers.RMSprop(learning_rate=0.001, rho=0.9)"
      ]
    },
    {
      "cell_type": "markdown",
      "metadata": {
        "id": "9BD8mCibtQp_"
      },
      "source": [
        "## Adam Optimization"
      ]
    },
    {
      "cell_type": "code",
      "execution_count": null,
      "metadata": {
        "id": "p0dql-K3tQp_"
      },
      "outputs": [],
      "source": [
        "optimizer = keras.optimizers.Adam(learning_rate=0.001, beta_1=0.9, beta_2=0.999)"
      ]
    },
    {
      "cell_type": "markdown",
      "metadata": {
        "id": "-o8uD97AtQqA"
      },
      "source": [
        "## Adamax Optimization"
      ]
    },
    {
      "cell_type": "code",
      "execution_count": null,
      "metadata": {
        "id": "EYfG1l0ztQqA"
      },
      "outputs": [],
      "source": [
        "optimizer = keras.optimizers.Adamax(learning_rate=0.001, beta_1=0.9, beta_2=0.999)"
      ]
    },
    {
      "cell_type": "markdown",
      "metadata": {
        "id": "foM5CBBgtQqA"
      },
      "source": [
        "## Nadam Optimization"
      ]
    },
    {
      "cell_type": "code",
      "execution_count": null,
      "metadata": {
        "id": "OEL6mbz2tQqA"
      },
      "outputs": [],
      "source": [
        "optimizer = keras.optimizers.Nadam(learning_rate=0.001, beta_1=0.9, beta_2=0.999)"
      ]
    },
    {
      "cell_type": "markdown",
      "metadata": {
        "id": "_4reTosZtQqA"
      },
      "source": [
        "## Learning Rate Scheduling"
      ]
    },
    {
      "cell_type": "markdown",
      "metadata": {
        "id": "E7kKGnHPtQqB"
      },
      "source": [
        "### Power Scheduling"
      ]
    },
    {
      "cell_type": "markdown",
      "metadata": {
        "id": "d0Ah6XeKtQqB"
      },
      "source": [
        "```lr = lr0 / (1 + steps / s)**c```\n",
        "* Keras uses `c=1` and `s = 1 / decay`"
      ]
    },
    {
      "cell_type": "code",
      "execution_count": null,
      "metadata": {
        "id": "jbTF4kP2tQqB"
      },
      "outputs": [],
      "source": [
        "optimizer = keras.optimizers.SGD(learning_rate=0.01, decay=1e-4)"
      ]
    },
    {
      "cell_type": "code",
      "execution_count": null,
      "metadata": {
        "id": "HiSc-SBqtQqC"
      },
      "outputs": [],
      "source": [
        "model = keras.models.Sequential([\n",
        "    keras.layers.Flatten(input_shape=[28, 28]),\n",
        "    keras.layers.Dense(300, activation=\"selu\", kernel_initializer=\"lecun_normal\"),\n",
        "    keras.layers.Dense(100, activation=\"selu\", kernel_initializer=\"lecun_normal\"),\n",
        "    keras.layers.Dense(10, activation=\"softmax\")\n",
        "])\n",
        "model.compile(loss=\"sparse_categorical_crossentropy\", optimizer=optimizer, metrics=[\"accuracy\"])"
      ]
    },
    {
      "cell_type": "code",
      "execution_count": null,
      "metadata": {
        "id": "_ygQ_erWtQqC",
        "outputId": "7c949d82-f187-4e11-b391-d3392442ed97"
      },
      "outputs": [
        {
          "name": "stdout",
          "output_type": "stream",
          "text": [
            "Train on 55000 samples, validate on 5000 samples\n",
            "Epoch 1/25\n",
            "55000/55000 [==============================] - 2s 33us/sample - loss: 0.4891 - accuracy: 0.8287 - val_loss: 0.4121 - val_accuracy: 0.8576\n",
            "Epoch 2/25\n",
            "55000/55000 [==============================] - 2s 29us/sample - loss: 0.3804 - accuracy: 0.8643 - val_loss: 0.3761 - val_accuracy: 0.8690\n",
            "Epoch 3/25\n",
            "55000/55000 [==============================] - 2s 28us/sample - loss: 0.3479 - accuracy: 0.8758 - val_loss: 0.3684 - val_accuracy: 0.8720\n",
            "Epoch 4/25\n",
            "55000/55000 [==============================] - 2s 29us/sample - loss: 0.3272 - accuracy: 0.8840 - val_loss: 0.3550 - val_accuracy: 0.8716\n",
            "Epoch 5/25\n",
            "55000/55000 [==============================] - 2s 30us/sample - loss: 0.3111 - accuracy: 0.8894 - val_loss: 0.3460 - val_accuracy: 0.8766\n",
            "Epoch 6/25\n",
            "55000/55000 [==============================] - 2s 30us/sample - loss: 0.2986 - accuracy: 0.8939 - val_loss: 0.3455 - val_accuracy: 0.8768\n",
            "Epoch 7/25\n",
            "55000/55000 [==============================] - 2s 30us/sample - loss: 0.2877 - accuracy: 0.8975 - val_loss: 0.3380 - val_accuracy: 0.8832\n",
            "Epoch 8/25\n",
            "55000/55000 [==============================] - 2s 29us/sample - loss: 0.2787 - accuracy: 0.9006 - val_loss: 0.3349 - val_accuracy: 0.8840\n",
            "Epoch 9/25\n",
            "55000/55000 [==============================] - 2s 29us/sample - loss: 0.2705 - accuracy: 0.9032 - val_loss: 0.3308 - val_accuracy: 0.8852\n",
            "Epoch 10/25\n",
            "55000/55000 [==============================] - 2s 29us/sample - loss: 0.2632 - accuracy: 0.9061 - val_loss: 0.3322 - val_accuracy: 0.8826\n",
            "Epoch 11/25\n",
            "55000/55000 [==============================] - 2s 29us/sample - loss: 0.2567 - accuracy: 0.9081 - val_loss: 0.3274 - val_accuracy: 0.8850\n",
            "Epoch 12/25\n",
            "55000/55000 [==============================] - 2s 29us/sample - loss: 0.2510 - accuracy: 0.9113 - val_loss: 0.3271 - val_accuracy: 0.8838\n",
            "Epoch 13/25\n",
            "55000/55000 [==============================] - 2s 29us/sample - loss: 0.2456 - accuracy: 0.9129 - val_loss: 0.3254 - val_accuracy: 0.8870\n",
            "Epoch 14/25\n",
            "55000/55000 [==============================] - 2s 29us/sample - loss: 0.2409 - accuracy: 0.9151 - val_loss: 0.3257 - val_accuracy: 0.8892\n",
            "Epoch 15/25\n",
            "55000/55000 [==============================] - 2s 28us/sample - loss: 0.2362 - accuracy: 0.9158 - val_loss: 0.3208 - val_accuracy: 0.8862\n",
            "Epoch 16/25\n",
            "55000/55000 [==============================] - 2s 29us/sample - loss: 0.2316 - accuracy: 0.9182 - val_loss: 0.3245 - val_accuracy: 0.8886\n",
            "Epoch 17/25\n",
            "55000/55000 [==============================] - 2s 30us/sample - loss: 0.2282 - accuracy: 0.9193 - val_loss: 0.3193 - val_accuracy: 0.8920\n",
            "Epoch 18/25\n",
            "55000/55000 [==============================] - 2s 29us/sample - loss: 0.2241 - accuracy: 0.9204 - val_loss: 0.3214 - val_accuracy: 0.8890\n",
            "Epoch 19/25\n",
            "55000/55000 [==============================] - 2s 28us/sample - loss: 0.2205 - accuracy: 0.9222 - val_loss: 0.3219 - val_accuracy: 0.8902\n",
            "Epoch 20/25\n",
            "55000/55000 [==============================] - 2s 30us/sample - loss: 0.2172 - accuracy: 0.9236 - val_loss: 0.3200 - val_accuracy: 0.8888\n",
            "Epoch 21/25\n",
            "55000/55000 [==============================] - 2s 29us/sample - loss: 0.2143 - accuracy: 0.9246 - val_loss: 0.3186 - val_accuracy: 0.8900\n",
            "Epoch 22/25\n",
            "55000/55000 [==============================] - 2s 29us/sample - loss: 0.2112 - accuracy: 0.9263 - val_loss: 0.3198 - val_accuracy: 0.8892\n",
            "Epoch 23/25\n",
            "55000/55000 [==============================] - 2s 29us/sample - loss: 0.2085 - accuracy: 0.9267 - val_loss: 0.3176 - val_accuracy: 0.8900\n",
            "Epoch 24/25\n",
            "55000/55000 [==============================] - 2s 30us/sample - loss: 0.2054 - accuracy: 0.9291 - val_loss: 0.3188 - val_accuracy: 0.8894\n",
            "Epoch 25/25\n",
            "55000/55000 [==============================] - 2s 29us/sample - loss: 0.2032 - accuracy: 0.9293 - val_loss: 0.3178 - val_accuracy: 0.8922\n"
          ]
        }
      ],
      "source": [
        "n_epochs = 25\n",
        "history = model.fit(X_train_scaled, y_train, epochs=n_epochs,\n",
        "                    validation_data=(X_valid_scaled, y_valid))"
      ]
    },
    {
      "cell_type": "code",
      "execution_count": null,
      "metadata": {
        "id": "VanRUwIOtQqC",
        "outputId": "edf6c034-3db3-4331-fb34-296deaf45ad4"
      },
      "outputs": [
        {
          "data": {
            "image/png": "[encoded data removed]",
            "text/plain": [
              "<Figure size 432x288 with 1 Axes>"
            ]
          },
          "metadata": {
            "needs_background": "light"
          },
          "output_type": "display_data"
        }
      ],
      "source": [
        "import math\n",
        "\n",
        "learning_rate = 0.01\n",
        "decay = 1e-4\n",
        "batch_size = 32\n",
        "n_steps_per_epoch = math.ceil(len(X_train) / batch_size)\n",
        "epochs = np.arange(n_epochs)\n",
        "lrs = learning_rate / (1 + decay * epochs * n_steps_per_epoch)\n",
        "\n",
        "plt.plot(epochs, lrs,  \"o-\")\n",
        "plt.axis([0, n_epochs - 1, 0, 0.01])\n",
        "plt.xlabel(\"Epoch\")\n",
        "plt.ylabel(\"Learning Rate\")\n",
        "plt.title(\"Power Scheduling\", fontsize=14)\n",
        "plt.grid(True)\n",
        "plt.show()"
      ]
    },
    {
      "cell_type": "markdown",
      "metadata": {
        "id": "4CEQrXNMtQqC"
      },
      "source": [
        "### Exponential Scheduling"
      ]
    },
    {
      "cell_type": "markdown",
      "metadata": {
        "id": "3kgVDZw7tQqC"
      },
      "source": [
        "```lr = lr0 * 0.1**(epoch / s)```"
      ]
    },
    {
      "cell_type": "code",
      "execution_count": null,
      "metadata": {
        "id": "dxuo9a6ktQqD"
      },
      "outputs": [],
      "source": [
        "def exponential_decay_fn(epoch):\n",
        "    return 0.01 * 0.1**(epoch / 20)"
      ]
    },
    {
      "cell_type": "code",
      "execution_count": null,
      "metadata": {
        "id": "qN1aDfbHtQqE"
      },
      "outputs": [],
      "source": [
        "def exponential_decay(lr0, s):\n",
        "    def exponential_decay_fn(epoch):\n",
        "        return lr0 * 0.1**(epoch / s)\n",
        "    return exponential_decay_fn\n",
        "\n",
        "exponential_decay_fn = exponential_decay(lr0=0.01, s=20)"
      ]
    },
    {
      "cell_type": "code",
      "execution_count": null,
      "metadata": {
        "id": "1ksvrYwrtQqE"
      },
      "outputs": [],
      "source": [
        "model = keras.models.Sequential([\n",
        "    keras.layers.Flatten(input_shape=[28, 28]),\n",
        "    keras.layers.Dense(300, activation=\"selu\", kernel_initializer=\"lecun_normal\"),\n",
        "    keras.layers.Dense(100, activation=\"selu\", kernel_initializer=\"lecun_normal\"),\n",
        "    keras.layers.Dense(10, activation=\"softmax\")\n",
        "])\n",
        "model.compile(loss=\"sparse_categorical_crossentropy\", optimizer=\"nadam\", metrics=[\"accuracy\"])\n",
        "n_epochs = 25"
      ]
    },
    {
      "cell_type": "code",
      "execution_count": null,
      "metadata": {
        "id": "oGA0W4ObtQqE",
        "outputId": "7ef7c8e9-efb5-49c2-ddb9-c2da58f761e0"
      },
      "outputs": [
        {
          "name": "stdout",
          "output_type": "stream",
          "text": [
            "Train on 55000 samples, validate on 5000 samples\n",
            "Epoch 1/25\n",
            "55000/55000 [==============================] - 2s 45us/sample - loss: 0.8816 - accuracy: 0.7389 - val_loss: 1.7493 - val_accuracy: 0.6706\n",
            "Epoch 2/25\n",
            "55000/55000 [==============================] - 2s 38us/sample - loss: 0.7306 - accuracy: 0.7802 - val_loss: 0.8029 - val_accuracy: 0.7596\n",
            "Epoch 3/25\n",
            "55000/55000 [==============================] - 2s 38us/sample - loss: 0.6311 - accuracy: 0.8122 - val_loss: 0.6683 - val_accuracy: 0.8224\n",
            "Epoch 4/25\n",
            "55000/55000 [==============================] - 2s 38us/sample - loss: 0.5591 - accuracy: 0.8359 - val_loss: 0.6899 - val_accuracy: 0.8128\n",
            "Epoch 5/25\n",
            "55000/55000 [==============================] - 2s 39us/sample - loss: 0.5531 - accuracy: 0.8356 - val_loss: 0.6156 - val_accuracy: 0.8440\n",
            "Epoch 6/25\n",
            "55000/55000 [==============================] - 2s 39us/sample - loss: 0.4513 - accuracy: 0.8579 - val_loss: 0.6248 - val_accuracy: 0.8572\n",
            "Epoch 7/25\n",
            "55000/55000 [==============================] - 2s 38us/sample - loss: 0.4225 - accuracy: 0.8658 - val_loss: 0.5044 - val_accuracy: 0.8494\n",
            "Epoch 8/25\n",
            "55000/55000 [==============================] - 2s 38us/sample - loss: 0.3865 - accuracy: 0.8749 - val_loss: 0.4927 - val_accuracy: 0.8600\n",
            "Epoch 9/25\n",
            "55000/55000 [==============================] - 2s 38us/sample - loss: 0.3533 - accuracy: 0.8829 - val_loss: 0.4274 - val_accuracy: 0.8702\n",
            "Epoch 10/25\n",
            "55000/55000 [==============================] - 2s 38us/sample - loss: 0.3290 - accuracy: 0.8911 - val_loss: 0.4437 - val_accuracy: 0.8616\n",
            "Epoch 11/25\n",
            "55000/55000 [==============================] - 2s 39us/sample - loss: 0.3060 - accuracy: 0.8965 - val_loss: 0.4256 - val_accuracy: 0.8840\n",
            "Epoch 12/25\n",
            "55000/55000 [==============================] - 2s 38us/sample - loss: 0.2827 - accuracy: 0.9035 - val_loss: 0.4478 - val_accuracy: 0.8810\n",
            "Epoch 13/25\n",
            "55000/55000 [==============================] - 2s 38us/sample - loss: 0.2598 - accuracy: 0.9099 - val_loss: 0.4782 - val_accuracy: 0.8858\n",
            "Epoch 14/25\n",
            "55000/55000 [==============================] - 2s 38us/sample - loss: 0.2492 - accuracy: 0.9146 - val_loss: 0.4534 - val_accuracy: 0.8922\n",
            "Epoch 15/25\n",
            "55000/55000 [==============================] - 2s 38us/sample - loss: 0.2269 - accuracy: 0.9209 - val_loss: 0.4606 - val_accuracy: 0.8860\n",
            "Epoch 16/25\n",
            "55000/55000 [==============================] - 2s 38us/sample - loss: 0.2093 - accuracy: 0.9262 - val_loss: 0.4634 - val_accuracy: 0.8778\n",
            "Epoch 17/25\n",
            "55000/55000 [==============================] - 2s 38us/sample - loss: 0.1967 - accuracy: 0.9309 - val_loss: 0.4394 - val_accuracy: 0.8868\n",
            "Epoch 18/25\n",
            "55000/55000 [==============================] - 2s 38us/sample - loss: 0.1798 - accuracy: 0.9374 - val_loss: 0.4681 - val_accuracy: 0.8892\n",
            "Epoch 19/25\n",
            "55000/55000 [==============================] - 2s 38us/sample - loss: 0.1689 - accuracy: 0.9425 - val_loss: 0.4710 - val_accuracy: 0.8872\n",
            "Epoch 20/25\n",
            "55000/55000 [==============================] - 2s 38us/sample - loss: 0.1574 - accuracy: 0.9466 - val_loss: 0.4706 - val_accuracy: 0.8918\n",
            "Epoch 21/25\n",
            "55000/55000 [==============================] - 2s 38us/sample - loss: 0.1466 - accuracy: 0.9496 - val_loss: 0.5233 - val_accuracy: 0.8888\n",
            "Epoch 22/25\n",
            "55000/55000 [==============================] - 2s 39us/sample - loss: 0.1356 - accuracy: 0.9537 - val_loss: 0.5467 - val_accuracy: 0.8930\n",
            "Epoch 23/25\n",
            "55000/55000 [==============================] - 2s 38us/sample - loss: 0.1270 - accuracy: 0.9574 - val_loss: 0.5356 - val_accuracy: 0.8922\n",
            "Epoch 24/25\n",
            "55000/55000 [==============================] - 2s 39us/sample - loss: 0.1191 - accuracy: 0.9597 - val_loss: 0.5478 - val_accuracy: 0.8908\n",
            "Epoch 25/25\n",
            "55000/55000 [==============================] - 2s 39us/sample - loss: 0.1120 - accuracy: 0.9633 - val_loss: 0.5933 - val_accuracy: 0.8934\n"
          ]
        }
      ],
      "source": [
        "lr_scheduler = keras.callbacks.LearningRateScheduler(exponential_decay_fn)\n",
        "history = model.fit(X_train_scaled, y_train, epochs=n_epochs,\n",
        "                    validation_data=(X_valid_scaled, y_valid),\n",
        "                    callbacks=[lr_scheduler])"
      ]
    },
    {
      "cell_type": "code",
      "execution_count": null,
      "metadata": {
        "id": "Xx64c0Z4tQqE",
        "outputId": "67aa925a-9425-4f96-b1ff-7aa05beea6ba"
      },
      "outputs": [
        {
          "data": {
            "image/png": "[encoded data removed]",
            "text/plain": [
              "<Figure size 432x288 with 1 Axes>"
            ]
          },
          "metadata": {
            "needs_background": "light"
          },
          "output_type": "display_data"
        }
      ],
      "source": [
        "plt.plot(history.epoch, history.history[\"lr\"], \"o-\")\n",
        "plt.axis([0, n_epochs - 1, 0, 0.011])\n",
        "plt.xlabel(\"Epoch\")\n",
        "plt.ylabel(\"Learning Rate\")\n",
        "plt.title(\"Exponential Scheduling\", fontsize=14)\n",
        "plt.grid(True)\n",
        "plt.show()"
      ]
    },
    {
      "cell_type": "markdown",
      "metadata": {
        "id": "3BtwSQZitQqE"
      },
      "source": [
        "The schedule function can take the current learning rate as a second argument:"
      ]
    },
    {
      "cell_type": "code",
      "execution_count": null,
      "metadata": {
        "id": "8dmWjA6UtQqF"
      },
      "outputs": [],
      "source": [
        "def exponential_decay_fn(epoch, lr):\n",
        "    return lr * 0.1**(1 / 20)"
      ]
    },
    {
      "cell_type": "markdown",
      "metadata": {
        "id": "0O_KUaWmtQqF"
      },
      "source": [
        "If you want to update the learning rate at each iteration rather than at each epoch, you must write your own callback class:"
      ]
    },
    {
      "cell_type": "code",
      "execution_count": null,
      "metadata": {
        "id": "GNCWmWcvtQqF",
        "outputId": "ea8159c4-77b8-47bf-a802-982be4464a1a"
      },
      "outputs": [
        {
          "name": "stdout",
          "output_type": "stream",
          "text": [
            "Train on 55000 samples, validate on 5000 samples\n",
            "Epoch 1/25\n",
            "55000/55000 [==============================] - 3s 51us/sample - loss: 0.7788 - accuracy: 0.7731 - val_loss: 0.8409 - val_accuracy: 0.7924\n",
            "Epoch 2/25\n",
            "55000/55000 [==============================] - 2s 45us/sample - loss: 0.7354 - accuracy: 0.7953 - val_loss: 0.7334 - val_accuracy: 0.8076\n",
            "Epoch 3/25\n",
            "55000/55000 [==============================] - 3s 46us/sample - loss: 0.6297 - accuracy: 0.8213 - val_loss: 0.5826 - val_accuracy: 0.8350\n",
            "Epoch 4/25\n",
            "55000/55000 [==============================] - 3s 46us/sample - loss: 0.5514 - accuracy: 0.8393 - val_loss: 0.5467 - val_accuracy: 0.8478\n",
            "Epoch 5/25\n",
            "55000/55000 [==============================] - 2s 45us/sample - loss: 0.5009 - accuracy: 0.8519 - val_loss: 0.5132 - val_accuracy: 0.8648\n",
            "Epoch 6/25\n",
            "55000/55000 [==============================] - 2s 45us/sample - loss: 0.4684 - accuracy: 0.8617 - val_loss: 0.5603 - val_accuracy: 0.8432\n",
            "Epoch 7/25\n",
            "55000/55000 [==============================] - 2s 45us/sample - loss: 0.4289 - accuracy: 0.8703 - val_loss: 0.4768 - val_accuracy: 0.8620\n",
            "Epoch 8/25\n",
            "55000/55000 [==============================] - 3s 47us/sample - loss: 0.4002 - accuracy: 0.8782 - val_loss: 0.4651 - val_accuracy: 0.8772\n",
            "Epoch 9/25\n",
            "55000/55000 [==============================] - 2s 45us/sample - loss: 0.3579 - accuracy: 0.8876 - val_loss: 0.4237 - val_accuracy: 0.8840\n",
            "Epoch 10/25\n",
            "55000/55000 [==============================] - 3s 46us/sample - loss: 0.3348 - accuracy: 0.8940 - val_loss: 0.5004 - val_accuracy: 0.8788\n",
            "Epoch 11/25\n",
            "55000/55000 [==============================] - 2s 45us/sample - loss: 0.3140 - accuracy: 0.8992 - val_loss: 0.4311 - val_accuracy: 0.8846\n",
            "Epoch 12/25\n",
            "55000/55000 [==============================] - 3s 46us/sample - loss: 0.3012 - accuracy: 0.9064 - val_loss: 0.4506 - val_accuracy: 0.8764\n",
            "Epoch 13/25\n",
            "55000/55000 [==============================] - 3s 46us/sample - loss: 0.2684 - accuracy: 0.9139 - val_loss: 0.4729 - val_accuracy: 0.8844\n",
            "Epoch 14/25\n",
            "55000/55000 [==============================] - 3s 47us/sample - loss: 0.2561 - accuracy: 0.9174 - val_loss: 0.4286 - val_accuracy: 0.8878\n",
            "Epoch 15/25\n",
            "55000/55000 [==============================] - 2s 45us/sample - loss: 0.2367 - accuracy: 0.9224 - val_loss: 0.4263 - val_accuracy: 0.8828\n",
            "Epoch 16/25\n",
            "55000/55000 [==============================] - 3s 46us/sample - loss: 0.2190 - accuracy: 0.9282 - val_loss: 0.4688 - val_accuracy: 0.8824\n",
            "Epoch 17/25\n",
            "55000/55000 [==============================] - 2s 45us/sample - loss: 0.2054 - accuracy: 0.9327 - val_loss: 0.4149 - val_accuracy: 0.8922\n",
            "Epoch 18/25\n",
            "55000/55000 [==============================] - 2s 45us/sample - loss: 0.1898 - accuracy: 0.9373 - val_loss: 0.4344 - val_accuracy: 0.8906\n",
            "Epoch 19/25\n",
            "55000/55000 [==============================] - 2s 45us/sample - loss: 0.1766 - accuracy: 0.9427 - val_loss: 0.4351 - val_accuracy: 0.8884\n",
            "Epoch 20/25\n",
            "55000/55000 [==============================] - 2s 45us/sample - loss: 0.1635 - accuracy: 0.9470 - val_loss: 0.4381 - val_accuracy: 0.8934\n",
            "Epoch 21/25\n",
            "55000/55000 [==============================] - 3s 46us/sample - loss: 0.1500 - accuracy: 0.9515 - val_loss: 0.4805 - val_accuracy: 0.8874\n",
            "Epoch 22/25\n",
            "55000/55000 [==============================] - 3s 46us/sample - loss: 0.1414 - accuracy: 0.9555 - val_loss: 0.5054 - val_accuracy: 0.8914\n",
            "Epoch 23/25\n",
            "55000/55000 [==============================] - 2s 45us/sample - loss: 0.1310 - accuracy: 0.9593 - val_loss: 0.4858 - val_accuracy: 0.8952\n",
            "Epoch 24/25\n",
            "55000/55000 [==============================] - 2s 45us/sample - loss: 0.1220 - accuracy: 0.9627 - val_loss: 0.5158 - val_accuracy: 0.8938\n",
            "Epoch 25/25\n",
            "55000/55000 [==============================] - 3s 46us/sample - loss: 0.1135 - accuracy: 0.9661 - val_loss: 0.5296 - val_accuracy: 0.8894\n"
          ]
        }
      ],
      "source": [
        "K = keras.backend\n",
        "\n",
        "class ExponentialDecay(keras.callbacks.Callback):\n",
        "    def __init__(self, s=40000):\n",
        "        super().__init__()\n",
        "        self.s = s\n",
        "\n",
        "    def on_batch_begin(self, batch, logs=None):\n",
        "        # Note: the `batch` argument is reset at each epoch\n",
        "        lr = K.get_value(self.model.optimizer.learning_rate)\n",
        "        K.set_value(self.model.optimizer.learning_rate, lr * 0.1**(1 / self.s))\n",
        "\n",
        "    def on_epoch_end(self, epoch, logs=None):\n",
        "        logs = logs or {}\n",
        "        logs['lr'] = K.get_value(self.model.optimizer.learning_rate)\n",
        "\n",
        "model = keras.models.Sequential([\n",
        "    keras.layers.Flatten(input_shape=[28, 28]),\n",
        "    keras.layers.Dense(300, activation=\"selu\", kernel_initializer=\"lecun_normal\"),\n",
        "    keras.layers.Dense(100, activation=\"selu\", kernel_initializer=\"lecun_normal\"),\n",
        "    keras.layers.Dense(10, activation=\"softmax\")\n",
        "])\n",
        "lr0 = 0.01\n",
        "optimizer = keras.optimizers.Nadam(learning_rate=lr0)\n",
        "model.compile(loss=\"sparse_categorical_crossentropy\", optimizer=optimizer, metrics=[\"accuracy\"])\n",
        "n_epochs = 25\n",
        "\n",
        "s = 20 * len(X_train) // 32 # number of steps in 20 epochs (batch size = 32)\n",
        "exp_decay = ExponentialDecay(s)\n",
        "history = model.fit(X_train_scaled, y_train, epochs=n_epochs,\n",
        "                    validation_data=(X_valid_scaled, y_valid),\n",
        "                    callbacks=[exp_decay])"
      ]
    },
    {
      "cell_type": "code",
      "execution_count": null,
      "metadata": {
        "id": "LPwzoeaotQqF"
      },
      "outputs": [],
      "source": [
        "n_steps = n_epochs * len(X_train) // 32\n",
        "steps = np.arange(n_steps)\n",
        "lrs = lr0 * 0.1**(steps / s)"
      ]
    },
    {
      "cell_type": "code",
      "execution_count": null,
      "metadata": {
        "scrolled": true,
        "id": "DbUqSwmGtQqG",
        "outputId": "61f50938-c121-444e-9068-f52aa53d0af6"
      },
      "outputs": [
        {
          "data": {
            "image/png": "[encoded data removed]",
            "text/plain": [
              "<Figure size 432x288 with 1 Axes>"
            ]
          },
          "metadata": {
            "needs_background": "light"
          },
          "output_type": "display_data"
        }
      ],
      "source": [
        "plt.plot(steps, lrs, \"-\", linewidth=2)\n",
        "plt.axis([0, n_steps - 1, 0, lr0 * 1.1])\n",
        "plt.xlabel(\"Batch\")\n",
        "plt.ylabel(\"Learning Rate\")\n",
        "plt.title(\"Exponential Scheduling (per batch)\", fontsize=14)\n",
        "plt.grid(True)\n",
        "plt.show()"
      ]
    },
    {
      "cell_type": "markdown",
      "metadata": {
        "id": "yTonI0lftQqG"
      },
      "source": [
        "### Piecewise Constant Scheduling"
      ]
    },
    {
      "cell_type": "code",
      "execution_count": null,
      "metadata": {
        "id": "z0Wro--ztQqG"
      },
      "outputs": [],
      "source": [
        "def piecewise_constant_fn(epoch):\n",
        "    if epoch < 5:\n",
        "        return 0.01\n",
        "    elif epoch < 15:\n",
        "        return 0.005\n",
        "    else:\n",
        "        return 0.001"
      ]
    },
    {
      "cell_type": "code",
      "execution_count": null,
      "metadata": {
        "id": "8PSVkUtutQqG"
      },
      "outputs": [],
      "source": [
        "def piecewise_constant(boundaries, values):\n",
        "    boundaries = np.array([0] + boundaries)\n",
        "    values = np.array(values)\n",
        "    def piecewise_constant_fn(epoch):\n",
        "        return values[np.argmax(boundaries > epoch) - 1]\n",
        "    return piecewise_constant_fn\n",
        "\n",
        "piecewise_constant_fn = piecewise_constant([5, 15], [0.01, 0.005, 0.001])"
      ]
    },
    {
      "cell_type": "code",
      "execution_count": null,
      "metadata": {
        "id": "ZNH9lTYjtQqG",
        "outputId": "b1874e5a-25ab-4e14-aed3-d782a7def0cc"
      },
      "outputs": [
        {
          "name": "stdout",
          "output_type": "stream",
          "text": [
            "Train on 55000 samples, validate on 5000 samples\n",
            "Epoch 1/25\n",
            "55000/55000 [==============================] - 2s 44us/sample - loss: 0.8646 - accuracy: 0.7560 - val_loss: 0.9434 - val_accuracy: 0.6924\n",
            "Epoch 2/25\n",
            "55000/55000 [==============================] - 2s 38us/sample - loss: 0.8498 - accuracy: 0.7551 - val_loss: 0.9367 - val_accuracy: 0.7512\n",
            "Epoch 3/25\n",
            "55000/55000 [==============================] - 2s 38us/sample - loss: 0.9114 - accuracy: 0.7177 - val_loss: 0.8121 - val_accuracy: 0.7336\n",
            "Epoch 4/25\n",
            "55000/55000 [==============================] - 2s 38us/sample - loss: 0.9581 - accuracy: 0.6967 - val_loss: 1.0375 - val_accuracy: 0.6940\n",
            "Epoch 5/25\n",
            "55000/55000 [==============================] - 2s 38us/sample - loss: 0.9338 - accuracy: 0.6946 - val_loss: 1.0454 - val_accuracy: 0.6764\n",
            "Epoch 6/25\n",
            "55000/55000 [==============================] - 2s 38us/sample - loss: 0.6291 - accuracy: 0.7943 - val_loss: 0.7090 - val_accuracy: 0.7690\n",
            "Epoch 7/25\n",
            "55000/55000 [==============================] - 2s 37us/sample - loss: 0.5732 - accuracy: 0.8098 - val_loss: 0.6534 - val_accuracy: 0.7898\n",
            "Epoch 8/25\n",
            "55000/55000 [==============================] - 2s 38us/sample - loss: 0.5587 - accuracy: 0.8209 - val_loss: 0.6626 - val_accuracy: 0.8046\n",
            "Epoch 9/25\n",
            "55000/55000 [==============================] - 2s 37us/sample - loss: 0.5451 - accuracy: 0.8269 - val_loss: 0.6165 - val_accuracy: 0.8118\n",
            "Epoch 10/25\n",
            "55000/55000 [==============================] - 2s 39us/sample - loss: 0.5205 - accuracy: 0.8313 - val_loss: 0.7017 - val_accuracy: 0.8166\n",
            "Epoch 11/25\n",
            "55000/55000 [==============================] - 2s 38us/sample - loss: 0.4895 - accuracy: 0.8475 - val_loss: 0.6510 - val_accuracy: 0.8278\n",
            "Epoch 12/25\n",
            "55000/55000 [==============================] - 2s 38us/sample - loss: 0.4968 - accuracy: 0.8479 - val_loss: 0.6781 - val_accuracy: 0.8212\n",
            "Epoch 13/25\n",
            "55000/55000 [==============================] - 2s 38us/sample - loss: 0.4958 - accuracy: 0.8478 - val_loss: 0.6908 - val_accuracy: 0.8486\n",
            "Epoch 14/25\n",
            "55000/55000 [==============================] - 2s 37us/sample - loss: 0.4694 - accuracy: 0.8560 - val_loss: 0.6561 - val_accuracy: 0.8574\n",
            "Epoch 15/25\n",
            "55000/55000 [==============================] - 2s 38us/sample - loss: 0.4782 - accuracy: 0.8583 - val_loss: 0.7089 - val_accuracy: 0.8348\n",
            "Epoch 16/25\n",
            "55000/55000 [==============================] - 2s 38us/sample - loss: 0.3438 - accuracy: 0.8864 - val_loss: 0.5857 - val_accuracy: 0.8600\n",
            "Epoch 17/25\n",
            "55000/55000 [==============================] - 2s 38us/sample - loss: 0.3151 - accuracy: 0.8966 - val_loss: 0.6020 - val_accuracy: 0.8618\n",
            "Epoch 18/25\n",
            "55000/55000 [==============================] - 2s 39us/sample - loss: 0.3049 - accuracy: 0.9008 - val_loss: 0.5423 - val_accuracy: 0.8662\n",
            "Epoch 19/25\n",
            "55000/55000 [==============================] - 2s 38us/sample - loss: 0.2728 - accuracy: 0.9041 - val_loss: 0.5665 - val_accuracy: 0.8660\n",
            "Epoch 20/25\n",
            "55000/55000 [==============================] - 2s 37us/sample - loss: 0.2598 - accuracy: 0.9061 - val_loss: 0.5475 - val_accuracy: 0.8700\n",
            "Epoch 21/25\n",
            "55000/55000 [==============================] - 2s 39us/sample - loss: 0.2505 - accuracy: 0.9088 - val_loss: 0.5689 - val_accuracy: 0.8668\n",
            "Epoch 22/25\n",
            "55000/55000 [==============================] - 2s 38us/sample - loss: 0.2408 - accuracy: 0.9117 - val_loss: 0.5987 - val_accuracy: 0.8660\n",
            "Epoch 23/25\n",
            "55000/55000 [==============================] - 2s 39us/sample - loss: 0.2322 - accuracy: 0.9130 - val_loss: 0.5649 - val_accuracy: 0.8704\n",
            "Epoch 24/25\n",
            "55000/55000 [==============================] - 2s 38us/sample - loss: 0.2267 - accuracy: 0.9154 - val_loss: 0.6312 - val_accuracy: 0.8684\n",
            "Epoch 25/25\n",
            "55000/55000 [==============================] - 2s 38us/sample - loss: 0.2167 - accuracy: 0.9192 - val_loss: 0.6069 - val_accuracy: 0.8684\n"
          ]
        }
      ],
      "source": [
        "lr_scheduler = keras.callbacks.LearningRateScheduler(piecewise_constant_fn)\n",
        "\n",
        "model = keras.models.Sequential([\n",
        "    keras.layers.Flatten(input_shape=[28, 28]),\n",
        "    keras.layers.Dense(300, activation=\"selu\", kernel_initializer=\"lecun_normal\"),\n",
        "    keras.layers.Dense(100, activation=\"selu\", kernel_initializer=\"lecun_normal\"),\n",
        "    keras.layers.Dense(10, activation=\"softmax\")\n",
        "])\n",
        "model.compile(loss=\"sparse_categorical_crossentropy\", optimizer=\"nadam\", metrics=[\"accuracy\"])\n",
        "n_epochs = 25\n",
        "history = model.fit(X_train_scaled, y_train, epochs=n_epochs,\n",
        "                    validation_data=(X_valid_scaled, y_valid),\n",
        "                    callbacks=[lr_scheduler])"
      ]
    },
    {
      "cell_type": "code",
      "execution_count": null,
      "metadata": {
        "id": "uRZLWQdFtQqH",
        "outputId": "2fb6902e-d4dd-4d92-b6d2-76e62fbce480"
      },
      "outputs": [
        {
          "data": {
            "image/png": "[encoded data removed]",
            "text/plain": [
              "<Figure size 432x288 with 1 Axes>"
            ]
          },
          "metadata": {
            "needs_background": "light"
          },
          "output_type": "display_data"
        }
      ],
      "source": [
        "plt.plot(history.epoch, [piecewise_constant_fn(epoch) for epoch in history.epoch], \"o-\")\n",
        "plt.axis([0, n_epochs - 1, 0, 0.011])\n",
        "plt.xlabel(\"Epoch\")\n",
        "plt.ylabel(\"Learning Rate\")\n",
        "plt.title(\"Piecewise Constant Scheduling\", fontsize=14)\n",
        "plt.grid(True)\n",
        "plt.show()"
      ]
    },
    {
      "cell_type": "markdown",
      "metadata": {
        "id": "ihQ0HyBztQqH"
      },
      "source": [
        "### Performance Scheduling"
      ]
    },
    {
      "cell_type": "code",
      "execution_count": null,
      "metadata": {
        "id": "99KqMEDFtQqH"
      },
      "outputs": [],
      "source": [
        "tf.random.set_seed(42)\n",
        "np.random.seed(42)"
      ]
    },
    {
      "cell_type": "code",
      "execution_count": null,
      "metadata": {
        "id": "xiSCJtpTtQqH",
        "outputId": "14688823-4415-4a84-b934-823f378673f2"
      },
      "outputs": [
        {
          "name": "stdout",
          "output_type": "stream",
          "text": [
            "Train on 55000 samples, validate on 5000 samples\n",
            "Epoch 1/25\n",
            "55000/55000 [==============================] - 2s 32us/sample - loss: 0.5941 - accuracy: 0.8073 - val_loss: 0.4871 - val_accuracy: 0.8416\n",
            "Epoch 2/25\n",
            "55000/55000 [==============================] - 2s 29us/sample - loss: 0.5132 - accuracy: 0.8350 - val_loss: 0.4358 - val_accuracy: 0.8552\n",
            "Epoch 3/25\n",
            "55000/55000 [==============================] - 2s 30us/sample - loss: 0.4933 - accuracy: 0.8454 - val_loss: 0.5835 - val_accuracy: 0.8344\n",
            "Epoch 4/25\n",
            "55000/55000 [==============================] - 2s 30us/sample - loss: 0.5314 - accuracy: 0.8448 - val_loss: 0.8098 - val_accuracy: 0.8232\n",
            "Epoch 5/25\n",
            "55000/55000 [==============================] - 2s 31us/sample - loss: 0.5044 - accuracy: 0.8515 - val_loss: 0.5768 - val_accuracy: 0.8408\n",
            "Epoch 6/25\n",
            "55000/55000 [==============================] - 2s 30us/sample - loss: 0.5163 - accuracy: 0.8526 - val_loss: 0.6909 - val_accuracy: 0.8472\n",
            "Epoch 7/25\n",
            "55000/55000 [==============================] - 2s 30us/sample - loss: 0.5705 - accuracy: 0.8476 - val_loss: 0.6973 - val_accuracy: 0.8374\n",
            "Epoch 8/25\n",
            "55000/55000 [==============================] - 2s 30us/sample - loss: 0.3104 - accuracy: 0.8926 - val_loss: 0.4192 - val_accuracy: 0.8748\n",
            "Epoch 9/25\n",
            "55000/55000 [==============================] - 2s 30us/sample - loss: 0.2558 - accuracy: 0.9062 - val_loss: 0.4142 - val_accuracy: 0.8808\n",
            "Epoch 10/25\n",
            "55000/55000 [==============================] - 2s 30us/sample - loss: 0.2346 - accuracy: 0.9128 - val_loss: 0.3860 - val_accuracy: 0.8868\n",
            "Epoch 11/25\n",
            "55000/55000 [==============================] - 2s 29us/sample - loss: 0.2245 - accuracy: 0.9167 - val_loss: 0.3916 - val_accuracy: 0.8886\n",
            "Epoch 12/25\n",
            "55000/55000 [==============================] - 2s 29us/sample - loss: 0.2099 - accuracy: 0.9232 - val_loss: 0.4357 - val_accuracy: 0.8848\n",
            "Epoch 13/25\n",
            "55000/55000 [==============================] - 2s 30us/sample - loss: 0.2025 - accuracy: 0.9249 - val_loss: 0.4834 - val_accuracy: 0.8836\n",
            "Epoch 14/25\n",
            "55000/55000 [==============================] - 2s 30us/sample - loss: 0.1887 - accuracy: 0.9294 - val_loss: 0.4428 - val_accuracy: 0.8842\n",
            "Epoch 15/25\n",
            "55000/55000 [==============================] - 2s 30us/sample - loss: 0.1845 - accuracy: 0.9309 - val_loss: 0.4573 - val_accuracy: 0.8824\n",
            "Epoch 16/25\n",
            "55000/55000 [==============================] - 2s 31us/sample - loss: 0.1254 - accuracy: 0.9509 - val_loss: 0.4380 - val_accuracy: 0.8918\n",
            "Epoch 17/25\n",
            "55000/55000 [==============================] - 2s 31us/sample - loss: 0.1106 - accuracy: 0.9571 - val_loss: 0.4423 - val_accuracy: 0.8916\n",
            "Epoch 18/25\n",
            "55000/55000 [==============================] - 2s 30us/sample - loss: 0.1017 - accuracy: 0.9605 - val_loss: 0.4679 - val_accuracy: 0.8960\n",
            "Epoch 19/25\n",
            "55000/55000 [==============================] - 2s 30us/sample - loss: 0.0962 - accuracy: 0.9636 - val_loss: 0.4945 - val_accuracy: 0.8906\n",
            "Epoch 20/25\n",
            "55000/55000 [==============================] - 2s 30us/sample - loss: 0.0895 - accuracy: 0.9657 - val_loss: 0.4927 - val_accuracy: 0.8958\n",
            "Epoch 21/25\n",
            "55000/55000 [==============================] - 2s 29us/sample - loss: 0.0684 - accuracy: 0.9750 - val_loss: 0.4965 - val_accuracy: 0.8986\n",
            "Epoch 22/25\n",
            "55000/55000 [==============================] - 2s 29us/sample - loss: 0.0633 - accuracy: 0.9768 - val_loss: 0.5144 - val_accuracy: 0.8954\n",
            "Epoch 23/25\n",
            "55000/55000 [==============================] - 2s 29us/sample - loss: 0.0599 - accuracy: 0.9784 - val_loss: 0.5193 - val_accuracy: 0.8996\n",
            "Epoch 24/25\n",
            "55000/55000 [==============================] - 2s 29us/sample - loss: 0.0564 - accuracy: 0.9795 - val_loss: 0.5336 - val_accuracy: 0.8976\n",
            "Epoch 25/25\n",
            "55000/55000 [==============================] - 2s 30us/sample - loss: 0.0542 - accuracy: 0.9806 - val_loss: 0.5443 - val_accuracy: 0.8960\n"
          ]
        }
      ],
      "source": [
        "lr_scheduler = keras.callbacks.ReduceLROnPlateau(factor=0.5, patience=5)\n",
        "\n",
        "model = keras.models.Sequential([\n",
        "    keras.layers.Flatten(input_shape=[28, 28]),\n",
        "    keras.layers.Dense(300, activation=\"selu\", kernel_initializer=\"lecun_normal\"),\n",
        "    keras.layers.Dense(100, activation=\"selu\", kernel_initializer=\"lecun_normal\"),\n",
        "    keras.layers.Dense(10, activation=\"softmax\")\n",
        "])\n",
        "optimizer = keras.optimizers.SGD(learning_rate=0.02, momentum=0.9)\n",
        "model.compile(loss=\"sparse_categorical_crossentropy\", optimizer=optimizer, metrics=[\"accuracy\"])\n",
        "n_epochs = 25\n",
        "history = model.fit(X_train_scaled, y_train, epochs=n_epochs,\n",
        "                    validation_data=(X_valid_scaled, y_valid),\n",
        "                    callbacks=[lr_scheduler])"
      ]
    },
    {
      "cell_type": "code",
      "execution_count": null,
      "metadata": {
        "id": "XrjWpYuLtQqI",
        "outputId": "6cbdfb10-06d7-4a39-c792-110d90dd1e8b"
      },
      "outputs": [
        {
          "data": {
            "image/png": "[encoded data removed]",
            "text/plain": [
              "<Figure size 432x288 with 2 Axes>"
            ]
          },
          "metadata": {
            "needs_background": "light"
          },
          "output_type": "display_data"
        }
      ],
      "source": [
        "plt.plot(history.epoch, history.history[\"lr\"], \"bo-\")\n",
        "plt.xlabel(\"Epoch\")\n",
        "plt.ylabel(\"Learning Rate\", color='b')\n",
        "plt.tick_params('y', colors='b')\n",
        "plt.gca().set_xlim(0, n_epochs - 1)\n",
        "plt.grid(True)\n",
        "\n",
        "ax2 = plt.gca().twinx()\n",
        "ax2.plot(history.epoch, history.history[\"val_loss\"], \"r^-\")\n",
        "ax2.set_ylabel('Validation Loss', color='r')\n",
        "ax2.tick_params('y', colors='r')\n",
        "\n",
        "plt.title(\"Reduce LR on Plateau\", fontsize=14)\n",
        "plt.show()"
      ]
    },
    {
      "cell_type": "markdown",
      "metadata": {
        "id": "gdVNPLS9tQqI"
      },
      "source": [
        "### tf.keras schedulers"
      ]
    },
    {
      "cell_type": "code",
      "execution_count": null,
      "metadata": {
        "id": "Rsna44CstQqJ",
        "outputId": "2764a5b5-b28c-4be7-9e08-e0c34e5c2b65"
      },
      "outputs": [
        {
          "name": "stdout",
          "output_type": "stream",
          "text": [
            "Train on 55000 samples, validate on 5000 samples\n",
            "Epoch 1/25\n",
            "55000/55000 [==============================] - 2s 32us/sample - loss: 0.4872 - accuracy: 0.8296 - val_loss: 0.4141 - val_accuracy: 0.8558\n",
            "Epoch 2/25\n",
            "55000/55000 [==============================] - 2s 29us/sample - loss: 0.3829 - accuracy: 0.8644 - val_loss: 0.3771 - val_accuracy: 0.8696\n",
            "Epoch 3/25\n",
            "55000/55000 [==============================] - 2s 28us/sample - loss: 0.3495 - accuracy: 0.8765 - val_loss: 0.3695 - val_accuracy: 0.8730\n",
            "Epoch 4/25\n",
            "55000/55000 [==============================] - 2s 29us/sample - loss: 0.3274 - accuracy: 0.8833 - val_loss: 0.3543 - val_accuracy: 0.8760\n",
            "Epoch 5/25\n",
            "55000/55000 [==============================] - 2s 29us/sample - loss: 0.3102 - accuracy: 0.8897 - val_loss: 0.3458 - val_accuracy: 0.8790\n",
            "Epoch 6/25\n",
            "55000/55000 [==============================] - 2s 29us/sample - loss: 0.2971 - accuracy: 0.8942 - val_loss: 0.3413 - val_accuracy: 0.8800\n",
            "Epoch 7/25\n",
            "55000/55000 [==============================] - 2s 29us/sample - loss: 0.2859 - accuracy: 0.8985 - val_loss: 0.3350 - val_accuracy: 0.8826\n",
            "Epoch 8/25\n",
            "55000/55000 [==============================] - 2s 29us/sample - loss: 0.2767 - accuracy: 0.9019 - val_loss: 0.3318 - val_accuracy: 0.8844\n",
            "Epoch 9/25\n",
            "55000/55000 [==============================] - 2s 29us/sample - loss: 0.2685 - accuracy: 0.9047 - val_loss: 0.3280 - val_accuracy: 0.8860\n",
            "Epoch 10/25\n",
            "55000/55000 [==============================] - 2s 29us/sample - loss: 0.2612 - accuracy: 0.9071 - val_loss: 0.3304 - val_accuracy: 0.8838\n",
            "Epoch 11/25\n",
            "55000/55000 [==============================] - 2s 29us/sample - loss: 0.2555 - accuracy: 0.9094 - val_loss: 0.3259 - val_accuracy: 0.8870\n",
            "Epoch 12/25\n",
            "55000/55000 [==============================] - 2s 29us/sample - loss: 0.2503 - accuracy: 0.9115 - val_loss: 0.3243 - val_accuracy: 0.8874\n",
            "Epoch 13/25\n",
            "55000/55000 [==============================] - 2s 29us/sample - loss: 0.2456 - accuracy: 0.9135 - val_loss: 0.3240 - val_accuracy: 0.8868\n",
            "Epoch 14/25\n",
            "55000/55000 [==============================] - 2s 29us/sample - loss: 0.2416 - accuracy: 0.9144 - val_loss: 0.3236 - val_accuracy: 0.8860\n",
            "Epoch 15/25\n",
            "55000/55000 [==============================] - 2s 30us/sample - loss: 0.2380 - accuracy: 0.9168 - val_loss: 0.3194 - val_accuracy: 0.8882\n",
            "Epoch 16/25\n",
            "55000/55000 [==============================] - 2s 29us/sample - loss: 0.2346 - accuracy: 0.9173 - val_loss: 0.3205 - val_accuracy: 0.8866\n",
            "Epoch 17/25\n",
            "55000/55000 [==============================] - 2s 29us/sample - loss: 0.2321 - accuracy: 0.9186 - val_loss: 0.3180 - val_accuracy: 0.8886\n",
            "Epoch 18/25\n",
            "55000/55000 [==============================] - 2s 29us/sample - loss: 0.2292 - accuracy: 0.9194 - val_loss: 0.3206 - val_accuracy: 0.8874\n",
            "Epoch 19/25\n",
            "55000/55000 [==============================] - 2s 29us/sample - loss: 0.2271 - accuracy: 0.9202 - val_loss: 0.3193 - val_accuracy: 0.8878\n",
            "Epoch 20/25\n",
            "55000/55000 [==============================] - 2s 29us/sample - loss: 0.2252 - accuracy: 0.9214 - val_loss: 0.3177 - val_accuracy: 0.8878\n",
            "Epoch 21/25\n",
            "55000/55000 [==============================] - 2s 28us/sample - loss: 0.2234 - accuracy: 0.9216 - val_loss: 0.3170 - val_accuracy: 0.8902\n",
            "Epoch 22/25\n",
            "55000/55000 [==============================] - 2s 29us/sample - loss: 0.2218 - accuracy: 0.9228 - val_loss: 0.3170 - val_accuracy: 0.8880\n",
            "Epoch 23/25\n",
            "55000/55000 [==============================] - 2s 29us/sample - loss: 0.2204 - accuracy: 0.9228 - val_loss: 0.3167 - val_accuracy: 0.8880\n",
            "Epoch 24/25\n",
            "55000/55000 [==============================] - 2s 29us/sample - loss: 0.2191 - accuracy: 0.9242 - val_loss: 0.3172 - val_accuracy: 0.8904\n",
            "Epoch 25/25\n",
            "55000/55000 [==============================] - 2s 30us/sample - loss: 0.2182 - accuracy: 0.9240 - val_loss: 0.3166 - val_accuracy: 0.8892\n"
          ]
        }
      ],
      "source": [
        "model = keras.models.Sequential([\n",
        "    keras.layers.Flatten(input_shape=[28, 28]),\n",
        "    keras.layers.Dense(300, activation=\"selu\", kernel_initializer=\"lecun_normal\"),\n",
        "    keras.layers.Dense(100, activation=\"selu\", kernel_initializer=\"lecun_normal\"),\n",
        "    keras.layers.Dense(10, activation=\"softmax\")\n",
        "])\n",
        "s = 20 * len(X_train) // 32 # number of steps in 20 epochs (batch size = 32)\n",
        "learning_rate = keras.optimizers.schedules.ExponentialDecay(0.01, s, 0.1)\n",
        "optimizer = keras.optimizers.SGD(learning_rate)\n",
        "model.compile(loss=\"sparse_categorical_crossentropy\", optimizer=optimizer, metrics=[\"accuracy\"])\n",
        "n_epochs = 25\n",
        "history = model.fit(X_train_scaled, y_train, epochs=n_epochs,\n",
        "                    validation_data=(X_valid_scaled, y_valid))"
      ]
    },
    {
      "cell_type": "markdown",
      "metadata": {
        "id": "9yAzaOxAtQqJ"
      },
      "source": [
        "For piecewise constant scheduling, try this:"
      ]
    },
    {
      "cell_type": "code",
      "execution_count": null,
      "metadata": {
        "id": "uGJK24oQtQqJ"
      },
      "outputs": [],
      "source": [
        "learning_rate = keras.optimizers.schedules.PiecewiseConstantDecay(\n",
        "    boundaries=[5. * n_steps_per_epoch, 15. * n_steps_per_epoch],\n",
        "    values=[0.01, 0.005, 0.001])"
      ]
    },
    {
      "cell_type": "markdown",
      "metadata": {
        "id": "INali3UqtQqJ"
      },
      "source": [
        "### 1Cycle scheduling"
      ]
    },
    {
      "cell_type": "code",
      "execution_count": null,
      "metadata": {
        "id": "CRX1MSOLtQqK"
      },
      "outputs": [],
      "source": [
        "K = keras.backend\n",
        "\n",
        "class ExponentialLearningRate(keras.callbacks.Callback):\n",
        "    def __init__(self, factor):\n",
        "        self.factor = factor\n",
        "        self.rates = []\n",
        "        self.losses = []\n",
        "    def on_batch_end(self, batch, logs):\n",
        "        self.rates.append(K.get_value(self.model.optimizer.learning_rate))\n",
        "        self.losses.append(logs[\"loss\"])\n",
        "        K.set_value(self.model.optimizer.learning_rate, self.model.optimizer.learning_rate * self.factor)\n",
        "\n",
        "def find_learning_rate(model, X, y, epochs=1, batch_size=32, min_rate=10**-5, max_rate=10):\n",
        "    init_weights = model.get_weights()\n",
        "    iterations = math.ceil(len(X) / batch_size) * epochs\n",
        "    factor = np.exp(np.log(max_rate / min_rate) / iterations)\n",
        "    init_lr = K.get_value(model.optimizer.learning_rate)\n",
        "    K.set_value(model.optimizer.learning_rate, min_rate)\n",
        "    exp_lr = ExponentialLearningRate(factor)\n",
        "    history = model.fit(X, y, epochs=epochs, batch_size=batch_size,\n",
        "                        callbacks=[exp_lr])\n",
        "    K.set_value(model.optimizer.learning_rate, init_lr)\n",
        "    model.set_weights(init_weights)\n",
        "    return exp_lr.rates, exp_lr.losses\n",
        "\n",
        "def plot_lr_vs_loss(rates, losses):\n",
        "    plt.plot(rates, losses)\n",
        "    plt.gca().set_xscale('log')\n",
        "    plt.hlines(min(losses), min(rates), max(rates))\n",
        "    plt.axis([min(rates), max(rates), min(losses), (losses[0] + min(losses)) / 2])\n",
        "    plt.xlabel(\"Learning rate\")\n",
        "    plt.ylabel(\"Loss\")"
      ]
    },
    {
      "cell_type": "markdown",
      "metadata": {
        "id": "eg3XESrUtQqK"
      },
      "source": [
        "**Warning**: In the `on_batch_end()` method, `logs[\"loss\"]` used to contain the batch loss, but in TensorFlow 2.2.0 it was replaced with the mean loss (since the start of the epoch). This explains why the graph below is much smoother than in the book (if you are using TF 2.2 or above). It also means that there is a lag between the moment the batch loss starts exploding and the moment the explosion becomes clear in the graph. So you should choose a slightly smaller learning rate than you would have chosen with the \"noisy\" graph. Alternatively, you can tweak the `ExponentialLearningRate` callback above so it computes the batch loss (based on the current mean loss and the previous mean loss):\n",
        "\n",
        "```python\n",
        "class ExponentialLearningRate(keras.callbacks.Callback):\n",
        "    def __init__(self, factor):\n",
        "        self.factor = factor\n",
        "        self.rates = []\n",
        "        self.losses = []\n",
        "    def on_epoch_begin(self, epoch, logs=None):\n",
        "        self.prev_loss = 0\n",
        "    def on_batch_end(self, batch, logs=None):\n",
        "        batch_loss = logs[\"loss\"] * (batch + 1) - self.prev_loss * batch\n",
        "        self.prev_loss = logs[\"loss\"]\n",
        "        self.rates.append(K.get_value(self.model.optimizer.learning_rate))\n",
        "        self.losses.append(batch_loss)\n",
        "        K.set_value(self.model.optimizer.learning_rate, self.model.optimizer.learning_rate * self.factor)\n",
        "```"
      ]
    },
    {
      "cell_type": "code",
      "execution_count": null,
      "metadata": {
        "id": "nayL-xJVtQqL"
      },
      "outputs": [],
      "source": [
        "tf.random.set_seed(42)\n",
        "np.random.seed(42)\n",
        "\n",
        "model = keras.models.Sequential([\n",
        "    keras.layers.Flatten(input_shape=[28, 28]),\n",
        "    keras.layers.Dense(300, activation=\"selu\", kernel_initializer=\"lecun_normal\"),\n",
        "    keras.layers.Dense(100, activation=\"selu\", kernel_initializer=\"lecun_normal\"),\n",
        "    keras.layers.Dense(10, activation=\"softmax\")\n",
        "])\n",
        "model.compile(loss=\"sparse_categorical_crossentropy\",\n",
        "              optimizer=keras.optimizers.SGD(learning_rate=1e-3),\n",
        "              metrics=[\"accuracy\"])"
      ]
    },
    {
      "cell_type": "code",
      "execution_count": null,
      "metadata": {
        "id": "86CPGOl7tQqL",
        "outputId": "14947cef-bb61-4bab-9632-2a29fc1fa074"
      },
      "outputs": [
        {
          "name": "stdout",
          "output_type": "stream",
          "text": [
            "Train on 55000 samples\n",
            "55000/55000 [==============================] - 1s 17us/sample - loss: nan - accuracy: 0.3895\n"
          ]
        },
        {
          "data": {
            "image/png": "[encoded data removed]",
            "text/plain": [
              "<Figure size 432x288 with 1 Axes>"
            ]
          },
          "metadata": {
            "needs_background": "light"
          },
          "output_type": "display_data"
        }
      ],
      "source": [
        "batch_size = 128\n",
        "rates, losses = find_learning_rate(model, X_train_scaled, y_train, epochs=1, batch_size=batch_size)\n",
        "plot_lr_vs_loss(rates, losses)"
      ]
    },
    {
      "cell_type": "code",
      "execution_count": null,
      "metadata": {
        "id": "GSrn0NPltQqM"
      },
      "outputs": [],
      "source": [
        "class OneCycleScheduler(keras.callbacks.Callback):\n",
        "    def __init__(self, iterations, max_rate, start_rate=None,\n",
        "                 last_iterations=None, last_rate=None):\n",
        "        self.iterations = iterations\n",
        "        self.max_rate = max_rate\n",
        "        self.start_rate = start_rate or max_rate / 10\n",
        "        self.last_iterations = last_iterations or iterations // 10 + 1\n",
        "        self.half_iteration = (iterations - self.last_iterations) // 2\n",
        "        self.last_rate = last_rate or self.start_rate / 1000\n",
        "        self.iteration = 0\n",
        "    def _interpolate(self, iter1, iter2, rate1, rate2):\n",
        "        return ((rate2 - rate1) * (self.iteration - iter1)\n",
        "                / (iter2 - iter1) + rate1)\n",
        "    def on_batch_begin(self, batch, logs):\n",
        "        if self.iteration < self.half_iteration:\n",
        "            rate = self._interpolate(0, self.half_iteration, self.start_rate, self.max_rate)\n",
        "        elif self.iteration < 2 * self.half_iteration:\n",
        "            rate = self._interpolate(self.half_iteration, 2 * self.half_iteration,\n",
        "                                     self.max_rate, self.start_rate)\n",
        "        else:\n",
        "            rate = self._interpolate(2 * self.half_iteration, self.iterations,\n",
        "                                     self.start_rate, self.last_rate)\n",
        "        self.iteration += 1\n",
        "        K.set_value(self.model.optimizer.learning_rate, rate)"
      ]
    },
    {
      "cell_type": "code",
      "execution_count": null,
      "metadata": {
        "id": "PEwKFXm1tQqM",
        "outputId": "de2d58ba-b0ca-473d-edcf-62ccfdbd76ad"
      },
      "outputs": [
        {
          "name": "stdout",
          "output_type": "stream",
          "text": [
            "Train on 55000 samples, validate on 5000 samples\n",
            "Epoch 1/25\n",
            "55000/55000 [==============================] - 1s 12us/sample - loss: 0.6576 - accuracy: 0.7743 - val_loss: 0.4903 - val_accuracy: 0.8300\n",
            "Epoch 2/25\n",
            "55000/55000 [==============================] - 1s 12us/sample - loss: 0.4587 - accuracy: 0.8386 - val_loss: 0.4317 - val_accuracy: 0.8494\n",
            "Epoch 3/25\n",
            "55000/55000 [==============================] - 1s 11us/sample - loss: 0.4120 - accuracy: 0.8562 - val_loss: 0.4118 - val_accuracy: 0.8574\n",
            "Epoch 4/25\n",
            "55000/55000 [==============================] - 1s 11us/sample - loss: 0.3843 - accuracy: 0.8656 - val_loss: 0.3921 - val_accuracy: 0.8626\n",
            "Epoch 5/25\n",
            "55000/55000 [==============================] - 1s 11us/sample - loss: 0.3637 - accuracy: 0.8708 - val_loss: 0.3741 - val_accuracy: 0.8704\n",
            "Epoch 6/25\n",
            "55000/55000 [==============================] - 1s 11us/sample - loss: 0.3461 - accuracy: 0.8765 - val_loss: 0.3741 - val_accuracy: 0.8694\n",
            "Epoch 7/25\n",
            "55000/55000 [==============================] - 1s 11us/sample - loss: 0.3312 - accuracy: 0.8816 - val_loss: 0.3756 - val_accuracy: 0.8650\n",
            "Epoch 8/25\n",
            "55000/55000 [==============================] - 1s 11us/sample - loss: 0.3194 - accuracy: 0.8845 - val_loss: 0.3580 - val_accuracy: 0.8744\n",
            "Epoch 9/25\n",
            "55000/55000 [==============================] - 1s 11us/sample - loss: 0.3057 - accuracy: 0.8898 - val_loss: 0.3470 - val_accuracy: 0.8826\n",
            "Epoch 10/25\n",
            "55000/55000 [==============================] - 1s 11us/sample - loss: 0.2944 - accuracy: 0.8933 - val_loss: 0.4003 - val_accuracy: 0.8546\n",
            "Epoch 11/25\n",
            "55000/55000 [==============================] - 1s 12us/sample - loss: 0.2844 - accuracy: 0.8957 - val_loss: 0.3436 - val_accuracy: 0.8818\n",
            "Epoch 12/25\n",
            "55000/55000 [==============================] - 1s 11us/sample - loss: 0.2722 - accuracy: 0.9016 - val_loss: 0.3351 - val_accuracy: 0.8810\n",
            "Epoch 13/25\n",
            "55000/55000 [==============================] - 1s 11us/sample - loss: 0.2541 - accuracy: 0.9091 - val_loss: 0.3398 - val_accuracy: 0.8828\n",
            "Epoch 14/25\n",
            "55000/55000 [==============================] - 1s 12us/sample - loss: 0.2421 - accuracy: 0.9125 - val_loss: 0.3318 - val_accuracy: 0.8846\n",
            "Epoch 15/25\n",
            "55000/55000 [==============================] - 1s 12us/sample - loss: 0.2290 - accuracy: 0.9171 - val_loss: 0.3234 - val_accuracy: 0.8842\n",
            "Epoch 16/25\n",
            "55000/55000 [==============================] - 1s 11us/sample - loss: 0.2170 - accuracy: 0.9221 - val_loss: 0.3342 - val_accuracy: 0.8864\n",
            "Epoch 17/25\n",
            "55000/55000 [==============================] - 1s 11us/sample - loss: 0.2069 - accuracy: 0.9263 - val_loss: 0.3211 - val_accuracy: 0.8888\n",
            "Epoch 18/25\n",
            "55000/55000 [==============================] - 1s 11us/sample - loss: 0.1979 - accuracy: 0.9300 - val_loss: 0.3189 - val_accuracy: 0.8900\n",
            "Epoch 19/25\n",
            "55000/55000 [==============================] - 1s 11us/sample - loss: 0.1894 - accuracy: 0.9332 - val_loss: 0.3273 - val_accuracy: 0.8850\n",
            "Epoch 20/25\n",
            "55000/55000 [==============================] - 1s 11us/sample - loss: 0.1820 - accuracy: 0.9377 - val_loss: 0.3196 - val_accuracy: 0.8910\n",
            "Epoch 21/25\n",
            "55000/55000 [==============================] - 1s 11us/sample - loss: 0.1758 - accuracy: 0.9395 - val_loss: 0.3166 - val_accuracy: 0.8942\n",
            "Epoch 22/25\n",
            "55000/55000 [==============================] - 1s 11us/sample - loss: 0.1702 - accuracy: 0.9417 - val_loss: 0.3180 - val_accuracy: 0.8932\n",
            "Epoch 23/25\n",
            "55000/55000 [==============================] - 1s 11us/sample - loss: 0.1657 - accuracy: 0.9443 - val_loss: 0.3169 - val_accuracy: 0.8950\n",
            "Epoch 24/25\n",
            "55000/55000 [==============================] - 1s 11us/sample - loss: 0.1628 - accuracy: 0.9452 - val_loss: 0.3169 - val_accuracy: 0.8944\n",
            "Epoch 25/25\n",
            "55000/55000 [==============================] - 1s 11us/sample - loss: 0.1610 - accuracy: 0.9462 - val_loss: 0.3171 - val_accuracy: 0.8950\n"
          ]
        }
      ],
      "source": [
        "n_epochs = 25\n",
        "onecycle = OneCycleScheduler(math.ceil(len(X_train) / batch_size) * n_epochs, max_rate=0.05)\n",
        "history = model.fit(X_train_scaled, y_train, epochs=n_epochs, batch_size=batch_size,\n",
        "                    validation_data=(X_valid_scaled, y_valid),\n",
        "                    callbacks=[onecycle])"
      ]
    },
    {
      "cell_type": "markdown",
      "metadata": {
        "id": "zXcW97HntQqM"
      },
      "source": [
        "# Avoiding Overfitting Through Regularization"
      ]
    },
    {
      "cell_type": "markdown",
      "metadata": {
        "id": "9vX2lv4FtQqN"
      },
      "source": [
        "## $\\ell_1$ and $\\ell_2$ regularization"
      ]
    },
    {
      "cell_type": "code",
      "execution_count": null,
      "metadata": {
        "id": "eN4IzEwEtQqN"
      },
      "outputs": [],
      "source": [
        "layer = keras.layers.Dense(100, activation=\"elu\",\n",
        "                           kernel_initializer=\"he_normal\",\n",
        "                           kernel_regularizer=keras.regularizers.l2(0.01))\n",
        "# or l1(0.1) for ℓ1 regularization with a factor of 0.1\n",
        "# or l1_l2(0.1, 0.01) for both ℓ1 and ℓ2 regularization, with factors 0.1 and 0.01 respectively"
      ]
    },
    {
      "cell_type": "code",
      "execution_count": null,
      "metadata": {
        "id": "4E8J9IjWtQqN",
        "outputId": "745cb10a-5e60-4285-dd51-6b59ede01195"
      },
      "outputs": [
        {
          "name": "stdout",
          "output_type": "stream",
          "text": [
            "Train on 55000 samples, validate on 5000 samples\n",
            "Epoch 1/2\n",
            "55000/55000 [==============================] - 3s 49us/sample - loss: 1.5735 - accuracy: 0.8126 - val_loss: 0.7327 - val_accuracy: 0.8222\n",
            "Epoch 2/2\n",
            "55000/55000 [==============================] - 2s 40us/sample - loss: 0.7186 - accuracy: 0.8260 - val_loss: 0.6929 - val_accuracy: 0.8338\n"
          ]
        }
      ],
      "source": [
        "model = keras.models.Sequential([\n",
        "    keras.layers.Flatten(input_shape=[28, 28]),\n",
        "    keras.layers.Dense(300, activation=\"elu\",\n",
        "                       kernel_initializer=\"he_normal\",\n",
        "                       kernel_regularizer=keras.regularizers.l2(0.01)),\n",
        "    keras.layers.Dense(100, activation=\"elu\",\n",
        "                       kernel_initializer=\"he_normal\",\n",
        "                       kernel_regularizer=keras.regularizers.l2(0.01)),\n",
        "    keras.layers.Dense(10, activation=\"softmax\",\n",
        "                       kernel_regularizer=keras.regularizers.l2(0.01))\n",
        "])\n",
        "model.compile(loss=\"sparse_categorical_crossentropy\", optimizer=\"nadam\", metrics=[\"accuracy\"])\n",
        "n_epochs = 2\n",
        "history = model.fit(X_train_scaled, y_train, epochs=n_epochs,\n",
        "                    validation_data=(X_valid_scaled, y_valid))"
      ]
    },
    {
      "cell_type": "code",
      "execution_count": null,
      "metadata": {
        "id": "BvbZ8dvNtQqO",
        "outputId": "a877069d-8a55-4f1b-8a0a-adade0f2d93c"
      },
      "outputs": [
        {
          "name": "stdout",
          "output_type": "stream",
          "text": [
            "Train on 55000 samples, validate on 5000 samples\n",
            "Epoch 1/2\n",
            "55000/55000 [==============================] - 3s 46us/sample - loss: 1.6006 - accuracy: 0.8129 - val_loss: 0.7374 - val_accuracy: 0.8236\n",
            "Epoch 2/2\n",
            "55000/55000 [==============================] - 2s 39us/sample - loss: 0.7179 - accuracy: 0.8265 - val_loss: 0.6905 - val_accuracy: 0.8356\n"
          ]
        }
      ],
      "source": [
        "from functools import partial\n",
        "\n",
        "RegularizedDense = partial(keras.layers.Dense,\n",
        "                           activation=\"elu\",\n",
        "                           kernel_initializer=\"he_normal\",\n",
        "                           kernel_regularizer=keras.regularizers.l2(0.01))\n",
        "\n",
        "model = keras.models.Sequential([\n",
        "    keras.layers.Flatten(input_shape=[28, 28]),\n",
        "    RegularizedDense(300),\n",
        "    RegularizedDense(100),\n",
        "    RegularizedDense(10, activation=\"softmax\")\n",
        "])\n",
        "model.compile(loss=\"sparse_categorical_crossentropy\", optimizer=\"nadam\", metrics=[\"accuracy\"])\n",
        "n_epochs = 2\n",
        "history = model.fit(X_train_scaled, y_train, epochs=n_epochs,\n",
        "                    validation_data=(X_valid_scaled, y_valid))"
      ]
    },
    {
      "cell_type": "markdown",
      "metadata": {
        "id": "qXgrkkSbtQqO"
      },
      "source": [
        "## Dropout"
      ]
    },
    {
      "cell_type": "code",
      "execution_count": null,
      "metadata": {
        "id": "Ho4pjOAxtQqP",
        "outputId": "cea0af13-cd1d-4406-e137-6d5770a73a72"
      },
      "outputs": [
        {
          "name": "stdout",
          "output_type": "stream",
          "text": [
            "Train on 55000 samples, validate on 5000 samples\n",
            "Epoch 1/2\n",
            "55000/55000 [==============================] - 3s 46us/sample - loss: 0.5856 - accuracy: 0.7992 - val_loss: 0.3908 - val_accuracy: 0.8570\n",
            "Epoch 2/2\n",
            "55000/55000 [==============================] - 2s 40us/sample - loss: 0.4259 - accuracy: 0.8442 - val_loss: 0.3393 - val_accuracy: 0.8724\n"
          ]
        }
      ],
      "source": [
        "model = keras.models.Sequential([\n",
        "    keras.layers.Flatten(input_shape=[28, 28]),\n",
        "    keras.layers.Dropout(rate=0.2),\n",
        "    keras.layers.Dense(300, activation=\"elu\", kernel_initializer=\"he_normal\"),\n",
        "    keras.layers.Dropout(rate=0.2),\n",
        "    keras.layers.Dense(100, activation=\"elu\", kernel_initializer=\"he_normal\"),\n",
        "    keras.layers.Dropout(rate=0.2),\n",
        "    keras.layers.Dense(10, activation=\"softmax\")\n",
        "])\n",
        "model.compile(loss=\"sparse_categorical_crossentropy\", optimizer=\"nadam\", metrics=[\"accuracy\"])\n",
        "n_epochs = 2\n",
        "history = model.fit(X_train_scaled, y_train, epochs=n_epochs,\n",
        "                    validation_data=(X_valid_scaled, y_valid))"
      ]
    },
    {
      "cell_type": "markdown",
      "metadata": {
        "id": "8COjqzlTtQqP"
      },
      "source": [
        "## Alpha Dropout"
      ]
    },
    {
      "cell_type": "code",
      "execution_count": null,
      "metadata": {
        "id": "lkiIynKGtQqP"
      },
      "outputs": [],
      "source": [
        "tf.random.set_seed(42)\n",
        "np.random.seed(42)"
      ]
    },
    {
      "cell_type": "code",
      "execution_count": null,
      "metadata": {
        "id": "6JVaVn6CtQqQ",
        "outputId": "68ae85e1-4b6d-48ab-c0ca-d83deeb11cdf"
      },
      "outputs": [
        {
          "name": "stdout",
          "output_type": "stream",
          "text": [
            "Train on 55000 samples, validate on 5000 samples\n",
            "Epoch 1/20\n",
            "55000/55000 [==============================] - 2s 38us/sample - loss: 0.6616 - accuracy: 0.7616 - val_loss: 0.6675 - val_accuracy: 0.8268\n",
            "Epoch 2/20\n",
            "55000/55000 [==============================] - 2s 33us/sample - loss: 0.5527 - accuracy: 0.7966 - val_loss: 0.5847 - val_accuracy: 0.8386\n",
            "Epoch 3/20\n",
            "55000/55000 [==============================] - 2s 33us/sample - loss: 0.5258 - accuracy: 0.8060 - val_loss: 0.5277 - val_accuracy: 0.8538\n",
            "Epoch 4/20\n",
            "55000/55000 [==============================] - 2s 34us/sample - loss: 0.5074 - accuracy: 0.8115 - val_loss: 0.4899 - val_accuracy: 0.8610\n",
            "Epoch 5/20\n",
            "55000/55000 [==============================] - 2s 34us/sample - loss: 0.4932 - accuracy: 0.8183 - val_loss: 0.4957 - val_accuracy: 0.8576\n",
            "Epoch 6/20\n",
            "55000/55000 [==============================] - 2s 33us/sample - loss: 0.4842 - accuracy: 0.8199 - val_loss: 0.5133 - val_accuracy: 0.8552\n",
            "Epoch 7/20\n",
            "55000/55000 [==============================] - 2s 33us/sample - loss: 0.4715 - accuracy: 0.8255 - val_loss: 0.4504 - val_accuracy: 0.8680\n",
            "Epoch 8/20\n",
            "55000/55000 [==============================] - 2s 32us/sample - loss: 0.4642 - accuracy: 0.8268 - val_loss: 0.4583 - val_accuracy: 0.8604\n",
            "Epoch 9/20\n",
            "55000/55000 [==============================] - 2s 33us/sample - loss: 0.4576 - accuracy: 0.8320 - val_loss: 0.4458 - val_accuracy: 0.8680\n",
            "Epoch 10/20\n",
            "55000/55000 [==============================] - 2s 34us/sample - loss: 0.4497 - accuracy: 0.8353 - val_loss: 0.4158 - val_accuracy: 0.8680\n",
            "Epoch 11/20\n",
            "55000/55000 [==============================] - 2s 34us/sample - loss: 0.4478 - accuracy: 0.8339 - val_loss: 0.4531 - val_accuracy: 0.8672\n",
            "Epoch 12/20\n",
            "55000/55000 [==============================] - 2s 33us/sample - loss: 0.4482 - accuracy: 0.8348 - val_loss: 0.4355 - val_accuracy: 0.8712\n",
            "Epoch 13/20\n",
            "55000/55000 [==============================] - 2s 33us/sample - loss: 0.4407 - accuracy: 0.8363 - val_loss: 0.4533 - val_accuracy: 0.8710\n",
            "Epoch 14/20\n",
            "55000/55000 [==============================] - 2s 34us/sample - loss: 0.4330 - accuracy: 0.8395 - val_loss: 0.4848 - val_accuracy: 0.8714\n",
            "Epoch 15/20\n",
            "55000/55000 [==============================] - 2s 34us/sample - loss: 0.4330 - accuracy: 0.8403 - val_loss: 0.4330 - val_accuracy: 0.8748\n",
            "Epoch 16/20\n",
            "55000/55000 [==============================] - 2s 33us/sample - loss: 0.4292 - accuracy: 0.8396 - val_loss: 0.4861 - val_accuracy: 0.8602\n",
            "Epoch 17/20\n",
            "55000/55000 [==============================] - 2s 33us/sample - loss: 0.4288 - accuracy: 0.8395 - val_loss: 0.4441 - val_accuracy: 0.8772\n",
            "Epoch 18/20\n",
            "55000/55000 [==============================] - 2s 33us/sample - loss: 0.4225 - accuracy: 0.8428 - val_loss: 0.4510 - val_accuracy: 0.8726\n",
            "Epoch 19/20\n",
            "55000/55000 [==============================] - 2s 33us/sample - loss: 0.4224 - accuracy: 0.8430 - val_loss: 0.4088 - val_accuracy: 0.8736\n",
            "Epoch 20/20\n",
            "55000/55000 [==============================] - 2s 33us/sample - loss: 0.4197 - accuracy: 0.8450 - val_loss: 0.4265 - val_accuracy: 0.8764\n"
          ]
        }
      ],
      "source": [
        "model = keras.models.Sequential([\n",
        "    keras.layers.Flatten(input_shape=[28, 28]),\n",
        "    keras.layers.AlphaDropout(rate=0.2),\n",
        "    keras.layers.Dense(300, activation=\"selu\", kernel_initializer=\"lecun_normal\"),\n",
        "    keras.layers.AlphaDropout(rate=0.2),\n",
        "    keras.layers.Dense(100, activation=\"selu\", kernel_initializer=\"lecun_normal\"),\n",
        "    keras.layers.AlphaDropout(rate=0.2),\n",
        "    keras.layers.Dense(10, activation=\"softmax\")\n",
        "])\n",
        "optimizer = keras.optimizers.SGD(learning_rate=0.01, momentum=0.9, nesterov=True)\n",
        "model.compile(loss=\"sparse_categorical_crossentropy\", optimizer=optimizer, metrics=[\"accuracy\"])\n",
        "n_epochs = 20\n",
        "history = model.fit(X_train_scaled, y_train, epochs=n_epochs,\n",
        "                    validation_data=(X_valid_scaled, y_valid))"
      ]
    },
    {
      "cell_type": "code",
      "execution_count": null,
      "metadata": {
        "id": "mFXLoQwjtQqQ",
        "outputId": "d7e5d0b5-213a-4935-af05-3917433aac64"
      },
      "outputs": [
        {
          "name": "stdout",
          "output_type": "stream",
          "text": [
            "10000/10000 [==============================] - 0s 21us/sample - loss: 0.4755 - accuracy: 0.8660\n"
          ]
        },
        {
          "data": {
            "text/plain": [
              "[0.4754735891520977, 0.866]"
            ]
          },
          "execution_count": 107,
          "metadata": {},
          "output_type": "execute_result"
        }
      ],
      "source": [
        "model.evaluate(X_test_scaled, y_test)"
      ]
    },
    {
      "cell_type": "code",
      "execution_count": null,
      "metadata": {
        "id": "D3K0H--atQqQ",
        "outputId": "b6d215cd-8328-4f31-aba2-8468c16b63bc"
      },
      "outputs": [
        {
          "name": "stdout",
          "output_type": "stream",
          "text": [
            "55000/55000 [==============================] - 1s 20us/sample - loss: 0.3503 - accuracy: 0.8859\n"
          ]
        },
        {
          "data": {
            "text/plain": [
              "[0.3503256373903968, 0.8858727]"
            ]
          },
          "execution_count": 108,
          "metadata": {},
          "output_type": "execute_result"
        }
      ],
      "source": [
        "model.evaluate(X_train_scaled, y_train)"
      ]
    },
    {
      "cell_type": "code",
      "execution_count": null,
      "metadata": {
        "id": "eCP5IkHKtQqR",
        "outputId": "fad84538-1db8-4e0d-8c2c-d5dbf59cf240"
      },
      "outputs": [
        {
          "name": "stdout",
          "output_type": "stream",
          "text": [
            "Train on 55000 samples\n",
            "55000/55000 [==============================] - 2s 31us/sample - loss: 0.4182 - accuracy: 0.8456\n"
          ]
        }
      ],
      "source": [
        "history = model.fit(X_train_scaled, y_train)"
      ]
    },
    {
      "cell_type": "markdown",
      "metadata": {
        "id": "TATntq69tQqR"
      },
      "source": [
        "## MC Dropout"
      ]
    },
    {
      "cell_type": "code",
      "execution_count": null,
      "metadata": {
        "id": "GG33smDItQqR"
      },
      "outputs": [],
      "source": [
        "tf.random.set_seed(42)\n",
        "np.random.seed(42)"
      ]
    },
    {
      "cell_type": "code",
      "execution_count": null,
      "metadata": {
        "id": "-ruAcvvntQqS",
        "outputId": "3c04efeb-55c0-4867-ba10-56f024c964a3"
      },
      "outputs": [
        {
          "name": "stdout",
          "output_type": "stream",
          "text": [
            "WARNING:tensorflow:Layer flatten_18 is casting an input tensor from dtype float64 to the layer's dtype of float32, which is new behavior in TensorFlow 2.  The layer has dtype float32 because it's dtype defaults to floatx.\n",
            "\n",
            "If you intended to run this layer in float32, you can safely ignore this warning. If in doubt, this warning is likely only an issue if you are porting a TensorFlow 1.X model to TensorFlow 2.\n",
            "\n",
            "To change all layers to have dtype float64 by default, call `tf.keras.backend.set_floatx('float64')`. To change just this layer, pass dtype='float64' to the layer constructor. If you are the author of this layer, you can disable autocasting by passing autocast=False to the base Layer constructor.\n",
            "\n"
          ]
        }
      ],
      "source": [
        "y_probas = np.stack([model(X_test_scaled, training=True)\n",
        "                     for sample in range(100)])\n",
        "y_proba = y_probas.mean(axis=0)\n",
        "y_std = y_probas.std(axis=0)"
      ]
    },
    {
      "cell_type": "code",
      "execution_count": null,
      "metadata": {
        "id": "Mgprss55tQqT",
        "outputId": "7237f4a3-3a52-4417-8fcb-9c01bc8aff16"
      },
      "outputs": [
        {
          "data": {
            "text/plain": [
              "array([[0., 0., 0., 0., 0., 0., 0., 0., 0., 1.]], dtype=float32)"
            ]
          },
          "execution_count": 112,
          "metadata": {},
          "output_type": "execute_result"
        }
      ],
      "source": [
        "np.round(model.predict(X_test_scaled[:1]), 2)"
      ]
    },
    {
      "cell_type": "code",
      "execution_count": null,
      "metadata": {
        "id": "4HvkQ2mwtQqT",
        "outputId": "21a0bd77-d283-4e6a-9581-759cfbaae2db"
      },
      "outputs": [
        {
          "data": {
            "text/plain": [
              "array([[[0.  , 0.  , 0.  , 0.  , 0.  , 0.  , 0.  , 0.07, 0.  , 0.93]],\n",
              "\n",
              "       [[0.  , 0.  , 0.  , 0.  , 0.  , 0.11, 0.  , 0.24, 0.  , 0.66]],\n",
              "\n",
              "       [[0.  , 0.  , 0.  , 0.  , 0.  , 0.14, 0.  , 0.02, 0.  , 0.84]],\n",
              "\n",
              "       [[0.  , 0.  , 0.  , 0.  , 0.  , 0.01, 0.  , 0.02, 0.02, 0.95]],\n",
              "\n",
              "       [[0.  , 0.  , 0.  , 0.  , 0.  , 0.06, 0.  , 0.03, 0.  , 0.91]],\n",
              "\n",
              "       [[0.  , 0.  , 0.  , 0.  , 0.  , 0.  , 0.  , 0.04, 0.  , 0.96]],\n",
              "\n",
              "       [[0.  , 0.  , 0.  , 0.  , 0.  , 0.  , 0.  , 0.02, 0.  , 0.97]],\n",
              "\n",
              "       [[0.  , 0.  , 0.  , 0.  , 0.  , 0.01, 0.  , 0.01, 0.  , 0.98]],\n",
              "\n",
              "       [[0.  , 0.  , 0.  , 0.  , 0.  , 0.69, 0.  , 0.01, 0.  , 0.3 ]],\n",
              "\n",
              "       [[0.  , 0.  , 0.  , 0.  , 0.  , 0.01, 0.  , 0.02, 0.  , 0.97]],\n",
              "\n",
              "       [[0.  , 0.  , 0.  , 0.  , 0.  , 0.02, 0.  , 0.03, 0.  , 0.94]],\n",
              "\n",
              "       [[0.  , 0.  , 0.  , 0.  , 0.  , 0.47, 0.  , 0.03, 0.  , 0.5 ]],\n",
              "\n",
              "       [[0.  , 0.  , 0.  , 0.  , 0.  , 0.13, 0.  , 0.06, 0.  , 0.81]],\n",
              "\n",
              "       [[0.  , 0.  , 0.  , 0.  , 0.  , 0.3 , 0.  , 0.14, 0.  , 0.55]],\n",
              "\n",
              "       [[0.  , 0.  , 0.  , 0.  , 0.  , 0.05, 0.  , 0.07, 0.  , 0.88]],\n",
              "\n",
              "       [[0.  , 0.  , 0.  , 0.  , 0.  , 0.04, 0.  , 0.03, 0.  , 0.93]],\n",
              "\n",
              "       [[0.  , 0.  , 0.  , 0.  , 0.  , 0.09, 0.  , 0.01, 0.  , 0.9 ]],\n",
              "\n",
              "       [[0.  , 0.  , 0.  , 0.  , 0.  , 0.04, 0.  , 0.05, 0.  , 0.9 ]],\n",
              "\n",
              "       [[0.  , 0.  , 0.  , 0.  , 0.  , 0.  , 0.  , 0.05, 0.  , 0.95]],\n",
              "\n",
              "       [[0.  , 0.  , 0.  , 0.  , 0.  , 0.06, 0.  , 0.02, 0.  , 0.92]],\n",
              "\n",
              "       [[0.  , 0.  , 0.  , 0.  , 0.  , 0.73, 0.01, 0.05, 0.  , 0.21]],\n",
              "\n",
              "       [[0.  , 0.  , 0.  , 0.  , 0.  , 0.29, 0.  , 0.21, 0.  , 0.5 ]],\n",
              "\n",
              "       [[0.  , 0.  , 0.  , 0.  , 0.  , 0.  , 0.  , 0.01, 0.  , 0.99]],\n",
              "\n",
              "       [[0.  , 0.  , 0.  , 0.  , 0.  , 0.  , 0.  , 0.14, 0.  , 0.86]],\n",
              "\n",
              "       [[0.  , 0.  , 0.  , 0.  , 0.  , 0.01, 0.  , 0.04, 0.  , 0.95]],\n",
              "\n",
              "       [[0.  , 0.  , 0.  , 0.  , 0.  , 0.07, 0.  , 0.35, 0.  , 0.57]],\n",
              "\n",
              "       [[0.  , 0.  , 0.  , 0.01, 0.01, 0.04, 0.1 , 0.1 , 0.  , 0.74]],\n",
              "\n",
              "       [[0.  , 0.  , 0.  , 0.  , 0.  , 0.03, 0.  , 0.03, 0.  , 0.94]],\n",
              "\n",
              "       [[0.  , 0.  , 0.  , 0.  , 0.  , 0.87, 0.  , 0.01, 0.  , 0.11]],\n",
              "\n",
              "       [[0.  , 0.  , 0.  , 0.  , 0.  , 0.12, 0.  , 0.18, 0.03, 0.66]],\n",
              "\n",
              "       [[0.  , 0.  , 0.  , 0.  , 0.  , 0.  , 0.  , 0.  , 0.  , 0.99]],\n",
              "\n",
              "       [[0.  , 0.  , 0.  , 0.  , 0.  , 0.  , 0.  , 0.02, 0.  , 0.98]],\n",
              "\n",
              "       [[0.  , 0.  , 0.  , 0.  , 0.  , 0.37, 0.  , 0.02, 0.  , 0.61]],\n",
              "\n",
              "       [[0.  , 0.  , 0.  , 0.  , 0.  , 0.13, 0.  , 0.2 , 0.  , 0.67]],\n",
              "\n",
              "       [[0.  , 0.  , 0.  , 0.  , 0.  , 0.01, 0.  , 0.02, 0.  , 0.97]],\n",
              "\n",
              "       [[0.  , 0.  , 0.  , 0.  , 0.  , 0.04, 0.  , 0.64, 0.  , 0.32]],\n",
              "\n",
              "       [[0.  , 0.  , 0.  , 0.  , 0.  , 0.  , 0.  , 0.  , 0.  , 1.  ]],\n",
              "\n",
              "       [[0.  , 0.  , 0.  , 0.  , 0.  , 0.01, 0.  , 0.01, 0.  , 0.98]],\n",
              "\n",
              "       [[0.  , 0.  , 0.  , 0.  , 0.  , 0.01, 0.  , 0.09, 0.  , 0.9 ]],\n",
              "\n",
              "       [[0.  , 0.  , 0.  , 0.  , 0.  , 0.12, 0.  , 0.  , 0.  , 0.88]],\n",
              "\n",
              "       [[0.  , 0.  , 0.  , 0.  , 0.  , 0.04, 0.  , 0.02, 0.  , 0.94]],\n",
              "\n",
              "       [[0.  , 0.  , 0.  , 0.  , 0.  , 0.  , 0.  , 0.01, 0.  , 0.99]],\n",
              "\n",
              "       [[0.  , 0.  , 0.  , 0.  , 0.  , 0.15, 0.  , 0.12, 0.  , 0.73]],\n",
              "\n",
              "       [[0.  , 0.  , 0.  , 0.  , 0.  , 0.01, 0.  , 0.02, 0.  , 0.97]],\n",
              "\n",
              "       [[0.  , 0.  , 0.  , 0.  , 0.  , 0.11, 0.  , 0.03, 0.  , 0.86]],\n",
              "\n",
              "       [[0.  , 0.  , 0.  , 0.  , 0.  , 0.  , 0.  , 0.02, 0.  , 0.98]],\n",
              "\n",
              "       [[0.  , 0.  , 0.  , 0.  , 0.  , 0.02, 0.  , 0.14, 0.  , 0.83]],\n",
              "\n",
              "       [[0.  , 0.  , 0.  , 0.  , 0.  , 0.  , 0.  , 0.05, 0.  , 0.94]],\n",
              "\n",
              "       [[0.  , 0.  , 0.  , 0.  , 0.  , 0.  , 0.  , 0.15, 0.  , 0.85]],\n",
              "\n",
              "       [[0.  , 0.  , 0.  , 0.  , 0.  , 0.  , 0.  , 0.  , 0.  , 1.  ]],\n",
              "\n",
              "       [[0.  , 0.  , 0.  , 0.  , 0.  , 0.85, 0.  , 0.02, 0.  , 0.13]],\n",
              "\n",
              "       [[0.  , 0.  , 0.  , 0.  , 0.  , 0.07, 0.  , 0.07, 0.  , 0.86]],\n",
              "\n",
              "       [[0.  , 0.  , 0.  , 0.  , 0.  , 0.  , 0.  , 0.  , 0.  , 1.  ]],\n",
              "\n",
              "       [[0.  , 0.  , 0.  , 0.  , 0.  , 0.06, 0.  , 0.01, 0.  , 0.93]],\n",
              "\n",
              "       [[0.  , 0.  , 0.  , 0.  , 0.  , 0.49, 0.  , 0.01, 0.  , 0.49]],\n",
              "\n",
              "       [[0.  , 0.  , 0.  , 0.  , 0.  , 0.  , 0.  , 0.01, 0.  , 0.98]],\n",
              "\n",
              "       [[0.  , 0.  , 0.  , 0.  , 0.  , 0.  , 0.  , 0.08, 0.  , 0.92]],\n",
              "\n",
              "       [[0.  , 0.  , 0.  , 0.  , 0.  , 0.04, 0.  , 0.04, 0.  , 0.92]],\n",
              "\n",
              "       [[0.  , 0.  , 0.  , 0.  , 0.  , 0.04, 0.  , 0.06, 0.  , 0.9 ]],\n",
              "\n",
              "       [[0.  , 0.  , 0.  , 0.  , 0.  , 0.  , 0.  , 0.02, 0.  , 0.98]],\n",
              "\n",
              "       [[0.  , 0.  , 0.  , 0.  , 0.  , 0.11, 0.  , 0.06, 0.  , 0.84]],\n",
              "\n",
              "       [[0.  , 0.  , 0.  , 0.  , 0.  , 0.03, 0.  , 0.1 , 0.  , 0.87]],\n",
              "\n",
              "       [[0.  , 0.  , 0.  , 0.  , 0.  , 0.09, 0.  , 0.04, 0.  , 0.87]],\n",
              "\n",
              "       [[0.  , 0.  , 0.  , 0.  , 0.  , 0.  , 0.  , 0.02, 0.  , 0.98]],\n",
              "\n",
              "       [[0.  , 0.  , 0.  , 0.  , 0.  , 0.04, 0.  , 0.04, 0.  , 0.92]],\n",
              "\n",
              "       [[0.  , 0.  , 0.  , 0.  , 0.  , 0.01, 0.  , 0.18, 0.  , 0.82]],\n",
              "\n",
              "       [[0.  , 0.  , 0.  , 0.  , 0.  , 0.47, 0.  , 0.05, 0.  , 0.47]],\n",
              "\n",
              "       [[0.  , 0.  , 0.  , 0.  , 0.  , 0.  , 0.  , 0.02, 0.  , 0.98]],\n",
              "\n",
              "       [[0.  , 0.  , 0.  , 0.  , 0.  , 0.  , 0.  , 0.01, 0.  , 0.99]],\n",
              "\n",
              "       [[0.  , 0.  , 0.  , 0.  , 0.  , 0.  , 0.  , 0.04, 0.  , 0.95]],\n",
              "\n",
              "       [[0.  , 0.  , 0.  , 0.  , 0.  , 0.  , 0.  , 0.  , 0.  , 1.  ]],\n",
              "\n",
              "       [[0.  , 0.  , 0.  , 0.  , 0.  , 0.  , 0.  , 0.03, 0.  , 0.97]],\n",
              "\n",
              "       [[0.  , 0.  , 0.  , 0.  , 0.  , 0.23, 0.  , 0.06, 0.01, 0.71]],\n",
              "\n",
              "       [[0.  , 0.  , 0.  , 0.  , 0.  , 0.  , 0.  , 0.04, 0.  , 0.96]],\n",
              "\n",
              "       [[0.  , 0.  , 0.  , 0.  , 0.  , 0.16, 0.  , 0.05, 0.  , 0.79]],\n",
              "\n",
              "       [[0.  , 0.  , 0.  , 0.  , 0.  , 0.03, 0.  , 0.  , 0.  , 0.96]],\n",
              "\n",
              "       [[0.  , 0.  , 0.  , 0.  , 0.  , 0.  , 0.  , 0.02, 0.  , 0.98]],\n",
              "\n",
              "       [[0.  , 0.  , 0.  , 0.  , 0.  , 0.01, 0.  , 0.34, 0.  , 0.65]],\n",
              "\n",
              "       [[0.  , 0.  , 0.  , 0.  , 0.  , 0.  , 0.  , 0.03, 0.  , 0.97]],\n",
              "\n",
              "       [[0.  , 0.  , 0.  , 0.  , 0.  , 0.01, 0.  , 0.01, 0.  , 0.98]],\n",
              "\n",
              "       [[0.  , 0.  , 0.  , 0.  , 0.  , 0.01, 0.  , 0.13, 0.  , 0.86]],\n",
              "\n",
              "       [[0.  , 0.  , 0.  , 0.  , 0.  , 0.05, 0.  , 0.01, 0.  , 0.95]],\n",
              "\n",
              "       [[0.  , 0.  , 0.  , 0.  , 0.  , 0.  , 0.  , 0.  , 0.  , 1.  ]],\n",
              "\n",
              "       [[0.  , 0.  , 0.  , 0.  , 0.  , 0.  , 0.  , 0.02, 0.  , 0.98]],\n",
              "\n",
              "       [[0.  , 0.  , 0.  , 0.  , 0.  , 0.02, 0.  , 0.47, 0.  , 0.5 ]],\n",
              "\n",
              "       [[0.  , 0.  , 0.  , 0.  , 0.  , 0.02, 0.  , 0.08, 0.  , 0.9 ]],\n",
              "\n",
              "       [[0.  , 0.  , 0.  , 0.  , 0.  , 0.92, 0.  , 0.05, 0.  , 0.04]],\n",
              "\n",
              "       [[0.  , 0.  , 0.  , 0.  , 0.  , 0.19, 0.  , 0.03, 0.  , 0.78]],\n",
              "\n",
              "       [[0.  , 0.  , 0.  , 0.  , 0.  , 0.  , 0.  , 0.02, 0.  , 0.98]],\n",
              "\n",
              "       [[0.  , 0.  , 0.  , 0.  , 0.  , 0.  , 0.  , 0.  , 0.  , 1.  ]],\n",
              "\n",
              "       [[0.  , 0.  , 0.  , 0.  , 0.  , 0.12, 0.  , 0.13, 0.  , 0.75]],\n",
              "\n",
              "       [[0.  , 0.  , 0.  , 0.  , 0.  , 0.06, 0.  , 0.  , 0.  , 0.94]],\n",
              "\n",
              "       [[0.  , 0.  , 0.  , 0.  , 0.  , 0.35, 0.  , 0.4 , 0.05, 0.2 ]],\n",
              "\n",
              "       [[0.  , 0.  , 0.  , 0.  , 0.  , 0.09, 0.  , 0.15, 0.  , 0.76]],\n",
              "\n",
              "       [[0.  , 0.  , 0.  , 0.  , 0.  , 0.01, 0.  , 0.01, 0.  , 0.97]],\n",
              "\n",
              "       [[0.  , 0.  , 0.  , 0.  , 0.  , 0.02, 0.  , 0.04, 0.  , 0.94]],\n",
              "\n",
              "       [[0.  , 0.  , 0.  , 0.  , 0.  , 0.01, 0.  , 0.02, 0.  , 0.97]],\n",
              "\n",
              "       [[0.  , 0.  , 0.  , 0.  , 0.  , 0.  , 0.  , 0.02, 0.  , 0.98]],\n",
              "\n",
              "       [[0.  , 0.  , 0.  , 0.  , 0.  , 0.1 , 0.  , 0.02, 0.  , 0.88]],\n",
              "\n",
              "       [[0.  , 0.  , 0.  , 0.  , 0.  , 0.52, 0.  , 0.04, 0.  , 0.44]]],\n",
              "      dtype=float32)"
            ]
          },
          "execution_count": 113,
          "metadata": {},
          "output_type": "execute_result"
        }
      ],
      "source": [
        "np.round(y_probas[:, :1], 2)"
      ]
    },
    {
      "cell_type": "code",
      "execution_count": null,
      "metadata": {
        "id": "brk6LEYAtQqT",
        "outputId": "1ce46783-5a04-4d9e-de88-8db465b16769"
      },
      "outputs": [
        {
          "data": {
            "text/plain": [
              "array([[0.  , 0.  , 0.  , 0.  , 0.  , 0.11, 0.  , 0.07, 0.  , 0.82]],\n",
              "      dtype=float32)"
            ]
          },
          "execution_count": 114,
          "metadata": {},
          "output_type": "execute_result"
        }
      ],
      "source": [
        "np.round(y_proba[:1], 2)"
      ]
    },
    {
      "cell_type": "code",
      "execution_count": null,
      "metadata": {
        "id": "GjqDQC3vtQqT",
        "outputId": "e0d3855b-dd7f-47a1-fdb4-d8bf229aa46a"
      },
      "outputs": [
        {
          "data": {
            "text/plain": [
              "array([[0.  , 0.  , 0.  , 0.  , 0.  , 0.2 , 0.01, 0.1 , 0.01, 0.22]],\n",
              "      dtype=float32)"
            ]
          },
          "execution_count": 115,
          "metadata": {},
          "output_type": "execute_result"
        }
      ],
      "source": [
        "y_std = y_probas.std(axis=0)\n",
        "np.round(y_std[:1], 2)"
      ]
    },
    {
      "cell_type": "code",
      "execution_count": null,
      "metadata": {
        "id": "RleHn9wytQqU"
      },
      "outputs": [],
      "source": [
        "y_pred = np.argmax(y_proba, axis=1)"
      ]
    },
    {
      "cell_type": "code",
      "execution_count": null,
      "metadata": {
        "id": "UTUUCRcStQqU",
        "outputId": "afdc3628-2842-4fd6-d8de-098c9886e457"
      },
      "outputs": [
        {
          "data": {
            "text/plain": [
              "0.8579"
            ]
          },
          "execution_count": 117,
          "metadata": {},
          "output_type": "execute_result"
        }
      ],
      "source": [
        "accuracy = np.sum(y_pred == y_test) / len(y_test)\n",
        "accuracy"
      ]
    },
    {
      "cell_type": "code",
      "execution_count": null,
      "metadata": {
        "id": "zW_-6600tQqU"
      },
      "outputs": [],
      "source": [
        "class MCDropout(keras.layers.Dropout):\n",
        "    def call(self, inputs):\n",
        "        return super().call(inputs, training=True)\n",
        "\n",
        "class MCAlphaDropout(keras.layers.AlphaDropout):\n",
        "    def call(self, inputs):\n",
        "        return super().call(inputs, training=True)"
      ]
    },
    {
      "cell_type": "code",
      "execution_count": null,
      "metadata": {
        "id": "zVQad55JtQqU"
      },
      "outputs": [],
      "source": [
        "tf.random.set_seed(42)\n",
        "np.random.seed(42)"
      ]
    },
    {
      "cell_type": "code",
      "execution_count": null,
      "metadata": {
        "id": "nFTC_WVptQqU",
        "outputId": "39392a84-01d1-46e5-e811-6ccb7f606a9b"
      },
      "outputs": [
        {
          "name": "stdout",
          "output_type": "stream",
          "text": [
            "WARNING:tensorflow:AutoGraph could not transform <bound method MCAlphaDropout.call of <__main__.MCAlphaDropout object at 0x7ff6444a82d0>> and will run it as-is.\n",
            "Please report this to the TensorFlow team. When filing the bug, set the verbosity to 10 (on Linux, `export AUTOGRAPH_VERBOSITY=10`) and attach the full output.\n",
            "Cause: No module named 'tensorflow_core.estimator'\n",
            "WARNING: AutoGraph could not transform <bound method MCAlphaDropout.call of <__main__.MCAlphaDropout object at 0x7ff6444a82d0>> and will run it as-is.\n",
            "Please report this to the TensorFlow team. When filing the bug, set the verbosity to 10 (on Linux, `export AUTOGRAPH_VERBOSITY=10`) and attach the full output.\n",
            "Cause: No module named 'tensorflow_core.estimator'\n",
            "WARNING:tensorflow:AutoGraph could not transform <bound method MCAlphaDropout.call of <__main__.MCAlphaDropout object at 0x7ff6444a8110>> and will run it as-is.\n",
            "Please report this to the TensorFlow team. When filing the bug, set the verbosity to 10 (on Linux, `export AUTOGRAPH_VERBOSITY=10`) and attach the full output.\n",
            "Cause: No module named 'tensorflow_core.estimator'\n",
            "WARNING: AutoGraph could not transform <bound method MCAlphaDropout.call of <__main__.MCAlphaDropout object at 0x7ff6444a8110>> and will run it as-is.\n",
            "Please report this to the TensorFlow team. When filing the bug, set the verbosity to 10 (on Linux, `export AUTOGRAPH_VERBOSITY=10`) and attach the full output.\n",
            "Cause: No module named 'tensorflow_core.estimator'\n",
            "WARNING:tensorflow:AutoGraph could not transform <bound method MCAlphaDropout.call of <__main__.MCAlphaDropout object at 0x7ff6444a8190>> and will run it as-is.\n",
            "Please report this to the TensorFlow team. When filing the bug, set the verbosity to 10 (on Linux, `export AUTOGRAPH_VERBOSITY=10`) and attach the full output.\n",
            "Cause: No module named 'tensorflow_core.estimator'\n",
            "WARNING: AutoGraph could not transform <bound method MCAlphaDropout.call of <__main__.MCAlphaDropout object at 0x7ff6444a8190>> and will run it as-is.\n",
            "Please report this to the TensorFlow team. When filing the bug, set the verbosity to 10 (on Linux, `export AUTOGRAPH_VERBOSITY=10`) and attach the full output.\n",
            "Cause: No module named 'tensorflow_core.estimator'\n"
          ]
        }
      ],
      "source": [
        "mc_model = keras.models.Sequential([\n",
        "    MCAlphaDropout(layer.rate) if isinstance(layer, keras.layers.AlphaDropout) else layer\n",
        "    for layer in model.layers\n",
        "])"
      ]
    },
    {
      "cell_type": "code",
      "execution_count": null,
      "metadata": {
        "id": "x6WKeYsetQqV",
        "outputId": "657edf35-420d-4075-86be-9e2ab37b08f5"
      },
      "outputs": [
        {
          "name": "stdout",
          "output_type": "stream",
          "text": [
            "Model: \"sequential_21\"\n",
            "_________________________________________________________________\n",
            "Layer (type)                 Output Shape              Param #   \n",
            "=================================================================\n",
            "flatten_18 (Flatten)         (None, 784)               0         \n",
            "_________________________________________________________________\n",
            "mc_alpha_dropout (MCAlphaDro (None, 784)               0         \n",
            "_________________________________________________________________\n",
            "dense_263 (Dense)            (None, 300)               235500    \n",
            "_________________________________________________________________\n",
            "mc_alpha_dropout_1 (MCAlphaD (None, 300)               0         \n",
            "_________________________________________________________________\n",
            "dense_264 (Dense)            (None, 100)               30100     \n",
            "_________________________________________________________________\n",
            "mc_alpha_dropout_2 (MCAlphaD (None, 100)               0         \n",
            "_________________________________________________________________\n",
            "dense_265 (Dense)            (None, 10)                1010      \n",
            "=================================================================\n",
            "Total params: 266,610\n",
            "Trainable params: 266,610\n",
            "Non-trainable params: 0\n",
            "_________________________________________________________________\n"
          ]
        }
      ],
      "source": [
        "mc_model.summary()"
      ]
    },
    {
      "cell_type": "code",
      "execution_count": null,
      "metadata": {
        "id": "rpjJazHLtQqV"
      },
      "outputs": [],
      "source": [
        "optimizer = keras.optimizers.SGD(learning_rate=0.01, momentum=0.9, nesterov=True)\n",
        "mc_model.compile(loss=\"sparse_categorical_crossentropy\", optimizer=optimizer, metrics=[\"accuracy\"])"
      ]
    },
    {
      "cell_type": "code",
      "execution_count": null,
      "metadata": {
        "id": "Bt2LB2uvtQqV"
      },
      "outputs": [],
      "source": [
        "mc_model.set_weights(model.get_weights())"
      ]
    },
    {
      "cell_type": "markdown",
      "metadata": {
        "id": "6FPjGMMWtQqV"
      },
      "source": [
        "Now we can use the model with MC Dropout:"
      ]
    },
    {
      "cell_type": "code",
      "execution_count": null,
      "metadata": {
        "id": "7QrRQ-FZtQqW",
        "outputId": "9a2e9c0a-7a92-4e83-b020-7d745fa9e517"
      },
      "outputs": [
        {
          "data": {
            "text/plain": [
              "array([[0.  , 0.  , 0.  , 0.  , 0.  , 0.12, 0.  , 0.1 , 0.01, 0.77]],\n",
              "      dtype=float32)"
            ]
          },
          "execution_count": 124,
          "metadata": {},
          "output_type": "execute_result"
        }
      ],
      "source": [
        "np.round(np.mean([mc_model.predict(X_test_scaled[:1]) for sample in range(100)], axis=0), 2)"
      ]
    },
    {
      "cell_type": "markdown",
      "metadata": {
        "id": "zdq4JKQ2tQqW"
      },
      "source": [
        "## Max norm"
      ]
    },
    {
      "cell_type": "code",
      "execution_count": null,
      "metadata": {
        "id": "iXyegrqZtQqX"
      },
      "outputs": [],
      "source": [
        "layer = keras.layers.Dense(100, activation=\"selu\", kernel_initializer=\"lecun_normal\",\n",
        "                           kernel_constraint=keras.constraints.max_norm(1.))"
      ]
    },
    {
      "cell_type": "code",
      "execution_count": null,
      "metadata": {
        "id": "YGZ8dmn7tQqX",
        "outputId": "4b5ad1f7-9b48-41a6-b6de-ccd0c96fd841"
      },
      "outputs": [
        {
          "name": "stdout",
          "output_type": "stream",
          "text": [
            "Train on 55000 samples, validate on 5000 samples\n",
            "Epoch 1/2\n",
            "55000/55000 [==============================] - 3s 47us/sample - loss: 0.4747 - accuracy: 0.8353 - val_loss: 0.3974 - val_accuracy: 0.8598\n",
            "Epoch 2/2\n",
            "55000/55000 [==============================] - 2s 42us/sample - loss: 0.3593 - accuracy: 0.8667 - val_loss: 0.3541 - val_accuracy: 0.8748\n"
          ]
        }
      ],
      "source": [
        "MaxNormDense = partial(keras.layers.Dense,\n",
        "                       activation=\"selu\", kernel_initializer=\"lecun_normal\",\n",
        "                       kernel_constraint=keras.constraints.max_norm(1.))\n",
        "\n",
        "model = keras.models.Sequential([\n",
        "    keras.layers.Flatten(input_shape=[28, 28]),\n",
        "    MaxNormDense(300),\n",
        "    MaxNormDense(100),\n",
        "    keras.layers.Dense(10, activation=\"softmax\")\n",
        "])\n",
        "model.compile(loss=\"sparse_categorical_crossentropy\", optimizer=\"nadam\", metrics=[\"accuracy\"])\n",
        "n_epochs = 2\n",
        "history = model.fit(X_train_scaled, y_train, epochs=n_epochs,\n",
        "                    validation_data=(X_valid_scaled, y_valid))"
      ]
    },
    {
      "cell_type": "markdown",
      "metadata": {
        "id": "tIHvwADBtQqX"
      },
      "source": [
        "# Exercises"
      ]
    },
    {
      "cell_type": "markdown",
      "metadata": {
        "id": "3S8nm-HRtQqX"
      },
      "source": [
        "## 1. to 7."
      ]
    },
    {
      "cell_type": "markdown",
      "metadata": {
        "id": "2dgailwCtQqX"
      },
      "source": [
        "See appendix A."
      ]
    },
    {
      "cell_type": "markdown",
      "metadata": {
        "id": "srYgMgkhtQqY"
      },
      "source": [
        "## 8. Deep Learning on CIFAR10"
      ]
    },
    {
      "cell_type": "markdown",
      "metadata": {
        "id": "nZJJ8-kltQqY"
      },
      "source": [
        "### a.\n",
        "*Exercise: Build a DNN with 20 hidden layers of 100 neurons each (that's too many, but it's the point of this exercise). Use He initialization and the ELU activation function.*"
      ]
    },
    {
      "cell_type": "code",
      "execution_count": null,
      "metadata": {
        "id": "AOj67MfYtQqY"
      },
      "outputs": [],
      "source": [
        "keras.backend.clear_session()\n",
        "tf.random.set_seed(42)\n",
        "np.random.seed(42)\n",
        "\n",
        "model = keras.models.Sequential()\n",
        "model.add(keras.layers.Flatten(input_shape=[32, 32, 3]))\n",
        "for _ in range(20):\n",
        "    model.add(keras.layers.Dense(100,\n",
        "                                 activation=\"elu\",\n",
        "                                 kernel_initializer=\"he_normal\"))"
      ]
    },
    {
      "cell_type": "markdown",
      "metadata": {
        "id": "qSWPpONAtQqY"
      },
      "source": [
        "### b.\n",
        "*Exercise: Using Nadam optimization and early stopping, train the network on the CIFAR10 dataset. You can load it with `keras.datasets.cifar10.load_data()`. The dataset is composed of 60,000 32 × 32–pixel color images (50,000 for training, 10,000 for testing) with 10 classes, so you'll need a softmax output layer with 10 neurons. Remember to search for the right learning rate each time you change the model's architecture or hyperparameters.*"
      ]
    },
    {
      "cell_type": "markdown",
      "metadata": {
        "id": "uVEL2TyStQqZ"
      },
      "source": [
        "Let's add the output layer to the model:"
      ]
    },
    {
      "cell_type": "code",
      "execution_count": null,
      "metadata": {
        "id": "mmJzCFSLtQqZ"
      },
      "outputs": [],
      "source": [
        "model.add(keras.layers.Dense(10, activation=\"softmax\"))"
      ]
    },
    {
      "cell_type": "markdown",
      "metadata": {
        "id": "ZcAq-AtXtQqZ"
      },
      "source": [
        "Let's use a Nadam optimizer with a learning rate of 5e-5. I tried learning rates 1e-5, 3e-5, 1e-4, 3e-4, 1e-3, 3e-3 and 1e-2, and I compared their learning curves for 10 epochs each (using the TensorBoard callback, below). The learning rates 3e-5 and 1e-4 were pretty good, so I tried 5e-5, which turned out to be slightly better."
      ]
    },
    {
      "cell_type": "code",
      "execution_count": null,
      "metadata": {
        "id": "GMaMVr9GtQqZ"
      },
      "outputs": [],
      "source": [
        "optimizer = keras.optimizers.Nadam(learning_rate=5e-5)\n",
        "model.compile(loss=\"sparse_categorical_crossentropy\",\n",
        "              optimizer=optimizer,\n",
        "              metrics=[\"accuracy\"])"
      ]
    },
    {
      "cell_type": "markdown",
      "metadata": {
        "id": "meFigq0_tQqZ"
      },
      "source": [
        "Let's load the CIFAR10 dataset. We also want to use early stopping, so we need a validation set. Let's use the first 5,000 images of the original training set as the validation set:"
      ]
    },
    {
      "cell_type": "code",
      "execution_count": null,
      "metadata": {
        "id": "m2T9GExDtQqa",
        "outputId": "fa9a10cc-2075-4343-a2cb-135b86a96f9b"
      },
      "outputs": [
        {
          "name": "stdout",
          "output_type": "stream",
          "text": [
            "Downloading data from https://www.cs.toronto.edu/~kriz/cifar-10-python.tar.gz\n",
            "170500096/170498071 [==============================] - 2s 0us/step\n"
          ]
        }
      ],
      "source": [
        "(X_train_full, y_train_full), (X_test, y_test) = keras.datasets.cifar10.load_data()\n",
        "\n",
        "X_train = X_train_full[5000:]\n",
        "y_train = y_train_full[5000:]\n",
        "X_valid = X_train_full[:5000]\n",
        "y_valid = y_train_full[:5000]"
      ]
    },
    {
      "cell_type": "markdown",
      "metadata": {
        "id": "k4sG4AnFtQqa"
      },
      "source": [
        "Now we can create the callbacks we need and train the model:"
      ]
    },
    {
      "cell_type": "code",
      "execution_count": null,
      "metadata": {
        "id": "grzXozaftQqa"
      },
      "outputs": [],
      "source": [
        "early_stopping_cb = keras.callbacks.EarlyStopping(patience=20)\n",
        "model_checkpoint_cb = keras.callbacks.ModelCheckpoint(\"my_cifar10_model.h5\", save_best_only=True)\n",
        "run_index = 1 # increment every time you train the model\n",
        "run_logdir = os.path.join(os.curdir, \"my_cifar10_logs\", \"run_{:03d}\".format(run_index))\n",
        "tensorboard_cb = keras.callbacks.TensorBoard(run_logdir)\n",
        "callbacks = [early_stopping_cb, model_checkpoint_cb, tensorboard_cb]"
      ]
    },
    {
      "cell_type": "code",
      "execution_count": null,
      "metadata": {
        "id": "1wAtsdWvtQqb",
        "outputId": "ce812a35-43b4-4573-cbc2-4625a5396dc4"
      },
      "outputs": [
        {
          "data": {
            "text/html": [
              "\n",
              "      <iframe id=\"tensorboard-frame-b9cd49ce3507bef\" width=\"100%\" height=\"800\" frameborder=\"0\">\n",
              "      </iframe>\n",
              "      <script>\n",
              "        (function() {\n",
              "          const frame = document.getElementById(\"tensorboard-frame-b9cd49ce3507bef\");\n",
              "          const url = new URL(\"/\", window.location);\n",
              "          const port = 8869;\n",
              "          if (port) {\n",
              "            url.port = port;\n",
              "          }\n",
              "          frame.src = url;\n",
              "        })();\n",
              "      </script>\n",
              "    "
            ],
            "text/plain": [
              "<IPython.core.display.HTML object>"
            ]
          },
          "metadata": {},
          "output_type": "display_data"
        }
      ],
      "source": [
        "%tensorboard --logdir=./my_cifar10_logs --port=8869 --host 0.0.0.0"
      ]
    },
    {
      "cell_type": "code",
      "execution_count": null,
      "metadata": {
        "scrolled": false,
        "id": "gECQWvwktQqb",
        "outputId": "93e28e5e-6dd9-4b84-a9ff-3138a527fb16"
      },
      "outputs": [
        {
          "name": "stdout",
          "output_type": "stream",
          "text": [
            "Train on 45000 samples, validate on 5000 samples\n",
            "Epoch 1/100\n",
            "   32/45000 [..............................] - ETA: 42:21 - loss: 219.3986 - accuracy: 0.1250WARNING:tensorflow:Method (on_train_batch_end) is slow compared to the batch update (0.273827). Check your callbacks.\n",
            " 1152/45000 [..............................] - ETA: 1:14 - loss: 45.1854 - accuracy: 0.1042"
          ]
        },
        {
          "name": "stderr",
          "output_type": "stream",
          "text": [
            "2022-03-24 23:41:47.886349: I tensorflow/core/profiler/lib/profiler_session.cc:225] Profiler session started.\n",
            "2022-03-24 23:41:47.900348: I tensorflow/core/profiler/internal/gpu/cupti_tracer.cc:1259] Profiler found 1 GPUs\n",
            "2022-03-24 23:41:48.235600: I tensorflow/stream_executor/platform/default/dso_loader.cc:44] Successfully opened dynamic library libcupti.so.10.1\n",
            "2022-03-24 23:41:48.360140: E tensorflow/core/profiler/internal/gpu/cupti_tracer.cc:1307] function cupti_interface_->Subscribe( &subscriber_, (CUpti_CallbackFunc)ApiCallback, this)failed with error CUPTI_ERROR_INSUFFICIENT_PRIVILEGES\n",
            "2022-03-24 23:41:48.361552: E tensorflow/core/profiler/internal/gpu/cupti_tracer.cc:1346] function cupti_interface_->ActivityRegisterCallbacks( AllocCuptiActivityBuffer, FreeCuptiActivityBuffer)failed with error CUPTI_ERROR_INSUFFICIENT_PRIVILEGES\n",
            "2022-03-24 23:41:48.377105: E tensorflow/core/profiler/internal/gpu/cupti_tracer.cc:1329] function cupti_interface_->EnableCallback( 0 , subscriber_, CUPTI_CB_DOMAIN_DRIVER_API, cbid)failed with error CUPTI_ERROR_INVALID_PARAMETER\n",
            "2022-03-24 23:41:48.377121: I tensorflow/core/profiler/internal/gpu/device_tracer.cc:88]  GpuTracer has collected 0 callback api events and 0 activity events.\n"
          ]
        },
        {
          "name": "stdout",
          "output_type": "stream",
          "text": [
            "45000/45000 [==============================] - 8s 171us/sample - loss: 4.1182 - accuracy: 0.1661 - val_loss: 2.1997 - val_accuracy: 0.2142\n",
            "Epoch 2/100\n",
            "45000/45000 [==============================] - 6s 127us/sample - loss: 2.0601 - accuracy: 0.2479 - val_loss: 2.0333 - val_accuracy: 0.2746\n",
            "Epoch 3/100\n",
            "45000/45000 [==============================] - 6s 125us/sample - loss: 1.9398 - accuracy: 0.2898 - val_loss: 1.8948 - val_accuracy: 0.3066\n",
            "Epoch 4/100\n",
            "45000/45000 [==============================] - 6s 126us/sample - loss: 1.8594 - accuracy: 0.3240 - val_loss: 1.8106 - val_accuracy: 0.3376\n",
            "Epoch 5/100\n",
            "45000/45000 [==============================] - 6s 127us/sample - loss: 1.7993 - accuracy: 0.3498 - val_loss: 1.7930 - val_accuracy: 0.3538\n",
            "Epoch 6/100\n",
            "45000/45000 [==============================] - 6s 126us/sample - loss: 1.7473 - accuracy: 0.3680 - val_loss: 1.7378 - val_accuracy: 0.3752\n",
            "Epoch 7/100\n",
            "45000/45000 [==============================] - 6s 127us/sample - loss: 1.7051 - accuracy: 0.3828 - val_loss: 1.7056 - val_accuracy: 0.3788\n",
            "Epoch 8/100\n",
            "45000/45000 [==============================] - 6s 125us/sample - loss: 1.6659 - accuracy: 0.3994 - val_loss: 1.7592 - val_accuracy: 0.3646\n",
            "Epoch 9/100\n",
            "45000/45000 [==============================] - 6s 128us/sample - loss: 1.6403 - accuracy: 0.4105 - val_loss: 1.6561 - val_accuracy: 0.4082\n",
            "Epoch 10/100\n",
            "45000/45000 [==============================] - 6s 124us/sample - loss: 1.6118 - accuracy: 0.4195 - val_loss: 1.6703 - val_accuracy: 0.3954\n",
            "Epoch 11/100\n",
            "45000/45000 [==============================] - 6s 127us/sample - loss: 1.5895 - accuracy: 0.4292 - val_loss: 1.6172 - val_accuracy: 0.4174\n",
            "Epoch 12/100\n",
            "45000/45000 [==============================] - 6s 126us/sample - loss: 1.5729 - accuracy: 0.4350 - val_loss: 1.6453 - val_accuracy: 0.4110\n",
            "Epoch 13/100\n",
            "45000/45000 [==============================] - 6s 128us/sample - loss: 1.5521 - accuracy: 0.4411 - val_loss: 1.5879 - val_accuracy: 0.4336\n",
            "Epoch 14/100\n",
            "45000/45000 [==============================] - 6s 125us/sample - loss: 1.5377 - accuracy: 0.4460 - val_loss: 1.6083 - val_accuracy: 0.4232\n",
            "Epoch 15/100\n",
            "45000/45000 [==============================] - 6s 127us/sample - loss: 1.5192 - accuracy: 0.4555 - val_loss: 1.5914 - val_accuracy: 0.4340\n",
            "Epoch 16/100\n",
            "45000/45000 [==============================] - 6s 128us/sample - loss: 1.5044 - accuracy: 0.4601 - val_loss: 1.5916 - val_accuracy: 0.4274\n",
            "Epoch 17/100\n",
            "45000/45000 [==============================] - 6s 126us/sample - loss: 1.4890 - accuracy: 0.4653 - val_loss: 1.6815 - val_accuracy: 0.4100\n",
            "Epoch 18/100\n",
            "45000/45000 [==============================] - 6s 128us/sample - loss: 1.4744 - accuracy: 0.4708 - val_loss: 1.5441 - val_accuracy: 0.4506\n",
            "Epoch 19/100\n",
            "45000/45000 [==============================] - 6s 126us/sample - loss: 1.4604 - accuracy: 0.4760 - val_loss: 1.5576 - val_accuracy: 0.4466\n",
            "Epoch 20/100\n",
            "45000/45000 [==============================] - 6s 126us/sample - loss: 1.4459 - accuracy: 0.4801 - val_loss: 1.5595 - val_accuracy: 0.4370\n",
            "Epoch 21/100\n",
            "45000/45000 [==============================] - 6s 125us/sample - loss: 1.4342 - accuracy: 0.4834 - val_loss: 1.6164 - val_accuracy: 0.4266\n",
            "Epoch 22/100\n",
            "45000/45000 [==============================] - 6s 126us/sample - loss: 1.4210 - accuracy: 0.4885 - val_loss: 1.5508 - val_accuracy: 0.4384\n",
            "Epoch 23/100\n",
            "45000/45000 [==============================] - 6s 127us/sample - loss: 1.4135 - accuracy: 0.4920 - val_loss: 1.5312 - val_accuracy: 0.4532\n",
            "Epoch 24/100\n",
            "45000/45000 [==============================] - 6s 128us/sample - loss: 1.3978 - accuracy: 0.4984 - val_loss: 1.5578 - val_accuracy: 0.4402\n",
            "Epoch 25/100\n",
            "45000/45000 [==============================] - 6s 127us/sample - loss: 1.3877 - accuracy: 0.4989 - val_loss: 1.5464 - val_accuracy: 0.4496\n",
            "Epoch 26/100\n",
            "45000/45000 [==============================] - 6s 126us/sample - loss: 1.3734 - accuracy: 0.5055 - val_loss: 1.5410 - val_accuracy: 0.4532\n",
            "Epoch 27/100\n",
            "45000/45000 [==============================] - 6s 128us/sample - loss: 1.3669 - accuracy: 0.5080 - val_loss: 1.5224 - val_accuracy: 0.4536\n",
            "Epoch 28/100\n",
            "45000/45000 [==============================] - 6s 126us/sample - loss: 1.3575 - accuracy: 0.5129 - val_loss: 1.5540 - val_accuracy: 0.4500\n",
            "Epoch 29/100\n",
            "45000/45000 [==============================] - 6s 127us/sample - loss: 1.3452 - accuracy: 0.5158 - val_loss: 1.5466 - val_accuracy: 0.4516\n",
            "Epoch 30/100\n",
            "45000/45000 [==============================] - 6s 126us/sample - loss: 1.3372 - accuracy: 0.5186 - val_loss: 1.5247 - val_accuracy: 0.4666\n",
            "Epoch 31/100\n",
            "45000/45000 [==============================] - 6s 126us/sample - loss: 1.3249 - accuracy: 0.5226 - val_loss: 1.5306 - val_accuracy: 0.4482\n",
            "Epoch 32/100\n",
            "45000/45000 [==============================] - 6s 125us/sample - loss: 1.3191 - accuracy: 0.5244 - val_loss: 1.5440 - val_accuracy: 0.4594\n",
            "Epoch 33/100\n",
            "45000/45000 [==============================] - 6s 128us/sample - loss: 1.3081 - accuracy: 0.5303 - val_loss: 1.5173 - val_accuracy: 0.4648\n",
            "Epoch 34/100\n",
            "45000/45000 [==============================] - 6s 125us/sample - loss: 1.2967 - accuracy: 0.5340 - val_loss: 1.5310 - val_accuracy: 0.4706\n",
            "Epoch 35/100\n",
            "45000/45000 [==============================] - 6s 127us/sample - loss: 1.2885 - accuracy: 0.5384 - val_loss: 1.5377 - val_accuracy: 0.4652\n",
            "Epoch 36/100\n",
            "45000/45000 [==============================] - 6s 127us/sample - loss: 1.2801 - accuracy: 0.5421 - val_loss: 1.5152 - val_accuracy: 0.4654\n",
            "Epoch 37/100\n",
            "45000/45000 [==============================] - 6s 127us/sample - loss: 1.2721 - accuracy: 0.5436 - val_loss: 1.5192 - val_accuracy: 0.4742\n",
            "Epoch 38/100\n",
            "45000/45000 [==============================] - 6s 128us/sample - loss: 1.2637 - accuracy: 0.5463 - val_loss: 1.5161 - val_accuracy: 0.4692\n",
            "Epoch 39/100\n",
            "45000/45000 [==============================] - 6s 125us/sample - loss: 1.2586 - accuracy: 0.5491 - val_loss: 1.5173 - val_accuracy: 0.4678\n",
            "Epoch 40/100\n",
            "45000/45000 [==============================] - 6s 125us/sample - loss: 1.2479 - accuracy: 0.5529 - val_loss: 1.5231 - val_accuracy: 0.4656\n",
            "Epoch 41/100\n",
            "45000/45000 [==============================] - 6s 126us/sample - loss: 1.2383 - accuracy: 0.5525 - val_loss: 1.5356 - val_accuracy: 0.4592\n",
            "Epoch 42/100\n",
            "45000/45000 [==============================] - 6s 129us/sample - loss: 1.2324 - accuracy: 0.5554 - val_loss: 1.5020 - val_accuracy: 0.4756\n",
            "Epoch 43/100\n",
            "45000/45000 [==============================] - 6s 126us/sample - loss: 1.2251 - accuracy: 0.5595 - val_loss: 1.5357 - val_accuracy: 0.4592\n",
            "Epoch 44/100\n",
            "45000/45000 [==============================] - 6s 126us/sample - loss: 1.2169 - accuracy: 0.5632 - val_loss: 1.5346 - val_accuracy: 0.4800\n",
            "Epoch 45/100\n",
            "45000/45000 [==============================] - 6s 127us/sample - loss: 1.2087 - accuracy: 0.5662 - val_loss: 1.5093 - val_accuracy: 0.4732\n",
            "Epoch 46/100\n",
            "45000/45000 [==============================] - 6s 125us/sample - loss: 1.2022 - accuracy: 0.5654 - val_loss: 1.5053 - val_accuracy: 0.4808\n",
            "Epoch 47/100\n",
            "45000/45000 [==============================] - 6s 126us/sample - loss: 1.1932 - accuracy: 0.5722 - val_loss: 1.5561 - val_accuracy: 0.4652\n",
            "Epoch 48/100\n",
            "45000/45000 [==============================] - 6s 126us/sample - loss: 1.1891 - accuracy: 0.5708 - val_loss: 1.5477 - val_accuracy: 0.4672\n",
            "Epoch 49/100\n",
            "45000/45000 [==============================] - 6s 126us/sample - loss: 1.1785 - accuracy: 0.5783 - val_loss: 1.5352 - val_accuracy: 0.4758\n",
            "Epoch 50/100\n",
            "45000/45000 [==============================] - 6s 126us/sample - loss: 1.1746 - accuracy: 0.5788 - val_loss: 1.5725 - val_accuracy: 0.4708\n",
            "Epoch 51/100\n",
            "45000/45000 [==============================] - 6s 127us/sample - loss: 1.1639 - accuracy: 0.5822 - val_loss: 1.5599 - val_accuracy: 0.4768\n",
            "Epoch 52/100\n",
            "45000/45000 [==============================] - 6s 125us/sample - loss: 1.1600 - accuracy: 0.5825 - val_loss: 1.5431 - val_accuracy: 0.4722\n",
            "Epoch 53/100\n",
            "45000/45000 [==============================] - 6s 127us/sample - loss: 1.1517 - accuracy: 0.5842 - val_loss: 1.5758 - val_accuracy: 0.4718\n",
            "Epoch 54/100\n",
            "45000/45000 [==============================] - 6s 126us/sample - loss: 1.1442 - accuracy: 0.5888 - val_loss: 1.5865 - val_accuracy: 0.4796\n",
            "Epoch 55/100\n",
            "45000/45000 [==============================] - 6s 126us/sample - loss: 1.1377 - accuracy: 0.5915 - val_loss: 1.6021 - val_accuracy: 0.4570\n",
            "Epoch 56/100\n",
            "45000/45000 [==============================] - 6s 127us/sample - loss: 1.1297 - accuracy: 0.5938 - val_loss: 1.5655 - val_accuracy: 0.4818\n",
            "Epoch 57/100\n",
            "45000/45000 [==============================] - 6s 128us/sample - loss: 1.1256 - accuracy: 0.5960 - val_loss: 1.6007 - val_accuracy: 0.4734\n",
            "Epoch 58/100\n",
            "45000/45000 [==============================] - 6s 126us/sample - loss: 1.1194 - accuracy: 0.5960 - val_loss: 1.5304 - val_accuracy: 0.4780\n",
            "Epoch 59/100\n",
            "45000/45000 [==============================] - 6s 127us/sample - loss: 1.1085 - accuracy: 0.6044 - val_loss: 1.5622 - val_accuracy: 0.4760\n",
            "Epoch 60/100\n",
            "45000/45000 [==============================] - 6s 126us/sample - loss: 1.1064 - accuracy: 0.6018 - val_loss: 1.5817 - val_accuracy: 0.4742\n",
            "Epoch 61/100\n",
            "45000/45000 [==============================] - 6s 127us/sample - loss: 1.1001 - accuracy: 0.6039 - val_loss: 1.5836 - val_accuracy: 0.4764\n",
            "Epoch 62/100\n",
            "45000/45000 [==============================] - 6s 126us/sample - loss: 1.0938 - accuracy: 0.6072 - val_loss: 1.5796 - val_accuracy: 0.4740\n"
          ]
        },
        {
          "data": {
            "text/plain": [
              "<tensorflow.python.keras.callbacks.History at 0x7ff706dba310>"
            ]
          },
          "execution_count": 133,
          "metadata": {},
          "output_type": "execute_result"
        }
      ],
      "source": [
        "model.fit(X_train, y_train, epochs=100,\n",
        "          validation_data=(X_valid, y_valid),\n",
        "          callbacks=callbacks)"
      ]
    },
    {
      "cell_type": "code",
      "execution_count": null,
      "metadata": {
        "id": "v-EwbrWFtQqb",
        "outputId": "a5b12fff-2902-4edd-ab1a-bc14063d1804"
      },
      "outputs": [
        {
          "name": "stdout",
          "output_type": "stream",
          "text": [
            "5000/5000 [==============================] - 0s 46us/sample - loss: 1.5020 - accuracy: 0.4756\n"
          ]
        },
        {
          "data": {
            "text/plain": [
              "[1.5019806674957275, 0.4756]"
            ]
          },
          "execution_count": 134,
          "metadata": {},
          "output_type": "execute_result"
        }
      ],
      "source": [
        "model = keras.models.load_model(\"my_cifar10_model.h5\")\n",
        "model.evaluate(X_valid, y_valid)"
      ]
    },
    {
      "cell_type": "markdown",
      "metadata": {
        "id": "gXTW5SuEtQqb"
      },
      "source": [
        "The model with the lowest validation loss gets about 47.6% accuracy on the validation set. It took 27 epochs to reach the lowest validation loss, with roughly 8 seconds per epoch on my laptop (without a GPU). Let's see if we can improve performance using Batch Normalization."
      ]
    },
    {
      "cell_type": "markdown",
      "metadata": {
        "id": "u39Ki1QztQqb"
      },
      "source": [
        "### c.\n",
        "*Exercise: Now try adding Batch Normalization and compare the learning curves: Is it converging faster than before? Does it produce a better model? How does it affect training speed?*"
      ]
    },
    {
      "cell_type": "markdown",
      "metadata": {
        "id": "KVFayDZWtQqc"
      },
      "source": [
        "The code below is very similar to the code above, with a few changes:\n",
        "\n",
        "* I added a BN layer after every Dense layer (before the activation function), except for the output layer. I also added a BN layer before the first hidden layer.\n",
        "* I changed the learning rate to 5e-4. I experimented with 1e-5, 3e-5, 5e-5, 1e-4, 3e-4, 5e-4, 1e-3 and 3e-3, and I chose the one with the best validation performance after 20 epochs.\n",
        "* I renamed the run directories to run_bn_* and the model file name to my_cifar10_bn_model.h5."
      ]
    },
    {
      "cell_type": "code",
      "execution_count": null,
      "metadata": {
        "scrolled": false,
        "id": "wEcTm_3UtQqc",
        "outputId": "c5ba09b8-5919-47a0-de21-c2bba4247753"
      },
      "outputs": [
        {
          "name": "stdout",
          "output_type": "stream",
          "text": [
            "Train on 45000 samples, validate on 5000 samples\n",
            "Epoch 1/100\n",
            "  576/45000 [..............................] - ETA: 5:05 - loss: 2.5224 - accuracy: 0.1302"
          ]
        },
        {
          "name": "stderr",
          "output_type": "stream",
          "text": [
            "2022-03-24 23:47:47.270832: I tensorflow/core/profiler/lib/profiler_session.cc:225] Profiler session started.\n",
            "2022-03-24 23:47:47.270907: E tensorflow/core/profiler/internal/gpu/cupti_tracer.cc:1307] function cupti_interface_->Subscribe( &subscriber_, (CUpti_CallbackFunc)ApiCallback, this)failed with error CUPTI_ERROR_NOT_INITIALIZED\n",
            "2022-03-24 23:47:47.270973: E tensorflow/core/profiler/internal/gpu/cupti_tracer.cc:1346] function cupti_interface_->ActivityRegisterCallbacks( AllocCuptiActivityBuffer, FreeCuptiActivityBuffer)failed with error CUPTI_ERROR_NOT_INITIALIZED\n",
            "2022-03-24 23:47:47.284349: E tensorflow/core/profiler/internal/gpu/cupti_tracer.cc:1329] function cupti_interface_->EnableCallback( 0 , subscriber_, CUPTI_CB_DOMAIN_DRIVER_API, cbid)failed with error CUPTI_ERROR_INVALID_PARAMETER\n",
            "2022-03-24 23:47:47.284378: I tensorflow/core/profiler/internal/gpu/device_tracer.cc:88]  GpuTracer has collected 0 callback api events and 0 activity events.\n"
          ]
        },
        {
          "name": "stdout",
          "output_type": "stream",
          "text": [
            "45000/45000 [==============================] - 18s 401us/sample - loss: 1.8267 - accuracy: 0.3449 - val_loss: 1.6307 - val_accuracy: 0.4176\n",
            "Epoch 2/100\n",
            "45000/45000 [==============================] - 14s 313us/sample - loss: 1.6618 - accuracy: 0.4090 - val_loss: 1.5872 - val_accuracy: 0.4362\n",
            "Epoch 3/100\n",
            "45000/45000 [==============================] - 14s 311us/sample - loss: 1.5966 - accuracy: 0.4326 - val_loss: 1.5155 - val_accuracy: 0.4576\n",
            "Epoch 4/100\n",
            "45000/45000 [==============================] - 14s 310us/sample - loss: 1.5428 - accuracy: 0.4516 - val_loss: 1.4540 - val_accuracy: 0.4828\n",
            "Epoch 5/100\n",
            "45000/45000 [==============================] - 14s 312us/sample - loss: 1.4990 - accuracy: 0.4671 - val_loss: 1.4491 - val_accuracy: 0.4846\n",
            "Epoch 6/100\n",
            "45000/45000 [==============================] - 14s 308us/sample - loss: 1.4603 - accuracy: 0.4803 - val_loss: 1.4262 - val_accuracy: 0.4944\n",
            "Epoch 7/100\n",
            "45000/45000 [==============================] - 14s 309us/sample - loss: 1.4274 - accuracy: 0.4926 - val_loss: 1.4050 - val_accuracy: 0.4984\n",
            "Epoch 8/100\n",
            "45000/45000 [==============================] - 14s 312us/sample - loss: 1.4033 - accuracy: 0.5016 - val_loss: 1.3801 - val_accuracy: 0.5142\n",
            "Epoch 9/100\n",
            "45000/45000 [==============================] - 14s 308us/sample - loss: 1.3719 - accuracy: 0.5127 - val_loss: 1.3912 - val_accuracy: 0.5086\n",
            "Epoch 10/100\n",
            "45000/45000 [==============================] - 14s 310us/sample - loss: 1.3501 - accuracy: 0.5216 - val_loss: 1.3654 - val_accuracy: 0.5208\n",
            "Epoch 11/100\n",
            "45000/45000 [==============================] - 14s 309us/sample - loss: 1.3305 - accuracy: 0.5285 - val_loss: 1.3746 - val_accuracy: 0.5148\n",
            "Epoch 12/100\n",
            "45000/45000 [==============================] - 14s 308us/sample - loss: 1.3107 - accuracy: 0.5374 - val_loss: 1.3713 - val_accuracy: 0.5204\n",
            "Epoch 13/100\n",
            "45000/45000 [==============================] - 14s 309us/sample - loss: 1.2963 - accuracy: 0.5409 - val_loss: 1.3550 - val_accuracy: 0.5188\n",
            "Epoch 14/100\n",
            "45000/45000 [==============================] - 14s 312us/sample - loss: 1.2721 - accuracy: 0.5488 - val_loss: 1.3389 - val_accuracy: 0.5252\n",
            "Epoch 15/100\n",
            "45000/45000 [==============================] - 14s 307us/sample - loss: 1.2578 - accuracy: 0.5535 - val_loss: 1.3925 - val_accuracy: 0.5124\n",
            "Epoch 16/100\n",
            "45000/45000 [==============================] - 14s 306us/sample - loss: 1.2494 - accuracy: 0.5583 - val_loss: 1.3670 - val_accuracy: 0.5232\n",
            "Epoch 17/100\n",
            "45000/45000 [==============================] - 14s 312us/sample - loss: 1.2293 - accuracy: 0.5646 - val_loss: 1.3110 - val_accuracy: 0.5412\n",
            "Epoch 18/100\n",
            "45000/45000 [==============================] - 14s 308us/sample - loss: 1.2160 - accuracy: 0.5702 - val_loss: 1.3239 - val_accuracy: 0.5332\n",
            "Epoch 19/100\n",
            "45000/45000 [==============================] - 14s 309us/sample - loss: 1.1985 - accuracy: 0.5769 - val_loss: 1.3519 - val_accuracy: 0.5246\n",
            "Epoch 20/100\n",
            "45000/45000 [==============================] - 14s 310us/sample - loss: 1.1868 - accuracy: 0.5796 - val_loss: 1.3332 - val_accuracy: 0.5192\n",
            "Epoch 21/100\n",
            "45000/45000 [==============================] - 14s 308us/sample - loss: 1.1751 - accuracy: 0.5841 - val_loss: 1.3389 - val_accuracy: 0.5392\n",
            "Epoch 22/100\n",
            "45000/45000 [==============================] - 14s 308us/sample - loss: 1.1625 - accuracy: 0.5874 - val_loss: 1.3397 - val_accuracy: 0.5466\n",
            "Epoch 23/100\n",
            "45000/45000 [==============================] - 14s 316us/sample - loss: 1.1471 - accuracy: 0.5941 - val_loss: 1.2967 - val_accuracy: 0.5468\n",
            "Epoch 24/100\n",
            "45000/45000 [==============================] - 14s 309us/sample - loss: 1.1291 - accuracy: 0.5996 - val_loss: 1.3096 - val_accuracy: 0.5406\n",
            "Epoch 25/100\n",
            "45000/45000 [==============================] - 14s 308us/sample - loss: 1.1202 - accuracy: 0.6049 - val_loss: 1.3376 - val_accuracy: 0.5372\n",
            "Epoch 26/100\n",
            "45000/45000 [==============================] - 14s 305us/sample - loss: 1.1141 - accuracy: 0.6066 - val_loss: 1.3323 - val_accuracy: 0.5336\n",
            "Epoch 27/100\n",
            "45000/45000 [==============================] - 14s 309us/sample - loss: 1.0953 - accuracy: 0.6152 - val_loss: 1.3414 - val_accuracy: 0.5378\n",
            "Epoch 28/100\n",
            "45000/45000 [==============================] - 14s 308us/sample - loss: 1.0880 - accuracy: 0.6175 - val_loss: 1.3503 - val_accuracy: 0.5390\n",
            "Epoch 29/100\n",
            "45000/45000 [==============================] - 14s 315us/sample - loss: 1.0809 - accuracy: 0.6184 - val_loss: 1.2935 - val_accuracy: 0.5532\n",
            "Epoch 30/100\n",
            "45000/45000 [==============================] - 14s 303us/sample - loss: 1.0688 - accuracy: 0.6215 - val_loss: 1.3296 - val_accuracy: 0.5424\n",
            "Epoch 31/100\n",
            "45000/45000 [==============================] - 14s 308us/sample - loss: 1.0550 - accuracy: 0.6278 - val_loss: 1.3475 - val_accuracy: 0.5362\n",
            "Epoch 32/100\n",
            "45000/45000 [==============================] - 14s 306us/sample - loss: 1.0476 - accuracy: 0.6307 - val_loss: 1.3494 - val_accuracy: 0.5396\n",
            "Epoch 33/100\n",
            "45000/45000 [==============================] - 14s 304us/sample - loss: 1.0389 - accuracy: 0.6342 - val_loss: 1.3515 - val_accuracy: 0.5432\n",
            "Epoch 34/100\n",
            "45000/45000 [==============================] - 14s 308us/sample - loss: 1.0252 - accuracy: 0.6386 - val_loss: 1.3241 - val_accuracy: 0.5480\n",
            "Epoch 35/100\n",
            "45000/45000 [==============================] - 14s 306us/sample - loss: 1.0195 - accuracy: 0.6406 - val_loss: 1.3883 - val_accuracy: 0.5296\n",
            "Epoch 36/100\n",
            "45000/45000 [==============================] - 14s 308us/sample - loss: 1.0120 - accuracy: 0.6427 - val_loss: 1.3187 - val_accuracy: 0.5466\n",
            "Epoch 37/100\n",
            "45000/45000 [==============================] - 14s 307us/sample - loss: 1.0007 - accuracy: 0.6473 - val_loss: 1.3563 - val_accuracy: 0.5380\n",
            "Epoch 38/100\n",
            "45000/45000 [==============================] - 14s 309us/sample - loss: 0.9936 - accuracy: 0.6465 - val_loss: 1.3521 - val_accuracy: 0.5374\n",
            "Epoch 39/100\n",
            "45000/45000 [==============================] - 14s 309us/sample - loss: 0.9824 - accuracy: 0.6534 - val_loss: 1.3590 - val_accuracy: 0.5376\n",
            "Epoch 40/100\n",
            "45000/45000 [==============================] - 14s 310us/sample - loss: 0.9731 - accuracy: 0.6565 - val_loss: 1.3982 - val_accuracy: 0.5330\n",
            "Epoch 41/100\n",
            "45000/45000 [==============================] - 14s 305us/sample - loss: 0.9631 - accuracy: 0.6604 - val_loss: 1.3589 - val_accuracy: 0.5440\n",
            "Epoch 42/100\n",
            "45000/45000 [==============================] - 14s 308us/sample - loss: 0.9587 - accuracy: 0.6644 - val_loss: 1.3844 - val_accuracy: 0.5410\n",
            "Epoch 43/100\n",
            "45000/45000 [==============================] - 14s 307us/sample - loss: 0.9438 - accuracy: 0.6676 - val_loss: 1.3486 - val_accuracy: 0.5440\n",
            "Epoch 44/100\n",
            "45000/45000 [==============================] - 14s 306us/sample - loss: 0.9338 - accuracy: 0.6699 - val_loss: 1.3712 - val_accuracy: 0.5436\n",
            "Epoch 45/100\n",
            "45000/45000 [==============================] - 14s 307us/sample - loss: 0.9316 - accuracy: 0.6710 - val_loss: 1.3638 - val_accuracy: 0.5386\n",
            "Epoch 46/100\n",
            "45000/45000 [==============================] - 14s 307us/sample - loss: 0.9218 - accuracy: 0.6767 - val_loss: 1.3775 - val_accuracy: 0.5444\n",
            "Epoch 47/100\n",
            "45000/45000 [==============================] - 14s 308us/sample - loss: 0.9121 - accuracy: 0.6786 - val_loss: 1.3744 - val_accuracy: 0.5452\n",
            "Epoch 48/100\n",
            "45000/45000 [==============================] - 14s 305us/sample - loss: 0.9147 - accuracy: 0.6778 - val_loss: 1.3779 - val_accuracy: 0.5450\n",
            "Epoch 49/100\n",
            "45000/45000 [==============================] - 14s 304us/sample - loss: 0.9038 - accuracy: 0.6829 - val_loss: 1.3815 - val_accuracy: 0.5348\n",
            "5000/5000 [==============================] - 0s 95us/sample - loss: 1.2935 - accuracy: 0.5532\n"
          ]
        },
        {
          "data": {
            "text/plain": [
              "[1.2935044775009155, 0.5532]"
            ]
          },
          "execution_count": 135,
          "metadata": {},
          "output_type": "execute_result"
        }
      ],
      "source": [
        "keras.backend.clear_session()\n",
        "tf.random.set_seed(42)\n",
        "np.random.seed(42)\n",
        "\n",
        "model = keras.models.Sequential()\n",
        "model.add(keras.layers.Flatten(input_shape=[32, 32, 3]))\n",
        "model.add(keras.layers.BatchNormalization())\n",
        "for _ in range(20):\n",
        "    model.add(keras.layers.Dense(100, kernel_initializer=\"he_normal\"))\n",
        "    model.add(keras.layers.BatchNormalization())\n",
        "    model.add(keras.layers.Activation(\"elu\"))\n",
        "model.add(keras.layers.Dense(10, activation=\"softmax\"))\n",
        "\n",
        "optimizer = keras.optimizers.Nadam(learning_rate=5e-4)\n",
        "model.compile(loss=\"sparse_categorical_crossentropy\",\n",
        "              optimizer=optimizer,\n",
        "              metrics=[\"accuracy\"])\n",
        "\n",
        "early_stopping_cb = keras.callbacks.EarlyStopping(patience=20)\n",
        "model_checkpoint_cb = keras.callbacks.ModelCheckpoint(\"my_cifar10_bn_model.h5\", save_best_only=True)\n",
        "run_index = 1 # increment every time you train the model\n",
        "run_logdir = os.path.join(os.curdir, \"my_cifar10_logs\", \"run_bn_{:03d}\".format(run_index))\n",
        "tensorboard_cb = keras.callbacks.TensorBoard(run_logdir)\n",
        "callbacks = [early_stopping_cb, model_checkpoint_cb, tensorboard_cb]\n",
        "\n",
        "model.fit(X_train, y_train, epochs=100,\n",
        "          validation_data=(X_valid, y_valid),\n",
        "          callbacks=callbacks)\n",
        "\n",
        "model = keras.models.load_model(\"my_cifar10_bn_model.h5\")\n",
        "model.evaluate(X_valid, y_valid)"
      ]
    },
    {
      "cell_type": "markdown",
      "metadata": {
        "id": "IpA6pehjtQqc"
      },
      "source": [
        "* *Is the model converging faster than before?* Much faster! The previous model took 27 epochs to reach the lowest validation loss, while the new model achieved that same loss in just 5 epochs and continued to make progress until the 16th epoch. The BN layers stabilized training and allowed us to use a much larger learning rate, so convergence was faster.\n",
        "* *Does BN produce a better model?* Yes! The final model is also much better, with 54.0% accuracy instead of 47.6%. It's still not a very good model, but at least it's much better than before (a Convolutional Neural Network would do much better, but that's a different topic, see chapter 14).\n",
        "* *How does BN affect training speed?* Although the model converged much faster, each epoch took about 12s instead of 8s, because of the extra computations required by the BN layers. But overall the training time (wall time) was shortened significantly!"
      ]
    },
    {
      "cell_type": "markdown",
      "metadata": {
        "id": "_h7LydETtQqc"
      },
      "source": [
        "### d.\n",
        "*Exercise: Try replacing Batch Normalization with SELU, and make the necessary adjustements to ensure the network self-normalizes (i.e., standardize the input features, use LeCun normal initialization, make sure the DNN contains only a sequence of dense layers, etc.).*"
      ]
    },
    {
      "cell_type": "code",
      "execution_count": null,
      "metadata": {
        "scrolled": false,
        "id": "wuM-_ZT0tQqc",
        "outputId": "7e7c5c85-6af1-4634-cdbf-d52d1acd0e8e"
      },
      "outputs": [
        {
          "name": "stdout",
          "output_type": "stream",
          "text": [
            "Train on 45000 samples, validate on 5000 samples\n",
            "Epoch 1/100\n",
            " 1248/45000 [..............................] - ETA: 47s - loss: 2.4000 - accuracy: 0.1843 "
          ]
        },
        {
          "name": "stderr",
          "output_type": "stream",
          "text": [
            "2022-03-24 23:59:15.862361: I tensorflow/core/profiler/lib/profiler_session.cc:225] Profiler session started.\n",
            "2022-03-24 23:59:15.862409: E tensorflow/core/profiler/internal/gpu/cupti_tracer.cc:1307] function cupti_interface_->Subscribe( &subscriber_, (CUpti_CallbackFunc)ApiCallback, this)failed with error CUPTI_ERROR_NOT_INITIALIZED\n",
            "2022-03-24 23:59:15.862475: E tensorflow/core/profiler/internal/gpu/cupti_tracer.cc:1346] function cupti_interface_->ActivityRegisterCallbacks( AllocCuptiActivityBuffer, FreeCuptiActivityBuffer)failed with error CUPTI_ERROR_NOT_INITIALIZED\n",
            "2022-03-24 23:59:15.869063: E tensorflow/core/profiler/internal/gpu/cupti_tracer.cc:1329] function cupti_interface_->EnableCallback( 0 , subscriber_, CUPTI_CB_DOMAIN_DRIVER_API, cbid)failed with error CUPTI_ERROR_INVALID_PARAMETER\n",
            "2022-03-24 23:59:15.869077: I tensorflow/core/profiler/internal/gpu/device_tracer.cc:88]  GpuTracer has collected 0 callback api events and 0 activity events.\n"
          ]
        },
        {
          "name": "stdout",
          "output_type": "stream",
          "text": [
            "45000/45000 [==============================] - 7s 159us/sample - loss: 1.9209 - accuracy: 0.3122 - val_loss: 1.8450 - val_accuracy: 0.3432\n",
            "Epoch 2/100\n",
            "45000/45000 [==============================] - 6s 132us/sample - loss: 1.7162 - accuracy: 0.3949 - val_loss: 1.7695 - val_accuracy: 0.3850\n",
            "Epoch 3/100\n",
            "45000/45000 [==============================] - 6s 132us/sample - loss: 1.6112 - accuracy: 0.4307 - val_loss: 1.6483 - val_accuracy: 0.4320\n",
            "Epoch 4/100\n",
            "45000/45000 [==============================] - 6s 132us/sample - loss: 1.5460 - accuracy: 0.4559 - val_loss: 1.5822 - val_accuracy: 0.4426\n",
            "Epoch 5/100\n",
            "45000/45000 [==============================] - 6s 130us/sample - loss: 1.4922 - accuracy: 0.4753 - val_loss: 1.6332 - val_accuracy: 0.4444\n",
            "Epoch 6/100\n",
            "45000/45000 [==============================] - 6s 132us/sample - loss: 1.4466 - accuracy: 0.4945 - val_loss: 1.5442 - val_accuracy: 0.4670\n",
            "Epoch 7/100\n",
            "45000/45000 [==============================] - 6s 131us/sample - loss: 1.4037 - accuracy: 0.5124 - val_loss: 1.5035 - val_accuracy: 0.4694\n",
            "Epoch 8/100\n",
            "45000/45000 [==============================] - 6s 131us/sample - loss: 1.3595 - accuracy: 0.5247 - val_loss: 1.4945 - val_accuracy: 0.4846\n",
            "Epoch 9/100\n",
            "45000/45000 [==============================] - 6s 131us/sample - loss: 1.3244 - accuracy: 0.5395 - val_loss: 1.5294 - val_accuracy: 0.4874\n",
            "Epoch 10/100\n",
            "45000/45000 [==============================] - 6s 131us/sample - loss: 1.2981 - accuracy: 0.5476 - val_loss: 1.5001 - val_accuracy: 0.4770\n",
            "Epoch 11/100\n",
            "45000/45000 [==============================] - 6s 131us/sample - loss: 1.2680 - accuracy: 0.5609 - val_loss: 1.5084 - val_accuracy: 0.4872\n",
            "Epoch 12/100\n",
            "45000/45000 [==============================] - 6s 130us/sample - loss: 1.2424 - accuracy: 0.5700 - val_loss: 1.5198 - val_accuracy: 0.4930\n",
            "Epoch 13/100\n",
            "45000/45000 [==============================] - 6s 131us/sample - loss: 1.2150 - accuracy: 0.5791 - val_loss: 1.4669 - val_accuracy: 0.5034\n",
            "Epoch 14/100\n",
            "45000/45000 [==============================] - 6s 130us/sample - loss: 1.1915 - accuracy: 0.5898 - val_loss: 1.4843 - val_accuracy: 0.5052\n",
            "Epoch 15/100\n",
            "45000/45000 [==============================] - 6s 130us/sample - loss: 1.1603 - accuracy: 0.5981 - val_loss: 1.5632 - val_accuracy: 0.4910\n",
            "Epoch 16/100\n",
            "45000/45000 [==============================] - 6s 132us/sample - loss: 1.1504 - accuracy: 0.6064 - val_loss: 1.4533 - val_accuracy: 0.5190\n",
            "Epoch 17/100\n",
            "45000/45000 [==============================] - 6s 129us/sample - loss: 1.1278 - accuracy: 0.6118 - val_loss: 1.4848 - val_accuracy: 0.5038\n",
            "Epoch 18/100\n",
            "45000/45000 [==============================] - 6s 130us/sample - loss: 1.1026 - accuracy: 0.6215 - val_loss: 1.4751 - val_accuracy: 0.4988\n",
            "Epoch 19/100\n",
            "45000/45000 [==============================] - 6s 130us/sample - loss: 1.0778 - accuracy: 0.6326 - val_loss: 1.5372 - val_accuracy: 0.5160\n",
            "Epoch 20/100\n",
            "45000/45000 [==============================] - 6s 130us/sample - loss: 1.0606 - accuracy: 0.6395 - val_loss: 1.5001 - val_accuracy: 0.5136\n",
            "Epoch 21/100\n",
            "45000/45000 [==============================] - 6s 129us/sample - loss: 1.0444 - accuracy: 0.6438 - val_loss: 1.5735 - val_accuracy: 0.5014\n",
            "Epoch 22/100\n",
            "45000/45000 [==============================] - 6s 130us/sample - loss: 1.0271 - accuracy: 0.6502 - val_loss: 1.5819 - val_accuracy: 0.4934\n",
            "Epoch 23/100\n",
            "45000/45000 [==============================] - 6s 129us/sample - loss: 1.0149 - accuracy: 0.6560 - val_loss: 1.5368 - val_accuracy: 0.5110\n",
            "Epoch 24/100\n",
            "45000/45000 [==============================] - 6s 130us/sample - loss: 0.9867 - accuracy: 0.6657 - val_loss: 1.5731 - val_accuracy: 0.5132\n",
            "Epoch 25/100\n",
            "45000/45000 [==============================] - 6s 130us/sample - loss: 0.9742 - accuracy: 0.6691 - val_loss: 1.5758 - val_accuracy: 0.4992\n",
            "Epoch 26/100\n",
            "45000/45000 [==============================] - 6s 130us/sample - loss: 0.9597 - accuracy: 0.6744 - val_loss: 1.5599 - val_accuracy: 0.5164\n",
            "Epoch 27/100\n",
            "45000/45000 [==============================] - 6s 129us/sample - loss: 16.1174 - accuracy: 0.6326 - val_loss: 1.6227 - val_accuracy: 0.4552\n",
            "Epoch 28/100\n",
            "45000/45000 [==============================] - 6s 130us/sample - loss: 1.1632 - accuracy: 0.6004 - val_loss: 1.5752 - val_accuracy: 0.4840\n",
            "Epoch 29/100\n",
            "45000/45000 [==============================] - 6s 130us/sample - loss: 1.0878 - accuracy: 0.6222 - val_loss: 1.5716 - val_accuracy: 0.4916\n",
            "Epoch 30/100\n",
            "45000/45000 [==============================] - 6s 131us/sample - loss: 1.0357 - accuracy: 0.6411 - val_loss: 1.5886 - val_accuracy: 0.5012\n",
            "Epoch 31/100\n",
            "45000/45000 [==============================] - 6s 131us/sample - loss: 0.9884 - accuracy: 0.6582 - val_loss: 1.6563 - val_accuracy: 0.4956\n",
            "Epoch 32/100\n",
            "45000/45000 [==============================] - 6s 130us/sample - loss: 0.9590 - accuracy: 0.6720 - val_loss: 1.6778 - val_accuracy: 0.5018\n",
            "Epoch 33/100\n",
            "45000/45000 [==============================] - 6s 129us/sample - loss: 0.9286 - accuracy: 0.6844 - val_loss: 1.6258 - val_accuracy: 0.5102\n",
            "Epoch 34/100\n",
            "45000/45000 [==============================] - 6s 129us/sample - loss: 0.9066 - accuracy: 0.6908 - val_loss: 1.6817 - val_accuracy: 0.5058\n",
            "Epoch 35/100\n",
            "45000/45000 [==============================] - 6s 129us/sample - loss: 0.8849 - accuracy: 0.6989 - val_loss: 1.7289 - val_accuracy: 0.5004\n",
            "Epoch 36/100\n",
            "45000/45000 [==============================] - 6s 130us/sample - loss: 0.8724 - accuracy: 0.7046 - val_loss: 1.7051 - val_accuracy: 0.5134\n",
            "5000/5000 [==============================] - 0s 54us/sample - loss: 1.4533 - accuracy: 0.5190\n"
          ]
        },
        {
          "data": {
            "text/plain": [
              "[1.453260217666626, 0.519]"
            ]
          },
          "execution_count": 136,
          "metadata": {},
          "output_type": "execute_result"
        }
      ],
      "source": [
        "keras.backend.clear_session()\n",
        "tf.random.set_seed(42)\n",
        "np.random.seed(42)\n",
        "\n",
        "model = keras.models.Sequential()\n",
        "model.add(keras.layers.Flatten(input_shape=[32, 32, 3]))\n",
        "for _ in range(20):\n",
        "    model.add(keras.layers.Dense(100,\n",
        "                                 kernel_initializer=\"lecun_normal\",\n",
        "                                 activation=\"selu\"))\n",
        "model.add(keras.layers.Dense(10, activation=\"softmax\"))\n",
        "\n",
        "optimizer = keras.optimizers.Nadam(learning_rate=7e-4)\n",
        "model.compile(loss=\"sparse_categorical_crossentropy\",\n",
        "              optimizer=optimizer,\n",
        "              metrics=[\"accuracy\"])\n",
        "\n",
        "early_stopping_cb = keras.callbacks.EarlyStopping(patience=20)\n",
        "model_checkpoint_cb = keras.callbacks.ModelCheckpoint(\"my_cifar10_selu_model.h5\", save_best_only=True)\n",
        "run_index = 1 # increment every time you train the model\n",
        "run_logdir = os.path.join(os.curdir, \"my_cifar10_logs\", \"run_selu_{:03d}\".format(run_index))\n",
        "tensorboard_cb = keras.callbacks.TensorBoard(run_logdir)\n",
        "callbacks = [early_stopping_cb, model_checkpoint_cb, tensorboard_cb]\n",
        "\n",
        "X_means = X_train.mean(axis=0)\n",
        "X_stds = X_train.std(axis=0)\n",
        "X_train_scaled = (X_train - X_means) / X_stds\n",
        "X_valid_scaled = (X_valid - X_means) / X_stds\n",
        "X_test_scaled = (X_test - X_means) / X_stds\n",
        "\n",
        "model.fit(X_train_scaled, y_train, epochs=100,\n",
        "          validation_data=(X_valid_scaled, y_valid),\n",
        "          callbacks=callbacks)\n",
        "\n",
        "model = keras.models.load_model(\"my_cifar10_selu_model.h5\")\n",
        "model.evaluate(X_valid_scaled, y_valid)"
      ]
    },
    {
      "cell_type": "code",
      "execution_count": null,
      "metadata": {
        "id": "TTna618ttQqd",
        "outputId": "d70b2a49-3c7a-441f-8d0c-bc23df6042f4"
      },
      "outputs": [
        {
          "name": "stdout",
          "output_type": "stream",
          "text": [
            "5000/5000 [==============================] - 0s 54us/sample - loss: 1.4533 - accuracy: 0.5190\n"
          ]
        },
        {
          "data": {
            "text/plain": [
              "[1.453260217666626, 0.519]"
            ]
          },
          "execution_count": 137,
          "metadata": {},
          "output_type": "execute_result"
        }
      ],
      "source": [
        "model = keras.models.load_model(\"my_cifar10_selu_model.h5\")\n",
        "model.evaluate(X_valid_scaled, y_valid)"
      ]
    },
    {
      "cell_type": "markdown",
      "metadata": {
        "id": "_xMKe5YKtQqd"
      },
      "source": [
        "We get 47.9% accuracy, which is not much better than the original model (47.6%), and not as good as the model using batch normalization (54.0%). However, convergence was almost as fast as with the BN model, plus each epoch took only 7 seconds. So it's by far the fastest model to train so far."
      ]
    },
    {
      "cell_type": "markdown",
      "metadata": {
        "id": "g-1IH-citQqd"
      },
      "source": [
        "### e.\n",
        "*Exercise: Try regularizing the model with alpha dropout. Then, without retraining your model, see if you can achieve better accuracy using MC Dropout.*"
      ]
    },
    {
      "cell_type": "code",
      "execution_count": null,
      "metadata": {
        "id": "fqk5AmwWtQqd",
        "outputId": "d5617b7f-9461-4467-d37c-57e385490013"
      },
      "outputs": [
        {
          "name": "stdout",
          "output_type": "stream",
          "text": [
            "Train on 45000 samples, validate on 5000 samples\n",
            "Epoch 1/100\n",
            " 1184/45000 [..............................] - ETA: 52s - loss: 2.5015 - accuracy: 0.1782 "
          ]
        },
        {
          "name": "stderr",
          "output_type": "stream",
          "text": [
            "2022-03-25 00:02:53.684089: I tensorflow/core/profiler/lib/profiler_session.cc:225] Profiler session started.\n",
            "2022-03-25 00:02:53.684169: E tensorflow/core/profiler/internal/gpu/cupti_tracer.cc:1307] function cupti_interface_->Subscribe( &subscriber_, (CUpti_CallbackFunc)ApiCallback, this)failed with error CUPTI_ERROR_NOT_INITIALIZED\n",
            "2022-03-25 00:02:53.684236: E tensorflow/core/profiler/internal/gpu/cupti_tracer.cc:1346] function cupti_interface_->ActivityRegisterCallbacks( AllocCuptiActivityBuffer, FreeCuptiActivityBuffer)failed with error CUPTI_ERROR_NOT_INITIALIZED\n",
            "2022-03-25 00:02:53.690905: E tensorflow/core/profiler/internal/gpu/cupti_tracer.cc:1329] function cupti_interface_->EnableCallback( 0 , subscriber_, CUPTI_CB_DOMAIN_DRIVER_API, cbid)failed with error CUPTI_ERROR_INVALID_PARAMETER\n",
            "2022-03-25 00:02:53.690920: I tensorflow/core/profiler/internal/gpu/device_tracer.cc:88]  GpuTracer has collected 0 callback api events and 0 activity events.\n"
          ]
        },
        {
          "name": "stdout",
          "output_type": "stream",
          "text": [
            "45000/45000 [==============================] - 7s 161us/sample - loss: 1.8858 - accuracy: 0.3300 - val_loss: 1.7636 - val_accuracy: 0.3900\n",
            "Epoch 2/100\n",
            "45000/45000 [==============================] - 6s 132us/sample - loss: 1.6577 - accuracy: 0.4150 - val_loss: 1.7482 - val_accuracy: 0.4004\n",
            "Epoch 3/100\n",
            "45000/45000 [==============================] - 6s 133us/sample - loss: 1.5695 - accuracy: 0.4480 - val_loss: 1.6937 - val_accuracy: 0.4446\n",
            "Epoch 4/100\n",
            "45000/45000 [==============================] - 6s 133us/sample - loss: 1.5003 - accuracy: 0.4752 - val_loss: 1.6027 - val_accuracy: 0.4540\n",
            "Epoch 5/100\n",
            "45000/45000 [==============================] - 6s 133us/sample - loss: 1.4450 - accuracy: 0.4946 - val_loss: 1.5520 - val_accuracy: 0.4644\n",
            "Epoch 6/100\n",
            "45000/45000 [==============================] - 6s 134us/sample - loss: 1.4032 - accuracy: 0.5082 - val_loss: 1.4990 - val_accuracy: 0.4796\n",
            "Epoch 7/100\n",
            "45000/45000 [==============================] - 6s 131us/sample - loss: 1.3631 - accuracy: 0.5231 - val_loss: 1.5093 - val_accuracy: 0.4804\n",
            "Epoch 8/100\n",
            "45000/45000 [==============================] - 6s 130us/sample - loss: 1.3232 - accuracy: 0.5398 - val_loss: 1.5594 - val_accuracy: 0.4868\n",
            "Epoch 9/100\n",
            "45000/45000 [==============================] - 6s 130us/sample - loss: 1.2873 - accuracy: 0.5501 - val_loss: 1.6060 - val_accuracy: 0.4938\n",
            "Epoch 10/100\n",
            "45000/45000 [==============================] - 6s 132us/sample - loss: 1.2555 - accuracy: 0.5650 - val_loss: 1.5741 - val_accuracy: 0.4926\n",
            "Epoch 11/100\n",
            "45000/45000 [==============================] - 6s 131us/sample - loss: 1.2196 - accuracy: 0.5760 - val_loss: 1.6112 - val_accuracy: 0.4946\n",
            "Epoch 12/100\n",
            "45000/45000 [==============================] - 6s 130us/sample - loss: 1.1886 - accuracy: 0.5882 - val_loss: 1.6310 - val_accuracy: 0.4898\n",
            "Epoch 13/100\n",
            "45000/45000 [==============================] - 6s 131us/sample - loss: 1.1678 - accuracy: 0.5961 - val_loss: 1.5602 - val_accuracy: 0.5098\n",
            "Epoch 14/100\n",
            "45000/45000 [==============================] - 6s 130us/sample - loss: 1.1412 - accuracy: 0.6062 - val_loss: 1.6127 - val_accuracy: 0.4940\n",
            "Epoch 15/100\n",
            "45000/45000 [==============================] - 6s 131us/sample - loss: 1.1122 - accuracy: 0.6159 - val_loss: 1.6033 - val_accuracy: 0.4930\n",
            "Epoch 16/100\n",
            "45000/45000 [==============================] - 6s 131us/sample - loss: 1.0920 - accuracy: 0.6230 - val_loss: 1.5991 - val_accuracy: 0.5074\n",
            "Epoch 17/100\n",
            "45000/45000 [==============================] - 6s 131us/sample - loss: 1.0741 - accuracy: 0.6292 - val_loss: 1.6000 - val_accuracy: 0.5018\n",
            "Epoch 18/100\n",
            "45000/45000 [==============================] - 6s 130us/sample - loss: 1.0421 - accuracy: 0.6409 - val_loss: 1.6049 - val_accuracy: 0.5040\n",
            "Epoch 19/100\n",
            "45000/45000 [==============================] - 6s 131us/sample - loss: 1.0223 - accuracy: 0.6488 - val_loss: 1.6691 - val_accuracy: 0.5132\n",
            "Epoch 20/100\n",
            "45000/45000 [==============================] - 6s 132us/sample - loss: 1.0054 - accuracy: 0.6557 - val_loss: 1.5882 - val_accuracy: 0.5094\n",
            "Epoch 21/100\n",
            "45000/45000 [==============================] - 6s 130us/sample - loss: 0.9877 - accuracy: 0.6630 - val_loss: 1.7287 - val_accuracy: 0.5048\n",
            "Epoch 22/100\n",
            "45000/45000 [==============================] - 6s 131us/sample - loss: 0.9635 - accuracy: 0.6710 - val_loss: 1.7355 - val_accuracy: 0.5058\n",
            "Epoch 23/100\n",
            "45000/45000 [==============================] - 6s 131us/sample - loss: 0.9468 - accuracy: 0.6773 - val_loss: 1.7398 - val_accuracy: 0.5126\n",
            "Epoch 24/100\n",
            "45000/45000 [==============================] - 6s 131us/sample - loss: 0.9322 - accuracy: 0.6805 - val_loss: 1.6907 - val_accuracy: 0.5086\n",
            "Epoch 25/100\n",
            "45000/45000 [==============================] - 6s 131us/sample - loss: 0.9121 - accuracy: 0.6897 - val_loss: 1.7976 - val_accuracy: 0.5098\n",
            "Epoch 26/100\n",
            "45000/45000 [==============================] - 6s 130us/sample - loss: 0.9002 - accuracy: 0.6923 - val_loss: 1.7212 - val_accuracy: 0.5064\n",
            "5000/5000 [==============================] - 0s 56us/sample - loss: 1.4990 - accuracy: 0.4796\n"
          ]
        },
        {
          "data": {
            "text/plain": [
              "[1.4990351644515991, 0.4796]"
            ]
          },
          "execution_count": 138,
          "metadata": {},
          "output_type": "execute_result"
        }
      ],
      "source": [
        "keras.backend.clear_session()\n",
        "tf.random.set_seed(42)\n",
        "np.random.seed(42)\n",
        "\n",
        "model = keras.models.Sequential()\n",
        "model.add(keras.layers.Flatten(input_shape=[32, 32, 3]))\n",
        "for _ in range(20):\n",
        "    model.add(keras.layers.Dense(100,\n",
        "                                 kernel_initializer=\"lecun_normal\",\n",
        "                                 activation=\"selu\"))\n",
        "\n",
        "model.add(keras.layers.AlphaDropout(rate=0.1))\n",
        "model.add(keras.layers.Dense(10, activation=\"softmax\"))\n",
        "\n",
        "optimizer = keras.optimizers.Nadam(learning_rate=5e-4)\n",
        "model.compile(loss=\"sparse_categorical_crossentropy\",\n",
        "              optimizer=optimizer,\n",
        "              metrics=[\"accuracy\"])\n",
        "\n",
        "early_stopping_cb = keras.callbacks.EarlyStopping(patience=20)\n",
        "model_checkpoint_cb = keras.callbacks.ModelCheckpoint(\"my_cifar10_alpha_dropout_model.h5\", save_best_only=True)\n",
        "run_index = 1 # increment every time you train the model\n",
        "run_logdir = os.path.join(os.curdir, \"my_cifar10_logs\", \"run_alpha_dropout_{:03d}\".format(run_index))\n",
        "tensorboard_cb = keras.callbacks.TensorBoard(run_logdir)\n",
        "callbacks = [early_stopping_cb, model_checkpoint_cb, tensorboard_cb]\n",
        "\n",
        "X_means = X_train.mean(axis=0)\n",
        "X_stds = X_train.std(axis=0)\n",
        "X_train_scaled = (X_train - X_means) / X_stds\n",
        "X_valid_scaled = (X_valid - X_means) / X_stds\n",
        "X_test_scaled = (X_test - X_means) / X_stds\n",
        "\n",
        "model.fit(X_train_scaled, y_train, epochs=100,\n",
        "          validation_data=(X_valid_scaled, y_valid),\n",
        "          callbacks=callbacks)\n",
        "\n",
        "model = keras.models.load_model(\"my_cifar10_alpha_dropout_model.h5\")\n",
        "model.evaluate(X_valid_scaled, y_valid)"
      ]
    },
    {
      "cell_type": "markdown",
      "metadata": {
        "id": "fdZAosoMtQqe"
      },
      "source": [
        "The model reaches 48.9% accuracy on the validation set. That's very slightly better than without dropout (47.6%). With an extensive hyperparameter search, it might be possible to do better (I tried dropout rates of 5%, 10%, 20% and 40%, and learning rates 1e-4, 3e-4, 5e-4, and 1e-3), but probably not much better in this case."
      ]
    },
    {
      "cell_type": "markdown",
      "metadata": {
        "id": "i8Z5wSgZtQqe"
      },
      "source": [
        "Let's use MC Dropout now. We will need the `MCAlphaDropout` class we used earlier, so let's just copy it here for convenience:"
      ]
    },
    {
      "cell_type": "code",
      "execution_count": null,
      "metadata": {
        "id": "tGgv1Ol1tQqe"
      },
      "outputs": [],
      "source": [
        "class MCAlphaDropout(keras.layers.AlphaDropout):\n",
        "    def call(self, inputs):\n",
        "        return super().call(inputs, training=True)"
      ]
    },
    {
      "cell_type": "markdown",
      "metadata": {
        "id": "GjLRrz1OtQqe"
      },
      "source": [
        "Now let's create a new model, identical to the one we just trained (with the same weights), but with `MCAlphaDropout` dropout layers instead of `AlphaDropout` layers:"
      ]
    },
    {
      "cell_type": "code",
      "execution_count": null,
      "metadata": {
        "id": "fnGQeIqktQqe",
        "outputId": "85c636f8-d0ee-4fde-c3ac-74311e5c7f94"
      },
      "outputs": [
        {
          "name": "stdout",
          "output_type": "stream",
          "text": [
            "WARNING:tensorflow:AutoGraph could not transform <bound method MCAlphaDropout.call of <__main__.MCAlphaDropout object at 0x7ff684064110>> and will run it as-is.\n",
            "Please report this to the TensorFlow team. When filing the bug, set the verbosity to 10 (on Linux, `export AUTOGRAPH_VERBOSITY=10`) and attach the full output.\n",
            "Cause: No module named 'tensorflow_core.estimator'\n",
            "WARNING: AutoGraph could not transform <bound method MCAlphaDropout.call of <__main__.MCAlphaDropout object at 0x7ff684064110>> and will run it as-is.\n",
            "Please report this to the TensorFlow team. When filing the bug, set the verbosity to 10 (on Linux, `export AUTOGRAPH_VERBOSITY=10`) and attach the full output.\n",
            "Cause: No module named 'tensorflow_core.estimator'\n"
          ]
        }
      ],
      "source": [
        "mc_model = keras.models.Sequential([\n",
        "    MCAlphaDropout(layer.rate) if isinstance(layer, keras.layers.AlphaDropout) else layer\n",
        "    for layer in model.layers\n",
        "])"
      ]
    },
    {
      "cell_type": "markdown",
      "metadata": {
        "id": "71U1D537tQqe"
      },
      "source": [
        "Then let's add a couple utility functions. The first will run the model many times (10 by default) and it will return the mean predicted class probabilities. The second will use these mean probabilities to predict the most likely class for each instance:"
      ]
    },
    {
      "cell_type": "code",
      "execution_count": null,
      "metadata": {
        "id": "kGc3QxdMtQqf"
      },
      "outputs": [],
      "source": [
        "def mc_dropout_predict_probas(mc_model, X, n_samples=10):\n",
        "    Y_probas = [mc_model.predict(X) for sample in range(n_samples)]\n",
        "    return np.mean(Y_probas, axis=0)\n",
        "\n",
        "def mc_dropout_predict_classes(mc_model, X, n_samples=10):\n",
        "    Y_probas = mc_dropout_predict_probas(mc_model, X, n_samples)\n",
        "    return np.argmax(Y_probas, axis=1)"
      ]
    },
    {
      "cell_type": "markdown",
      "metadata": {
        "id": "RjsuT2X8tQqf"
      },
      "source": [
        "Now let's make predictions for all the instances in the validation set, and compute the accuracy:"
      ]
    },
    {
      "cell_type": "code",
      "execution_count": null,
      "metadata": {
        "id": "TCPYY_nrtQqf",
        "outputId": "6bee833c-e812-4e8f-899a-c7855a7c5109"
      },
      "outputs": [
        {
          "data": {
            "text/plain": [
              "0.481"
            ]
          },
          "execution_count": 142,
          "metadata": {},
          "output_type": "execute_result"
        }
      ],
      "source": [
        "keras.backend.clear_session()\n",
        "tf.random.set_seed(42)\n",
        "np.random.seed(42)\n",
        "\n",
        "y_pred = mc_dropout_predict_classes(mc_model, X_valid_scaled)\n",
        "accuracy = np.mean(y_pred == y_valid[:, 0])\n",
        "accuracy"
      ]
    },
    {
      "cell_type": "markdown",
      "metadata": {
        "id": "fIBysy_ftQqf"
      },
      "source": [
        "We get no accuracy improvement in this case (we're still at 48.9% accuracy).\n",
        "\n",
        "So the best model we got in this exercise is the Batch Normalization model."
      ]
    },
    {
      "cell_type": "markdown",
      "metadata": {
        "id": "dY1_bzWftQqf"
      },
      "source": [
        "### f.\n",
        "*Exercise: Retrain your model using 1cycle scheduling and see if it improves training speed and model accuracy.*"
      ]
    },
    {
      "cell_type": "code",
      "execution_count": null,
      "metadata": {
        "id": "NmGIZXtdtQqf"
      },
      "outputs": [],
      "source": [
        "keras.backend.clear_session()\n",
        "tf.random.set_seed(42)\n",
        "np.random.seed(42)\n",
        "\n",
        "model = keras.models.Sequential()\n",
        "model.add(keras.layers.Flatten(input_shape=[32, 32, 3]))\n",
        "for _ in range(20):\n",
        "    model.add(keras.layers.Dense(100,\n",
        "                                 kernel_initializer=\"lecun_normal\",\n",
        "                                 activation=\"selu\"))\n",
        "\n",
        "model.add(keras.layers.AlphaDropout(rate=0.1))\n",
        "model.add(keras.layers.Dense(10, activation=\"softmax\"))\n",
        "\n",
        "optimizer = keras.optimizers.SGD(learning_rate=1e-3)\n",
        "model.compile(loss=\"sparse_categorical_crossentropy\",\n",
        "              optimizer=optimizer,\n",
        "              metrics=[\"accuracy\"])"
      ]
    },
    {
      "cell_type": "code",
      "execution_count": null,
      "metadata": {
        "id": "AFLXARUitQqg",
        "outputId": "c6d91993-43ef-41cd-9736-1fa9787e45de"
      },
      "outputs": [
        {
          "name": "stdout",
          "output_type": "stream",
          "text": [
            "Train on 45000 samples\n",
            "45000/45000 [==============================] - 1s 33us/sample - loss: nan - accuracy: 0.1391\n"
          ]
        },
        {
          "data": {
            "text/plain": [
              "(9.999999747378752e-06,\n",
              " 9.615227699279785,\n",
              " 2.0696592330932617,\n",
              " 3.4678939410618375)"
            ]
          },
          "execution_count": 144,
          "metadata": {},
          "output_type": "execute_result"
        },
        {
          "data": {
            "image/png": "[encoded data removed]",
            "text/plain": [
              "<Figure size 432x288 with 1 Axes>"
            ]
          },
          "metadata": {
            "needs_background": "light"
          },
          "output_type": "display_data"
        }
      ],
      "source": [
        "batch_size = 128\n",
        "rates, losses = find_learning_rate(model, X_train_scaled, y_train, epochs=1, batch_size=batch_size)\n",
        "plot_lr_vs_loss(rates, losses)\n",
        "plt.axis([min(rates), max(rates), min(losses), (losses[0] + min(losses)) / 1.4])"
      ]
    },
    {
      "cell_type": "code",
      "execution_count": null,
      "metadata": {
        "id": "E6z2MTXCtQqg"
      },
      "outputs": [],
      "source": [
        "keras.backend.clear_session()\n",
        "tf.random.set_seed(42)\n",
        "np.random.seed(42)\n",
        "\n",
        "model = keras.models.Sequential()\n",
        "model.add(keras.layers.Flatten(input_shape=[32, 32, 3]))\n",
        "for _ in range(20):\n",
        "    model.add(keras.layers.Dense(100,\n",
        "                                 kernel_initializer=\"lecun_normal\",\n",
        "                                 activation=\"selu\"))\n",
        "\n",
        "model.add(keras.layers.AlphaDropout(rate=0.1))\n",
        "model.add(keras.layers.Dense(10, activation=\"softmax\"))\n",
        "\n",
        "optimizer = keras.optimizers.SGD(learning_rate=1e-2)\n",
        "model.compile(loss=\"sparse_categorical_crossentropy\",\n",
        "              optimizer=optimizer,\n",
        "              metrics=[\"accuracy\"])"
      ]
    },
    {
      "cell_type": "code",
      "execution_count": null,
      "metadata": {
        "id": "mIM8GUD_tQqg",
        "outputId": "74c02de9-9d3b-4f6e-af35-f771c93457ae"
      },
      "outputs": [
        {
          "name": "stdout",
          "output_type": "stream",
          "text": [
            "Train on 45000 samples, validate on 5000 samples\n",
            "Epoch 1/15\n",
            "45000/45000 [==============================] - 2s 35us/sample - loss: 2.0586 - accuracy: 0.2789 - val_loss: 1.7628 - val_accuracy: 0.3718\n",
            "Epoch 2/15\n",
            "45000/45000 [==============================] - 1s 27us/sample - loss: 1.7646 - accuracy: 0.3733 - val_loss: 1.7318 - val_accuracy: 0.4006\n",
            "Epoch 3/15\n",
            "45000/45000 [==============================] - 1s 27us/sample - loss: 1.6235 - accuracy: 0.4262 - val_loss: 1.6721 - val_accuracy: 0.4250\n",
            "Epoch 4/15\n",
            "45000/45000 [==============================] - 1s 27us/sample - loss: 1.5454 - accuracy: 0.4516 - val_loss: 1.6204 - val_accuracy: 0.4428\n",
            "Epoch 5/15\n",
            "45000/45000 [==============================] - 1s 26us/sample - loss: 1.4892 - accuracy: 0.4725 - val_loss: 1.5448 - val_accuracy: 0.4492\n",
            "Epoch 6/15\n",
            "45000/45000 [==============================] - 1s 26us/sample - loss: 1.4436 - accuracy: 0.4867 - val_loss: 1.6019 - val_accuracy: 0.4556\n",
            "Epoch 7/15\n",
            "45000/45000 [==============================] - 1s 27us/sample - loss: 1.4128 - accuracy: 0.5011 - val_loss: 1.6630 - val_accuracy: 0.4382\n",
            "Epoch 8/15\n",
            "45000/45000 [==============================] - 1s 26us/sample - loss: 1.3442 - accuracy: 0.5225 - val_loss: 1.5341 - val_accuracy: 0.4850\n",
            "Epoch 9/15\n",
            "45000/45000 [==============================] - 1s 27us/sample - loss: 1.2673 - accuracy: 0.5480 - val_loss: 1.5414 - val_accuracy: 0.5016\n",
            "Epoch 10/15\n",
            "45000/45000 [==============================] - 1s 27us/sample - loss: 1.1989 - accuracy: 0.5723 - val_loss: 1.5294 - val_accuracy: 0.4888\n",
            "Epoch 11/15\n",
            "45000/45000 [==============================] - 1s 27us/sample - loss: 1.1298 - accuracy: 0.5962 - val_loss: 1.5526 - val_accuracy: 0.5034\n",
            "Epoch 12/15\n",
            "45000/45000 [==============================] - 1s 27us/sample - loss: 1.0620 - accuracy: 0.6205 - val_loss: 1.5227 - val_accuracy: 0.5154\n",
            "Epoch 13/15\n",
            "45000/45000 [==============================] - 1s 27us/sample - loss: 0.9899 - accuracy: 0.6468 - val_loss: 1.5223 - val_accuracy: 0.5206\n",
            "Epoch 14/15\n",
            "45000/45000 [==============================] - 1s 26us/sample - loss: 0.9248 - accuracy: 0.6697 - val_loss: 1.5504 - val_accuracy: 0.5254\n",
            "Epoch 15/15\n",
            "45000/45000 [==============================] - 1s 27us/sample - loss: 0.8834 - accuracy: 0.6862 - val_loss: 1.5744 - val_accuracy: 0.5288\n"
          ]
        }
      ],
      "source": [
        "n_epochs = 15\n",
        "onecycle = OneCycleScheduler(math.ceil(len(X_train_scaled) / batch_size) * n_epochs, max_rate=0.05)\n",
        "history = model.fit(X_train_scaled, y_train, epochs=n_epochs, batch_size=batch_size,\n",
        "                    validation_data=(X_valid_scaled, y_valid),\n",
        "                    callbacks=[onecycle])"
      ]
    },
    {
      "cell_type": "markdown",
      "metadata": {
        "id": "XlxzIZijtQqh"
      },
      "source": [
        "One cycle allowed us to train the model in just 15 epochs, each taking only 2 seconds (thanks to the larger batch size). This is several times faster than the fastest model we trained so far. Moreover, we improved the model's performance (from 47.6% to 52.0%). The batch normalized model reaches a slightly better performance (54%), but it's much slower to train."
      ]
    },
    {
      "cell_type": "code",
      "execution_count": null,
      "metadata": {
        "id": "6SJYqoNAtQqh"
      },
      "outputs": [],
      "source": [
        ""
      ]
    }
  ],
  "metadata": {
    "kernelspec": {
      "display_name": "gender",
      "language": "python",
      "name": "gender"
    },
    "language_info": {
      "codemirror_mode": {
        "name": "ipython",
        "version": 3
      },
      "file_extension": ".py",
      "mimetype": "text/x-python",
      "name": "python",
      "nbconvert_exporter": "python",
      "pygments_lexer": "ipython3",
      "version": "3.7.11"
    },
    "nav_menu": {
      "height": "360px",
      "width": "416px"
    },
    "toc": {
      "navigate_menu": true,
      "number_sections": true,
      "sideBar": true,
      "threshold": 6,
      "toc_cell": false,
      "toc_section_display": "block",
      "toc_window_display": false
    },
    "colab": {
      "name": "Lab10.ipynb",
      "provenance": []
    }
  },
  "nbformat": 4,
  "nbformat_minor": 0
}